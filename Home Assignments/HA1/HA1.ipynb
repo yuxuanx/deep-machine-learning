{
 "cells": [
  {
   "cell_type": "markdown",
   "metadata": {},
   "source": [
    "### Checklist for submission\n",
    "\n",
    "It is extremely important to make sure that:\n",
    "\n",
    "1. Everything runs as expected (no bugs when running cells);\n",
    "2. The output from each cell corresponds to its code (don't change any cell's contents without rerunning it afterwards);\n",
    "3. All outputs are present (don't delete any of the outputs);\n",
    "4. Fill in all the places that say `YOUR CODE HERE`, or \"**Your answer:** (fill in here)\".\n",
    "5. You **ONLY** change the parts of the code we asked you to, nowhere else (change only the coding parts saying `# YOUR CODE HERE`, nothing else);\n",
    "6. Don't add any new cells to this notebook;\n",
    "7. Fill in your group number and the full names of the members in the cell below;\n",
    "8. Make sure that you are not running an old version of IPython (we provide you with a cell that checks this, make sure you can run it without errors).\n",
    "\n",
    "Failing to meet any of these requirements might lead to either a subtraction of POEs (at best) or a request for resubmission (at worst).\n",
    "\n",
    "We advise you the following steps before submission for ensuring that requirements 1, 2, and 3 are always met: **Restart the kernel** (in the menubar, select Kernel$\\rightarrow$Restart) and then **run all cells** (in the menubar, select Cell$\\rightarrow$Run All). This might require a bit of time, so plan ahead for this (and possibly use Google Cloud's GPU in HA1 and HA2 for this step). Finally press the \"Save and Checkout\" button before handing in, to make sure that all your changes are saved to this .ipynb file."
   ]
  },
  {
   "cell_type": "markdown",
   "metadata": {},
   "source": [
    "---\n",
    "\n",
    "Group number and member names:"
   ]
  },
  {
   "cell_type": "code",
   "execution_count": 1,
   "metadata": {},
   "outputs": [],
   "source": [
    "GROUP = \"27\"\n",
    "NAME1 = \"Chao Fang\"\n",
    "NAME2 = \"Yuxuan Xia\""
   ]
  },
  {
   "cell_type": "markdown",
   "metadata": {},
   "source": [
    "Make sure you can run the following cell without errors."
   ]
  },
  {
   "cell_type": "code",
   "execution_count": 2,
   "metadata": {},
   "outputs": [],
   "source": [
    "import IPython\n",
    "assert IPython.version_info[0] >= 3, \"Your version of IPython is too old, please update it.\""
   ]
  },
  {
   "cell_type": "markdown",
   "metadata": {},
   "source": [
    "---"
   ]
  },
  {
   "cell_type": "markdown",
   "metadata": {
    "deletable": false,
    "editable": false,
    "nbgrader": {
     "checksum": "f0dd7cbad727dec0308b03071cff6d79",
     "grade": false,
     "grade_id": "cell-8092c3fd452a3245",
     "locked": true,
     "schema_version": 1,
     "solution": false
    }
   },
   "source": [
    "# HA1 - Cats and dogs"
   ]
  },
  {
   "cell_type": "markdown",
   "metadata": {
    "deletable": false,
    "editable": false,
    "nbgrader": {
     "checksum": "87ccf483a45725dd262468c44d2acbae",
     "grade": false,
     "grade_id": "cell-0235e816fc98b0f6",
     "locked": true,
     "schema_version": 1,
     "solution": false
    }
   },
   "source": [
    "<img src=\"http://lghttp.32478.nexcesscdn.net/80E972/organiclifestylemagazine/wp-content/uploads/2015/10/Cats-and-Dogs.jpg\" alt=\"Cats and dogs\" style=\"width: 5000px;\"/>"
   ]
  },
  {
   "cell_type": "markdown",
   "metadata": {
    "deletable": false,
    "editable": false,
    "nbgrader": {
     "checksum": "e42d5a9a7b415bb217a6b890b6f07c84",
     "grade": false,
     "grade_id": "cell-c4bb694612153106",
     "locked": true,
     "schema_version": 1,
     "solution": false
    }
   },
   "source": [
    "For this home assignment, we'll use the Kaggle dataset for the [Dogs vs. Cats competition](https://www.kaggle.com/c/dogs-vs-cats). It is comprised of 25k colored images of dogs and cats. Our goal with this dataset will be to create a classifier that can tell us if the input image is of a cat or a dog."
   ]
  },
  {
   "cell_type": "markdown",
   "metadata": {},
   "source": [
    "As a way of helping you speed up the training process, each group gets 6 hours of access to an instance in Google Cloud with a K80 GPU. Take a look at the [Instructions folder](https://github.com/JulianoLagana/deep-machine-learning/tree/master/Instructions) to understand how to connect to this instance and use our tools there. You're free to use this resource as you see fit, but if you run out of hours you'll need a late day to obtain more (and you can only do this once).\n",
    "\n",
    "In order to make the most out of your GPU hours, first try solving the initial part of this notebook (tasks 0-4) in your own computer (these tasks can be solved only on the CPU), and leave most of the available hours for solving tasks 5-6, and refining your best model further (and, if you have the spare hours, experiment a bit!)."
   ]
  },
  {
   "cell_type": "markdown",
   "metadata": {
    "deletable": false,
    "editable": false,
    "nbgrader": {
     "checksum": "ba437754e558ff25301e1526ca957f4b",
     "grade": false,
     "grade_id": "cell-f7371c24b57c153e",
     "locked": true,
     "schema_version": 1,
     "solution": false
    }
   },
   "source": [
    "Requirements:\n",
    "- Whenever we ask you to plot anything, be sure to add a title and label the axes. If you're plotting more than one curve in the same plot, also add a legend.\n",
    "- When we ask you to train an architecture, train it for a reasonable number of epochs. \"Reasonable\" here means you should be fairly confident that training for a higher number of epochs wouldn't impact your conclusions regarding the model's performance.\n",
    "\n",
    "Tips:\n",
    "- If you get errors saying you've exhausted the GPU resources, well, then you exhausted the GPU resources ;). However, sometimes that's because TensorFlow didn't release a part of the GPU's memory. If you think your CNN should fit in your memory during training, try restarting the kernel and directly training only that architecture.\n",
    "- Every group has enough credits on google cloud to complete this assignment. However, this statement assumes you'll use your resources judiciously (e.g. always try the code first in your machine and make sure everything works properly before starting your instances) and **won't forget to stop your instance after using it,**  otherwise you might run out of credits.\n",
    "- Before starting, take a look at the images we'll be using. This is a hard task, don't get discouraged if your first models perform poorly (several participants in the original competition didn't achieve an accuracy higher than 60%)."
   ]
  },
  {
   "cell_type": "markdown",
   "metadata": {
    "deletable": false,
    "editable": false,
    "nbgrader": {
     "checksum": "9f50e27a30d83bcebeb52a8ae43228e2",
     "grade": false,
     "grade_id": "cell-3ee6d24346a80d85",
     "locked": true,
     "schema_version": 1,
     "solution": false
    }
   },
   "source": [
    "---\n",
    "## 0. Imports\n",
    "\n",
    "In the following cell, add all the imports you'll use in this assignment."
   ]
  },
  {
   "cell_type": "code",
   "execution_count": 2,
   "metadata": {
    "deletable": false,
    "nbgrader": {
     "checksum": "0075c816ac7a24f2287d6fa9b8a81565",
     "grade": true,
     "grade_id": "cell-464a08ede00083a4",
     "locked": false,
     "points": 0,
     "schema_version": 1,
     "solution": true
    }
   },
   "outputs": [
    {
     "name": "stderr",
     "output_type": "stream",
     "text": [
      "Using TensorFlow backend.\n"
     ]
    }
   ],
   "source": [
    "# YOUR CODE HERE\n",
    "# Data preprocessing\n",
    "import os, cv2, re, random\n",
    "import pandas as pd\n",
    "from tqdm import *\n",
    "from keras.preprocessing.image import ImageDataGenerator, img_to_array, load_img\n",
    "\n",
    "# Packages for defining the architecture of our model\n",
    "from keras.models import Sequential, load_model\n",
    "from keras.layers import Dense, Flatten, BatchNormalization, Dropout, Activation, regularizers\n",
    "from keras.layers.convolutional import Conv2D, MaxPooling2D\n",
    "from keras.constraints import max_norm\n",
    "from keras import optimizers\n",
    "\n",
    "# One-hot encoding\n",
    "from keras.utils import np_utils\n",
    "\n",
    "# Callbacks for training\n",
    "from keras.callbacks import TensorBoard, EarlyStopping, Callback, LearningRateScheduler\n",
    "\n",
    "# Ploting\n",
    "import matplotlib.pyplot as plt\n",
    "\n",
    "# Ndarray computations\n",
    "import numpy as np\n",
    "import math\n",
    "# Confusion matrix for assessment step\n",
    "from sklearn.metrics import confusion_matrix\n",
    "\n",
    "# Using VGG 16\n",
    "from keras.applications.vgg16 import VGG16\n",
    "from keras.models import Model\n",
    "from keras.layers import GlobalAveragePooling2D\n",
    "\n",
    "\n"
   ]
  },
  {
   "cell_type": "markdown",
   "metadata": {
    "deletable": false,
    "editable": false,
    "nbgrader": {
     "checksum": "49bf801d5ced99ccf6f0c5cd12100230",
     "grade": false,
     "grade_id": "cell-4821dc273028d702",
     "locked": true,
     "schema_version": 1,
     "solution": false
    }
   },
   "source": [
    "---\n",
    "## 1. Loading the data and preprocessing"
   ]
  },
  {
   "cell_type": "markdown",
   "metadata": {
    "deletable": false,
    "editable": false,
    "nbgrader": {
     "checksum": "d1d586c0063030cd1a3b04fe87e189f0",
     "grade": false,
     "grade_id": "cell-2ea049dea4713494",
     "locked": true,
     "schema_version": 1,
     "solution": false
    }
   },
   "source": [
    "The first step is to head to the [Kaggle website for the cats and dogs competition](https://www.kaggle.com/c/dogs-vs-cats) and download the data from there. You should download both the test and train folders together in one zip file (by clicking the download all button). The split ratio between training and validation has not been made, you'll need to do it yourself. The `test.zip` file contains unlabeled data, so that participants in the contest are not able to train on this set.\n",
    "\n",
    "For this assignment you should use [data generators](https://keras.io/preprocessing/image/) to load the images to your CPU/GPU memory. Because of this, your folder structure for the data should conform to the folder structure expected by the data generators (i.e. the samples should be separated into one folder for each class). Furthermore, we ask you to first start with a smaller subset of the data (1/5 of the number of samples), in order to test different models faster.\n",
    "\n",
    "This means that you should create a folder structure that resembles the following (obviously, the folder names are up to you):\n",
    "\n",
    "\n",
    "         small_train             small_val                train                   val\n",
    "              |                      |                      |                      |\n",
    "              |                      |                      |                      |\n",
    "        -------------          -------------          -------------          -------------\n",
    "        |           |          |           |          |           |          |           |\n",
    "        |           |          |           |          |           |          |           |\n",
    "      Cats        Dogs       Cats        Dogs       Cats        Dogs       Cats        Dogs\n",
    "\n",
    "The `small_train` and `small_val` folders have the training and validation samples for your smaller subset of the data, while the `train` and `val` folders contain all the samples you extracted from Kaggle's `train.zip`. We provide you a notebook that shows how to achieve this (\"Create project structure.ipynb\"), starting from the original `all.zip` file that you download from Kaggle. If you do use that notebook, we encourage you to understand how each step is being done, so you can generalize this knowledge to new datasets you'll encounter.\n",
    "\n",
    "We advise you to use 30% of the data as validation data in the smaller dataset. However, for the larger dataset, you should decide how to split between training and validation. Please specify your splits in the following cells."
   ]
  },
  {
   "cell_type": "markdown",
   "metadata": {
    "deletable": false,
    "editable": false,
    "nbgrader": {
     "checksum": "21f8c413dbd2a629e479abc65e02c1a1",
     "grade": false,
     "grade_id": "cell-89ba19509b952af2",
     "locked": true,
     "schema_version": 1,
     "solution": false
    }
   },
   "source": [
    "For the larger subset, what was the training/validation split that you decided to use?"
   ]
  },
  {
   "cell_type": "markdown",
   "metadata": {
    "deletable": false,
    "editable": false,
    "nbgrader": {
     "checksum": "b5740099dceee0e312b1711006e99c1f",
     "grade": false,
     "grade_id": "cell-b0efa9a80e35cb50",
     "locked": true,
     "schema_version": 1,
     "solution": false
    }
   },
   "source": [
    "**% Samples in the training set:**"
   ]
  },
  {
   "cell_type": "code",
   "execution_count": 4,
   "metadata": {
    "deletable": false,
    "nbgrader": {
     "checksum": "0345d9abbe8e41a3d79a43e58cf61bbd",
     "grade": true,
     "grade_id": "cell-7f3b0dfbd90a14c1",
     "locked": false,
     "points": 0.25,
     "schema_version": 1,
     "solution": true
    }
   },
   "outputs": [],
   "source": [
    "# YOUR CODE HERE\n",
    "train_size_percent = 0.8"
   ]
  },
  {
   "cell_type": "markdown",
   "metadata": {
    "deletable": false,
    "editable": false,
    "nbgrader": {
     "checksum": "2ddce1febefd28de63c23277971779d3",
     "grade": false,
     "grade_id": "cell-c23e59a345aa4071",
     "locked": true,
     "schema_version": 1,
     "solution": false
    }
   },
   "source": [
    "**% Samples in the validation set:**"
   ]
  },
  {
   "cell_type": "code",
   "execution_count": 5,
   "metadata": {
    "deletable": false,
    "nbgrader": {
     "checksum": "b8cd8215973c0496aaed775aa00d9052",
     "grade": true,
     "grade_id": "cell-515a15da68038afe",
     "locked": false,
     "points": 0.25,
     "schema_version": 1,
     "solution": true
    }
   },
   "outputs": [],
   "source": [
    "# YOUR CODE HERE\n",
    "vad_size_percent = 0.2"
   ]
  },
  {
   "cell_type": "markdown",
   "metadata": {
    "deletable": false,
    "editable": false,
    "nbgrader": {
     "checksum": "f907f0a06aa01c1087ab6e18710c2fbe",
     "grade": false,
     "grade_id": "cell-876ca7df88c9311f",
     "locked": true,
     "schema_version": 1,
     "solution": false
    }
   },
   "source": [
    "Fill in the dataset paths (to be used later by your data generators):"
   ]
  },
  {
   "cell_type": "code",
   "execution_count": 3,
   "metadata": {
    "deletable": false,
    "nbgrader": {
     "checksum": "99224aa0ced417acf27d271313ab4ca2",
     "grade": true,
     "grade_id": "cell-1b1314f2ab1b1d6b",
     "locked": false,
     "points": 0,
     "schema_version": 1,
     "solution": true
    }
   },
   "outputs": [],
   "source": [
    "# YOUR CODE HERE\n",
    "small_train_path  = \"./small_train\"\n",
    "small_val_path = \"./small_val\"\n",
    "full_train_path  = \"./train\"\n",
    "full_val_path = \"./val\"\n",
    "test_path = \"./test/\""
   ]
  },
  {
   "cell_type": "markdown",
   "metadata": {
    "deletable": false,
    "editable": false,
    "nbgrader": {
     "checksum": "b5cab872fd6c9d35842bc8b3708e1b7c",
     "grade": false,
     "grade_id": "cell-1d6ea64bca94a4ef",
     "locked": true,
     "schema_version": 1,
     "solution": false
    }
   },
   "source": [
    "---\n",
    "Once you have the expected folder structure, create two data generators for automatically generating batches from the images in your smaller subset of data. Don't use any [data augmentation](https://cartesianfaith.com/2016/10/06/what-you-need-to-know-about-data-augmentation-for-machine-learning/), but feel free to preprocess the data as you see fit. After instantiating them, run the `flow_from_directory` method with the desired arguments.\n",
    "\n",
    "Hints:\n",
    "- The specified `batch_size` should be chosen so that your don't run out of memory.\n",
    "- When feeding the images to your CNN, you'll probably want all of them to have the same spatial size, even though the .jpeg files differ in this. If so, take a look at the argument `target_size` for the `flow_from_directory` method of data generators.\n",
    "- Resizing the images to a smaller size while loading them can be beneficial."
   ]
  },
  {
   "cell_type": "code",
   "execution_count": 4,
   "metadata": {
    "deletable": false,
    "nbgrader": {
     "checksum": "ccd3d3780bee365018f2a96b8022d56b",
     "grade": true,
     "grade_id": "cell-ed8f5ab8d5cc0d6c",
     "locked": false,
     "points": 1.5,
     "schema_version": 1,
     "solution": true
    }
   },
   "outputs": [
    {
     "name": "stdout",
     "output_type": "stream",
     "text": [
      "Found 3500 images belonging to 2 classes.\n",
      "Found 1500 images belonging to 2 classes.\n"
     ]
    }
   ],
   "source": [
    "# YOUR CODE HERE\n",
    "BATCH_SIZE = 32   # Batch size\n",
    "NUM_EPOCHS = 20   #epochs\n",
    "IMAGE_SIZE = (224, 224)\n",
    "\n",
    "\n",
    "train_datagen = ImageDataGenerator(rescale = 1./255)\n",
    "test_datagen  = ImageDataGenerator(rescale=1./255)\n",
    "\n",
    "train_generator = train_datagen.flow_from_directory(\n",
    "        small_train_path,\n",
    "        target_size=IMAGE_SIZE,\n",
    "        batch_size=BATCH_SIZE,\n",
    "        class_mode='binary')\n",
    "\n",
    "validation_generator = test_datagen.flow_from_directory(\n",
    "        small_val_path,\n",
    "        target_size=IMAGE_SIZE,\n",
    "        batch_size=BATCH_SIZE,\n",
    "        class_mode='binary')"
   ]
  },
  {
   "cell_type": "markdown",
   "metadata": {
    "deletable": false,
    "editable": false,
    "nbgrader": {
     "checksum": "9e39d5fb0e38a44e07a4519f4db98583",
     "grade": false,
     "grade_id": "cell-c0bfc1ac7fadfcc7",
     "locked": true,
     "schema_version": 1,
     "solution": false
    }
   },
   "source": [
    "---\n",
    "## 2. Training"
   ]
  },
  {
   "cell_type": "markdown",
   "metadata": {
    "deletable": false,
    "editable": false,
    "nbgrader": {
     "checksum": "41dd6aa5a0bc2a35b880c6e72db8e130",
     "grade": false,
     "grade_id": "cell-2c2425121bcacf34",
     "locked": true,
     "schema_version": 1,
     "solution": false
    }
   },
   "source": [
    "Create your first CNN architecture for this task. Start with something as simple as possible, that you're almost sure can get an accuracy better than 50% (we'll improve upon it later).\n",
    "\n",
    "Tip:\n",
    "- If Tensorflow is your backend, your `input_shape` is always `(img_width, img_height, 3)` (i.e. channels **last**)"
   ]
  },
  {
   "cell_type": "code",
   "execution_count": 8,
   "metadata": {
    "deletable": false,
    "nbgrader": {
     "checksum": "d2c30c88e647d05bd81604c1339a68e7",
     "grade": true,
     "grade_id": "cell-4c9de348cd8bc4ff",
     "locked": false,
     "points": 2,
     "schema_version": 1,
     "solution": true
    }
   },
   "outputs": [
    {
     "name": "stdout",
     "output_type": "stream",
     "text": [
      "_________________________________________________________________\n",
      "Layer (type)                 Output Shape              Param #   \n",
      "=================================================================\n",
      "conv2d_1 (Conv2D)            (None, 222, 222, 32)      896       \n",
      "_________________________________________________________________\n",
      "max_pooling2d_1 (MaxPooling2 (None, 111, 111, 32)      0         \n",
      "_________________________________________________________________\n",
      "conv2d_2 (Conv2D)            (None, 109, 109, 64)      18496     \n",
      "_________________________________________________________________\n",
      "max_pooling2d_2 (MaxPooling2 (None, 54, 54, 64)        0         \n",
      "_________________________________________________________________\n",
      "conv2d_3 (Conv2D)            (None, 52, 52, 128)       73856     \n",
      "_________________________________________________________________\n",
      "max_pooling2d_3 (MaxPooling2 (None, 26, 26, 128)       0         \n",
      "_________________________________________________________________\n",
      "flatten_1 (Flatten)          (None, 86528)             0         \n",
      "_________________________________________________________________\n",
      "dense_1 (Dense)              (None, 32)                2768928   \n",
      "_________________________________________________________________\n",
      "dropout_1 (Dropout)          (None, 32)                0         \n",
      "_________________________________________________________________\n",
      "dense_2 (Dense)              (None, 1)                 33        \n",
      "=================================================================\n",
      "Total params: 2,862,209\n",
      "Trainable params: 2,862,209\n",
      "Non-trainable params: 0\n",
      "_________________________________________________________________\n"
     ]
    }
   ],
   "source": [
    "# YOUR CODE HERE\n",
    "\n",
    "# 3 conv layers with ReLU activation followed by max-pooling layers\n",
    "def test_model():\n",
    "    model = Sequential()\n",
    "    model.add(Conv2D(32, (3, 3), input_shape=(IMAGE_SIZE[0], IMAGE_SIZE[1],3),data_format=\"channels_last\",activation = 'relu'))\n",
    "    model.add(MaxPooling2D(pool_size=(2, 2)))\n",
    "\n",
    "    model.add(Conv2D(64, (3, 3),activation = 'relu'))\n",
    "    model.add(MaxPooling2D(pool_size=(2, 2)))\n",
    "\n",
    "    model.add(Conv2D(128, (3, 3),activation = 'relu'))\n",
    "    model.add(MaxPooling2D(pool_size=(2, 2)))\n",
    "\n",
    "    # 2 FC layers with dropout\n",
    "    model.add(Flatten())  # this converts our 3D feature maps to 1D feature vectors\n",
    "    model.add(Dense(32,activation = 'relu'))\n",
    "    model.add(Dropout(0.5))\n",
    "    model.add(Dense(1,activation = 'sigmoid'))\n",
    "\n",
    "    model.compile(loss='binary_crossentropy',\n",
    "                  optimizer='rmsprop',\n",
    "                  metrics=['accuracy'])\n",
    "    return model\n",
    "\n",
    "model = test_model()\n",
    "model.summary()"
   ]
  },
  {
   "cell_type": "markdown",
   "metadata": {
    "deletable": false,
    "editable": false,
    "nbgrader": {
     "checksum": "5210173277189c7bc5d5c18621a1ef8c",
     "grade": false,
     "grade_id": "cell-cb6fc78116ad6b75",
     "locked": true,
     "schema_version": 1,
     "solution": false
    }
   },
   "source": [
    "Train your model using the `fit_generator` method and the two data generators you created earlier. Train for a reasonable amount of epochs, so as to get a good sense of how well this architecture performs.\n",
    "\n",
    "Tips:\n",
    "- Usually the bottleneck is when loading the images from the disk. To speed up training, make sure to take a look at the arguments `workers` and `use_multiprocessing` of `fit_generator`.\n",
    "- You don't have to set the argument `steps_per_epoch` to the number of batches in an epoch. Instead, you can choose a lower number to obtain more frequent prints about the current loss and accuracy of your model (but then have in mind that you're not actually training for the number of epochs you specify in `epochs`)."
   ]
  },
  {
   "cell_type": "code",
   "execution_count": 9,
   "metadata": {
    "deletable": false,
    "nbgrader": {
     "checksum": "865326597e6d487caaaa64ba30cf1abe",
     "grade": true,
     "grade_id": "cell-bb1fcd878f3bea9a",
     "locked": false,
     "points": 1,
     "schema_version": 1,
     "solution": true
    }
   },
   "outputs": [
    {
     "name": "stdout",
     "output_type": "stream",
     "text": [
      "Epoch 1/20\n",
      "109/109 [==============================] - 30s 272ms/step - loss: 0.7423 - acc: 0.5469 - val_loss: 0.6647 - val_acc: 0.5453\n",
      "Epoch 2/20\n",
      "109/109 [==============================] - 28s 257ms/step - loss: 0.6656 - acc: 0.6323 - val_loss: 0.5823 - val_acc: 0.7073\n",
      "Epoch 3/20\n",
      "109/109 [==============================] - 28s 258ms/step - loss: 0.5903 - acc: 0.6851 - val_loss: 0.6039 - val_acc: 0.6813\n",
      "Epoch 4/20\n",
      "109/109 [==============================] - 28s 254ms/step - loss: 0.5749 - acc: 0.6978 - val_loss: 0.5634 - val_acc: 0.7140\n",
      "Epoch 5/20\n",
      "109/109 [==============================] - 28s 253ms/step - loss: 0.5418 - acc: 0.7271 - val_loss: 0.5600 - val_acc: 0.7233\n",
      "Epoch 6/20\n",
      "109/109 [==============================] - 28s 257ms/step - loss: 0.5063 - acc: 0.7529 - val_loss: 0.5553 - val_acc: 0.7420\n",
      "Epoch 7/20\n",
      "109/109 [==============================] - 28s 255ms/step - loss: 0.4862 - acc: 0.7693 - val_loss: 0.5536 - val_acc: 0.7260\n",
      "Epoch 8/20\n",
      "109/109 [==============================] - 28s 255ms/step - loss: 0.4352 - acc: 0.7951 - val_loss: 0.5712 - val_acc: 0.7407\n",
      "Epoch 9/20\n",
      "109/109 [==============================] - 27s 251ms/step - loss: 0.4062 - acc: 0.8083 - val_loss: 0.5746 - val_acc: 0.7240\n",
      "Epoch 10/20\n",
      "109/109 [==============================] - 27s 248ms/step - loss: 0.3709 - acc: 0.8249 - val_loss: 0.5824 - val_acc: 0.7513\n",
      "Epoch 11/20\n",
      "109/109 [==============================] - 27s 251ms/step - loss: 0.3584 - acc: 0.8419 - val_loss: 0.7292 - val_acc: 0.7567\n",
      "Epoch 12/20\n",
      "109/109 [==============================] - 27s 251ms/step - loss: 0.3210 - acc: 0.8512 - val_loss: 0.6576 - val_acc: 0.7447\n",
      "Epoch 13/20\n",
      "109/109 [==============================] - 27s 251ms/step - loss: 0.3199 - acc: 0.8584 - val_loss: 0.6794 - val_acc: 0.7500\n",
      "Epoch 14/20\n",
      "109/109 [==============================] - 27s 246ms/step - loss: 0.2850 - acc: 0.8774 - val_loss: 0.7448 - val_acc: 0.7433\n",
      "Epoch 15/20\n",
      "109/109 [==============================] - 26s 242ms/step - loss: 0.2817 - acc: 0.8743 - val_loss: 0.6549 - val_acc: 0.7573\n",
      "Epoch 16/20\n",
      "109/109 [==============================] - 26s 243ms/step - loss: 0.2927 - acc: 0.8753 - val_loss: 0.7989 - val_acc: 0.7627\n",
      "Epoch 17/20\n",
      "109/109 [==============================] - 27s 245ms/step - loss: 0.2642 - acc: 0.8807 - val_loss: 0.9440 - val_acc: 0.7573\n",
      "Epoch 18/20\n",
      "109/109 [==============================] - 27s 248ms/step - loss: 0.2596 - acc: 0.8864 - val_loss: 0.9572 - val_acc: 0.7527\n",
      "Epoch 19/20\n",
      "109/109 [==============================] - 27s 251ms/step - loss: 0.2446 - acc: 0.8928 - val_loss: 1.0177 - val_acc: 0.7580\n",
      "Epoch 20/20\n",
      "109/109 [==============================] - 26s 242ms/step - loss: 0.2488 - acc: 0.8864 - val_loss: 1.2006 - val_acc: 0.7693\n"
     ]
    }
   ],
   "source": [
    "# YOUR CODE HERE\n",
    "history=model.fit_generator(\n",
    "        train_generator,\n",
    "        steps_per_epoch=3500 // BATCH_SIZE,\n",
    "        epochs=NUM_EPOCHS,\n",
    "        validation_data=validation_generator,\n",
    "        validation_steps=1500 // BATCH_SIZE)"
   ]
  },
  {
   "cell_type": "markdown",
   "metadata": {
    "deletable": false,
    "editable": false,
    "nbgrader": {
     "checksum": "2f494d53c5c891008921b85679b9aaa7",
     "grade": false,
     "grade_id": "cell-4d42c86687697a67",
     "locked": true,
     "schema_version": 1,
     "solution": false
    }
   },
   "source": [
    "Create one figure with two axes. In one of them, plot the loss in the training and the validation datasets. In the other one, plot the accuracy in the training and validation datasets.\n",
    "\n",
    "Hint:\n",
    "- The `fit_generator` method returns a `history` object."
   ]
  },
  {
   "cell_type": "code",
   "execution_count": 10,
   "metadata": {
    "deletable": false,
    "nbgrader": {
     "checksum": "e71729e832321272983178b41b90f874",
     "grade": true,
     "grade_id": "cell-fa81712e1e27432a",
     "locked": false,
     "points": 0,
     "schema_version": 1,
     "solution": true
    }
   },
   "outputs": [
    {
     "name": "stdout",
     "output_type": "stream",
     "text": [
      "dict_keys(['val_loss', 'val_acc', 'loss', 'acc'])\n"
     ]
    },
    {
     "data": {
      "text/plain": [
       "<matplotlib.legend.Legend at 0x7f73dabdb5f8>"
      ]
     },
     "execution_count": 10,
     "metadata": {},
     "output_type": "execute_result"
    },
    {
     "data": {
      "image/png": "[encoded data removed]",
      "text/plain": [
       "<Figure size 1080x360 with 2 Axes>"
      ]
     },
     "metadata": {},
     "output_type": "display_data"
    }
   ],
   "source": [
    "model.save('intial_model.h5')\n",
    "\n",
    "# YOUR CODE HERE\n",
    "print(history.history.keys())\n",
    "fig, axes = plt.subplots(nrows=1, ncols=2, figsize=(15, 5))\n",
    "\n",
    "# summarize history for accuracy\n",
    "axes[0].plot(range(1,NUM_EPOCHS+1), history.history['acc'], '-x')\n",
    "axes[0].plot(range(1,NUM_EPOCHS+1), history.history['val_acc'], '-+')\n",
    "axes[0].set_title('Model accuracy')\n",
    "axes[0].set_ylabel('Accuracy')\n",
    "axes[0].set_xlabel('Epoch')\n",
    "axes[0].set_xticks(range(1,NUM_EPOCHS+1))\n",
    "axes[0].grid(linestyle='-')\n",
    "axes[0].legend(['train', 'validation'], loc='upper left')\n",
    "\n",
    "# summarize history for loss\n",
    "axes[1].plot(range(1,NUM_EPOCHS+1), history.history['loss'], '-x')\n",
    "axes[1].plot(range(1,NUM_EPOCHS+1), history.history['val_loss'], '-+')\n",
    "axes[1].set_title('Model loss')\n",
    "axes[1].set_ylabel('Loss')\n",
    "axes[1].set_xlabel('Epoch')\n",
    "axes[1].set_xticks(range(1,NUM_EPOCHS+1))\n",
    "axes[1].grid(linestyle='-')\n",
    "axes[1].legend(['train', 'validation'], loc='upper left')"
   ]
  },
  {
   "cell_type": "markdown",
   "metadata": {
    "deletable": false,
    "editable": false,
    "nbgrader": {
     "checksum": "5797f9d2d079b67832722cebe8cff0ef",
     "grade": false,
     "grade_id": "cell-f2fc166890962bcf",
     "locked": true,
     "schema_version": 1,
     "solution": false
    }
   },
   "source": [
    "Based on these, what would you suggest for improving your model? Why?"
   ]
  },
  {
   "cell_type": "markdown",
   "metadata": {
    "deletable": false,
    "nbgrader": {
     "checksum": "cf197ef63bfa3aee62055bd8ed8f7a1c",
     "grade": true,
     "grade_id": "cell-506e21ce469b67f5",
     "locked": false,
     "points": 1,
     "schema_version": 1,
     "solution": true
    }
   },
   "source": [
    "**Your answer:** The results show that, after around 8 epochs, the validation accuracy stops increasing and the validation loss starts to increase (though the general trend is fluctuating). This means that the network stops learning useful information at (around) the 8th epoch and starts to adapt to irrelevent information, with respect to classification task, in the training data set, i.e., overfitting. In order to improve the model, one can use, e.g., weight regularization, more aggressive dropout, deeper networks or collect more data. "
   ]
  },
  {
   "cell_type": "markdown",
   "metadata": {
    "deletable": false,
    "editable": false,
    "nbgrader": {
     "checksum": "0be49b9a95620540a192e413f70f71c5",
     "grade": false,
     "grade_id": "cell-db018000a5382694",
     "locked": true,
     "schema_version": 1,
     "solution": false
    }
   },
   "source": [
    "---\n",
    "## 3. Improving your initial model"
   ]
  },
  {
   "cell_type": "markdown",
   "metadata": {
    "deletable": false,
    "editable": false,
    "nbgrader": {
     "checksum": "52b66a6d63b9dd6f55f0dfd477b84597",
     "grade": false,
     "grade_id": "cell-fa0e4d84ef7af322",
     "locked": true,
     "schema_version": 1,
     "solution": false
    }
   },
   "source": [
    "Improve your initial model according to you answer above. Write the new definition in the cell below and train it."
   ]
  },
  {
   "cell_type": "code",
   "execution_count": 11,
   "metadata": {
    "deletable": false,
    "nbgrader": {
     "checksum": "a0b92d3cd986908779f53ff2b6fac22f",
     "grade": true,
     "grade_id": "cell-a4a3c7da2ad8161b",
     "locked": false,
     "points": 2,
     "schema_version": 1,
     "solution": true
    },
    "scrolled": false
   },
   "outputs": [
    {
     "name": "stdout",
     "output_type": "stream",
     "text": [
      "Epoch 1/20\n",
      "109/109 [==============================] - 29s 265ms/step - loss: 0.6940 - acc: 0.4959 - val_loss: 0.6906 - val_acc: 0.5000\n",
      "Epoch 2/20\n",
      "109/109 [==============================] - 28s 256ms/step - loss: 0.6848 - acc: 0.5678 - val_loss: 0.6632 - val_acc: 0.5607\n",
      "Epoch 3/20\n",
      "109/109 [==============================] - 28s 255ms/step - loss: 0.6541 - acc: 0.6202 - val_loss: 0.6650 - val_acc: 0.5967\n",
      "Epoch 4/20\n",
      "109/109 [==============================] - 27s 251ms/step - loss: 0.6374 - acc: 0.6348 - val_loss: 0.6104 - val_acc: 0.7127\n",
      "Epoch 5/20\n",
      "109/109 [==============================] - 28s 257ms/step - loss: 0.6139 - acc: 0.6769 - val_loss: 0.7053 - val_acc: 0.6120\n",
      "Epoch 6/20\n",
      "109/109 [==============================] - 28s 253ms/step - loss: 0.5907 - acc: 0.6911 - val_loss: 0.5548 - val_acc: 0.7360\n",
      "Epoch 7/20\n",
      "109/109 [==============================] - 27s 248ms/step - loss: 0.5475 - acc: 0.7343 - val_loss: 0.5292 - val_acc: 0.7347\n",
      "Epoch 8/20\n",
      "109/109 [==============================] - 27s 246ms/step - loss: 0.5126 - acc: 0.7528 - val_loss: 0.5084 - val_acc: 0.7560\n",
      "Epoch 9/20\n",
      "109/109 [==============================] - 27s 251ms/step - loss: 0.4917 - acc: 0.7703 - val_loss: 0.4852 - val_acc: 0.7687\n",
      "Epoch 10/20\n",
      "109/109 [==============================] - 27s 250ms/step - loss: 0.4484 - acc: 0.7995 - val_loss: 0.5215 - val_acc: 0.7480\n",
      "Epoch 11/20\n",
      "109/109 [==============================] - 27s 244ms/step - loss: 0.4010 - acc: 0.8180 - val_loss: 0.5084 - val_acc: 0.7733\n",
      "Epoch 12/20\n",
      "109/109 [==============================] - 27s 247ms/step - loss: 0.3743 - acc: 0.8438 - val_loss: 0.4971 - val_acc: 0.7640\n",
      "Epoch 13/20\n",
      "109/109 [==============================] - 27s 248ms/step - loss: 0.3381 - acc: 0.8506 - val_loss: 0.4519 - val_acc: 0.8040\n",
      "Epoch 14/20\n",
      "109/109 [==============================] - 27s 244ms/step - loss: 0.2973 - acc: 0.8744 - val_loss: 0.6756 - val_acc: 0.7587\n",
      "Epoch 15/20\n",
      "109/109 [==============================] - 26s 242ms/step - loss: 0.2527 - acc: 0.8963 - val_loss: 0.6099 - val_acc: 0.7793\n",
      "Epoch 16/20\n",
      "109/109 [==============================] - 26s 242ms/step - loss: 0.2182 - acc: 0.9146 - val_loss: 0.5882 - val_acc: 0.7867\n",
      "Epoch 17/20\n",
      "109/109 [==============================] - 26s 240ms/step - loss: 0.1824 - acc: 0.9318 - val_loss: 0.6310 - val_acc: 0.8060\n",
      "Epoch 18/20\n",
      "109/109 [==============================] - 26s 237ms/step - loss: 0.1572 - acc: 0.9412 - val_loss: 0.6307 - val_acc: 0.7887\n",
      "Epoch 19/20\n",
      "109/109 [==============================] - 27s 244ms/step - loss: 0.1578 - acc: 0.9429 - val_loss: 0.6798 - val_acc: 0.8033\n",
      "Epoch 20/20\n",
      "109/109 [==============================] - 27s 244ms/step - loss: 0.1310 - acc: 0.9496 - val_loss: 1.3484 - val_acc: 0.7040\n",
      "Epoch 1/20\n",
      "109/109 [==============================] - 28s 260ms/step - loss: 1.0727 - acc: 0.5190 - val_loss: 0.7463 - val_acc: 0.5067\n",
      "Epoch 2/20\n",
      "109/109 [==============================] - 28s 256ms/step - loss: 0.7186 - acc: 0.5289 - val_loss: 0.7028 - val_acc: 0.5033\n",
      "Epoch 3/20\n",
      "109/109 [==============================] - 28s 259ms/step - loss: 0.7005 - acc: 0.5398 - val_loss: 0.6960 - val_acc: 0.5307\n",
      "Epoch 4/20\n",
      "109/109 [==============================] - 27s 252ms/step - loss: 0.6927 - acc: 0.5524 - val_loss: 0.6863 - val_acc: 0.6020\n",
      "Epoch 5/20\n",
      "109/109 [==============================] - 27s 252ms/step - loss: 0.6854 - acc: 0.5728 - val_loss: 0.6724 - val_acc: 0.6040\n",
      "Epoch 6/20\n",
      "109/109 [==============================] - 28s 254ms/step - loss: 0.6752 - acc: 0.5948 - val_loss: 0.6723 - val_acc: 0.6113\n",
      "Epoch 7/20\n",
      "109/109 [==============================] - 28s 255ms/step - loss: 0.6708 - acc: 0.5961 - val_loss: 0.6488 - val_acc: 0.6393\n",
      "Epoch 8/20\n",
      "109/109 [==============================] - 28s 254ms/step - loss: 0.6601 - acc: 0.6241 - val_loss: 0.6522 - val_acc: 0.6427\n",
      "Epoch 9/20\n",
      "109/109 [==============================] - 28s 254ms/step - loss: 0.6537 - acc: 0.6253 - val_loss: 0.6537 - val_acc: 0.6287\n",
      "Epoch 10/20\n",
      "109/109 [==============================] - 27s 249ms/step - loss: 0.6554 - acc: 0.6261 - val_loss: 0.6545 - val_acc: 0.6140\n",
      "Epoch 11/20\n",
      "109/109 [==============================] - 27s 246ms/step - loss: 0.6464 - acc: 0.6325 - val_loss: 0.6391 - val_acc: 0.6560\n",
      "Epoch 12/20\n",
      "109/109 [==============================] - 27s 245ms/step - loss: 0.6366 - acc: 0.6440 - val_loss: 0.6268 - val_acc: 0.6493\n",
      "Epoch 13/20\n",
      "109/109 [==============================] - 27s 248ms/step - loss: 0.6296 - acc: 0.6564 - val_loss: 0.6369 - val_acc: 0.6220\n",
      "Epoch 14/20\n",
      "109/109 [==============================] - 27s 251ms/step - loss: 0.6327 - acc: 0.6524 - val_loss: 0.6207 - val_acc: 0.6613\n",
      "Epoch 15/20\n",
      "109/109 [==============================] - 27s 246ms/step - loss: 0.6212 - acc: 0.6576 - val_loss: 0.6504 - val_acc: 0.6433\n",
      "Epoch 16/20\n",
      "109/109 [==============================] - 27s 247ms/step - loss: 0.6191 - acc: 0.6546 - val_loss: 0.6286 - val_acc: 0.6440\n",
      "Epoch 17/20\n",
      "109/109 [==============================] - 27s 247ms/step - loss: 0.6114 - acc: 0.6665 - val_loss: 0.6205 - val_acc: 0.6673\n",
      "Epoch 18/20\n",
      "109/109 [==============================] - 26s 242ms/step - loss: 0.6132 - acc: 0.6626 - val_loss: 0.6167 - val_acc: 0.6613\n",
      "Epoch 19/20\n",
      "109/109 [==============================] - 27s 249ms/step - loss: 0.6023 - acc: 0.6757 - val_loss: 0.6100 - val_acc: 0.6727\n",
      "Epoch 20/20\n",
      "109/109 [==============================] - 27s 244ms/step - loss: 0.6055 - acc: 0.6759 - val_loss: 0.6143 - val_acc: 0.6713\n"
     ]
    }
   ],
   "source": [
    "# YOUR CODE HERE\n",
    "def more_layers_model():\n",
    "    \n",
    "    \n",
    "    model = Sequential()\n",
    "    \n",
    "    model.add(Conv2D(32, (3, 3), input_shape=(IMAGE_SIZE[0], IMAGE_SIZE[1],3)))\n",
    "    model.add(Activation('relu'))\n",
    "    model.add(MaxPooling2D(pool_size=(2, 2)))\n",
    "    \n",
    "    model.add(Conv2D(32, (3, 3)))\n",
    "    model.add(Activation('relu'))\n",
    "    model.add(MaxPooling2D(pool_size=(2, 2)))\n",
    "\n",
    "    model.add(Conv2D(64, (3, 3)))\n",
    "    model.add(Activation('relu'))\n",
    "    model.add(MaxPooling2D(pool_size=(2, 2)))\n",
    "    \n",
    "    model.add(Conv2D(64, (3, 3)))\n",
    "    model.add(Activation('relu'))\n",
    "    model.add(MaxPooling2D(pool_size=(2, 2)))\n",
    "\n",
    "    model.add(Conv2D(128, (3, 3)))\n",
    "    model.add(Activation('relu'))\n",
    "    model.add(MaxPooling2D(pool_size=(2, 2)))\n",
    "    \n",
    "    model.add(Conv2D(128, (3, 3)))\n",
    "    model.add(Activation('relu'))\n",
    "    model.add(MaxPooling2D(pool_size=(2, 2)))\n",
    "    \n",
    "    model.add(Flatten())  # this converts our 3D feature maps to 1D feature vectors\n",
    "    \n",
    "    model.add(Dense(32))\n",
    "    model.add(Activation('relu'))\n",
    "    model.add(Dropout(0.5))\n",
    "    \n",
    "    model.add(Dense(1, activation='sigmoid'))\n",
    "    \n",
    "    model.compile(loss='binary_crossentropy', optimizer='rmsprop', metrics=['accuracy'])\n",
    "    return model\n",
    "\n",
    "model = more_layers_model()\n",
    "\n",
    "more_layers_history = model.fit_generator(\n",
    "            train_generator,\n",
    "            steps_per_epoch=3500 // BATCH_SIZE,\n",
    "            epochs=NUM_EPOCHS,\n",
    "            validation_data=validation_generator,     \n",
    "            validation_steps=1500 // BATCH_SIZE)\n",
    "\n",
    "def more_regularization_model():\n",
    "    \n",
    "    model = Sequential()\n",
    "    model.add(Conv2D(32, (3, 3), kernel_regularizer=regularizers.l2(0.01), input_shape=(IMAGE_SIZE[0], IMAGE_SIZE[1],3),data_format=\"channels_last\",activation = 'relu'))\n",
    "    model.add(MaxPooling2D(pool_size=(2, 2)))\n",
    "\n",
    "    model.add(Conv2D(64, (3, 3), kernel_regularizer=regularizers.l2(0.01), activation = 'relu'))\n",
    "    model.add(MaxPooling2D(pool_size=(2, 2)))\n",
    "\n",
    "    model.add(Conv2D(128, (3, 3), kernel_regularizer=regularizers.l2(0.01), activation = 'relu'))\n",
    "    model.add(MaxPooling2D(pool_size=(2, 2)))\n",
    "\n",
    "    # 2 FC layers with dropout\n",
    "    model.add(Flatten())  # this converts our 3D feature maps to 1D feature vectors\n",
    "    model.add(Dense(32,activation = 'relu'))\n",
    "    model.add(Dropout(0.5))\n",
    "    model.add(Dense(1,activation = 'sigmoid'))\n",
    "\n",
    "    model.compile(loss='binary_crossentropy',\n",
    "                  optimizer='rmsprop',\n",
    "                  metrics=['accuracy'])\n",
    "    return model\n",
    "\n",
    "model = more_regularization_model()\n",
    "\n",
    "more_regularization_history = model.fit_generator(\n",
    "            train_generator,\n",
    "            steps_per_epoch=3500 // BATCH_SIZE,\n",
    "            epochs=NUM_EPOCHS,\n",
    "            validation_data=validation_generator,     \n",
    "            validation_steps=1500 // BATCH_SIZE)\n",
    "\n",
    "# def more_neurons_model():\n",
    "    \n",
    "#     model = Sequential()\n",
    "    \n",
    "#     model.add(Conv2D(32, (3, 3), input_shape=(IMAGE_SIZE[0], IMAGE_SIZE[1],3)))\n",
    "#     model.add(Activation('relu'))\n",
    "#     model.add(MaxPooling2D(pool_size=(2, 2)))\n",
    "\n",
    "#     model.add(Conv2D(64, (3, 3)))\n",
    "#     model.add(Activation('relu'))\n",
    "#     model.add(MaxPooling2D(pool_size=(2, 2)))\n",
    "\n",
    "#     model.add(Conv2D(128, (3, 3)))\n",
    "#     model.add(Activation('relu'))\n",
    "#     model.add(MaxPooling2D(pool_size=(2, 2)))\n",
    "    \n",
    "#     model.add(Flatten())  # this converts our 3D feature maps to 1D feature vectors\n",
    "    \n",
    "#     model.add(Dense(1024))\n",
    "#     model.add(Activation('relu'))\n",
    "#     model.add(Dropout(0.5))\n",
    "#     model.add(Dense(1, activation='sigmoid'))\n",
    "    \n",
    "#     model.compile(loss='binary_crossentropy', optimizer='adam', metrics=['accuracy'])\n",
    "#     return model\n",
    "\n",
    "\n",
    "# model_names = ['more_layers_model', 'more_regularization_model']\n",
    "# for name in model_names:\n",
    "#     print('Training model:',name)\n",
    "#     model = globals()[name]()\n",
    "#     layer_history = model.fit_generator(\n",
    "#             train_generator,\n",
    "#             steps_per_epoch=3500 // BATCH_SIZE,\n",
    "#             epochs=NUM_EPOCHS,\n",
    "#             validation_data=validation_generator,     \n",
    "#             validation_steps=1500 // BATCH_SIZE)\n",
    "#     print('Done!')"
   ]
  },
  {
   "cell_type": "markdown",
   "metadata": {
    "deletable": false,
    "editable": false,
    "nbgrader": {
     "checksum": "a93627bb2c08c83a9d4cb6596ab27de7",
     "grade": false,
     "grade_id": "cell-bcff77954e648d56",
     "locked": true,
     "schema_version": 1,
     "solution": false
    }
   },
   "source": [
    "How does the model perform, compared to the initial model? Create one plot with the training accuracy and another with the validation accuracy of the two scenarios."
   ]
  },
  {
   "cell_type": "code",
   "execution_count": 12,
   "metadata": {
    "deletable": false,
    "nbgrader": {
     "checksum": "b18ab0f30b9a4e8e9746f324313fa1b2",
     "grade": true,
     "grade_id": "cell-e4cf90a9c3ae1959",
     "locked": false,
     "points": 0,
     "schema_version": 1,
     "solution": true
    }
   },
   "outputs": [
    {
     "data": {
      "text/plain": [
       "<matplotlib.legend.Legend at 0x7f73c4eceeb8>"
      ]
     },
     "execution_count": 12,
     "metadata": {},
     "output_type": "execute_result"
    },
    {
     "data": {
      "image/png": "[encoded data removed]",
      "text/plain": [
       "<Figure size 1080x360 with 2 Axes>"
      ]
     },
     "metadata": {},
     "output_type": "display_data"
    }
   ],
   "source": [
    "# YOUR CODE HERE\n",
    "fig, axes = plt.subplots(nrows=1, ncols=2, figsize=(15, 5))\n",
    "\n",
    "# summarize history for accuracy\n",
    "axes[0].plot(range(1,NUM_EPOCHS+1), history.history['acc'], '-x')\n",
    "axes[0].plot(range(1,NUM_EPOCHS+1), more_regularization_history.history['acc'], '-+')\n",
    "axes[0].plot(range(1,NUM_EPOCHS+1), more_layers_history.history['acc'], '-o')\n",
    "axes[0].set_title('Model training accuracy')\n",
    "axes[0].set_ylabel('Accuracy')\n",
    "axes[0].set_xlabel('Epoch')\n",
    "axes[0].set_xticks(range(1,NUM_EPOCHS+1))\n",
    "axes[0].grid(linestyle='-')\n",
    "axes[0].legend(['inital model', 'more regularization model', 'more layer model'], loc='upper left')\n",
    "\n",
    "# summarize history for loss\n",
    "axes[1].plot(range(1,NUM_EPOCHS+1), history.history['val_acc'], '-x')\n",
    "axes[1].plot(range(1,NUM_EPOCHS+1), more_regularization_history.history['val_acc'], '-+')\n",
    "axes[1].plot(range(1,NUM_EPOCHS+1), more_layers_history.history['val_acc'], '-o')\n",
    "axes[1].set_title('Model validation accuracy')\n",
    "axes[1].set_ylabel('Accuracy')\n",
    "axes[1].set_xlabel('Epoch')\n",
    "axes[1].set_xticks(range(1,NUM_EPOCHS+1))\n",
    "axes[1].grid(linestyle='-')\n",
    "axes[1].legend(['inital model', 'more regularization model', 'more layer model'], loc='upper left')"
   ]
  },
  {
   "cell_type": "markdown",
   "metadata": {
    "deletable": false,
    "editable": false,
    "nbgrader": {
     "checksum": "5e771b76bc948242070767d51688eeee",
     "grade": false,
     "grade_id": "cell-14b1810989c351b4",
     "locked": true,
     "schema_version": 1,
     "solution": false
    }
   },
   "source": [
    "Did your results improve? Explain why, or why not."
   ]
  },
  {
   "cell_type": "markdown",
   "metadata": {
    "deletable": false,
    "nbgrader": {
     "checksum": "30a59a5574ab183d17b3f92f8057aba4",
     "grade": true,
     "grade_id": "cell-1d27850a74139e5a",
     "locked": false,
     "points": 1,
     "schema_version": 1,
     "solution": true
    }
   },
   "source": [
    "**Your answer:** According to the conclusion we drew in last task, we first chose to add L2 norm regularization to convolutional layer to further reduce overfitting (dropout has already been added to fully connected layer). However, compared to the inital model we have, the new model obtained has even worse performance. We suspect that this is because the regularization parameter we chose is a little bit too large. We also tried smaller values, i.e., 0.001, however, the results still did not improve. Perhaps, fine tuning the regularization parameter for each convolutional layer is needed to further improve the results. \n",
    "\n",
    "We also tried another alternative, i.e., making the network deeper. The results show that 'more layers model' gives the best performance in terms of the training and validation accuracy, though the new network converges more slowly than the original one. Because we implement the drop-out method in all models to reduce overfitting, adding more layers help to increase the potential model capacity and to extract more features. However, there is a limit after which adding more layers might increase overfitting."
   ]
  },
  {
   "cell_type": "markdown",
   "metadata": {
    "deletable": false,
    "editable": false,
    "nbgrader": {
     "checksum": "67dce4bccc56629263ef4839e570f12a",
     "grade": false,
     "grade_id": "cell-ee79a83a62b70a8f",
     "locked": true,
     "schema_version": 1,
     "solution": false
    }
   },
   "source": [
    "---\n",
    "## 4. Obtaining the *best* model"
   ]
  },
  {
   "cell_type": "markdown",
   "metadata": {
    "deletable": false,
    "editable": false,
    "nbgrader": {
     "checksum": "6d029dd4346c9e32b725e6158d77475c",
     "grade": false,
     "grade_id": "cell-5314d286e79e0377",
     "locked": true,
     "schema_version": 1,
     "solution": false
    }
   },
   "source": [
    "Continue to improve your model architecture by comparing the value of the metrics you're interested in both the training and validation set. Try different ideas, and consider comparing them using tensorboard. When you're happy with one architecture, copy it in the cell below and train it here. Save the optimization history (i.e. the `history` object returned by the `fit_generator`). You'll use this later to compare your best model with the one using transfer learning.\n",
    "\n",
    "**Note**: When trying different ideas, you'll end up with several different models. However, when submitting your solutions to ping-pong, the cell below must contain only the definition and training of *one* model. Remove all code related to the models that were not chosen."
   ]
  },
  {
   "cell_type": "code",
   "execution_count": 14,
   "metadata": {
    "deletable": false,
    "nbgrader": {
     "checksum": "45e0af4b6ac1d453b519ba7c65ccb56d",
     "grade": true,
     "grade_id": "cell-6edb7d7e343ab14b",
     "locked": false,
     "points": 2,
     "schema_version": 1,
     "solution": true
    }
   },
   "outputs": [
    {
     "name": "stdout",
     "output_type": "stream",
     "text": [
      "Epoch 1/20\n",
      "109/109 [==============================] - 27s 252ms/step - loss: 0.6971 - acc: 0.5236 - val_loss: 0.6912 - val_acc: 0.4993\n",
      "Epoch 2/20\n",
      "109/109 [==============================] - 28s 254ms/step - loss: 0.6892 - acc: 0.5536 - val_loss: 0.6727 - val_acc: 0.6073\n",
      "Epoch 3/20\n",
      "109/109 [==============================] - 27s 250ms/step - loss: 0.6608 - acc: 0.6137 - val_loss: 0.6708 - val_acc: 0.5913\n",
      "Epoch 4/20\n",
      "109/109 [==============================] - 28s 255ms/step - loss: 0.6435 - acc: 0.6364 - val_loss: 0.6285 - val_acc: 0.6553\n",
      "Epoch 5/20\n",
      "109/109 [==============================] - 28s 254ms/step - loss: 0.6237 - acc: 0.6620 - val_loss: 0.6246 - val_acc: 0.6727\n",
      "Epoch 6/20\n",
      "109/109 [==============================] - 27s 245ms/step - loss: 0.5895 - acc: 0.6970 - val_loss: 0.6044 - val_acc: 0.6893\n",
      "Epoch 7/20\n",
      "109/109 [==============================] - 27s 248ms/step - loss: 0.5884 - acc: 0.7147 - val_loss: 0.5815 - val_acc: 0.7167\n",
      "Epoch 8/20\n",
      "109/109 [==============================] - 27s 247ms/step - loss: 0.5432 - acc: 0.7414 - val_loss: 0.5275 - val_acc: 0.7413\n",
      "Epoch 9/20\n",
      "109/109 [==============================] - 27s 245ms/step - loss: 0.5028 - acc: 0.7608 - val_loss: 0.5459 - val_acc: 0.7220\n",
      "Epoch 10/20\n",
      "109/109 [==============================] - 27s 245ms/step - loss: 0.4608 - acc: 0.7953 - val_loss: 0.5131 - val_acc: 0.7560\n",
      "Epoch 11/20\n",
      "109/109 [==============================] - 27s 251ms/step - loss: 0.4288 - acc: 0.8029 - val_loss: 0.5631 - val_acc: 0.7533\n",
      "Epoch 12/20\n",
      "109/109 [==============================] - 27s 246ms/step - loss: 0.3878 - acc: 0.8341 - val_loss: 0.5167 - val_acc: 0.7553\n",
      "Epoch 13/20\n",
      "109/109 [==============================] - 26s 237ms/step - loss: 0.3405 - acc: 0.8619 - val_loss: 0.6044 - val_acc: 0.7507\n",
      "Epoch 14/20\n",
      "109/109 [==============================] - 27s 244ms/step - loss: 0.3023 - acc: 0.8786 - val_loss: 0.7081 - val_acc: 0.6787\n",
      "Epoch 15/20\n",
      "109/109 [==============================] - 27s 244ms/step - loss: 0.2711 - acc: 0.8942 - val_loss: 0.6155 - val_acc: 0.7693\n",
      "Epoch 16/20\n",
      "109/109 [==============================] - 26s 235ms/step - loss: 0.2415 - acc: 0.9029 - val_loss: 0.8931 - val_acc: 0.7153\n",
      "Epoch 17/20\n",
      "109/109 [==============================] - 26s 242ms/step - loss: 0.2078 - acc: 0.9206 - val_loss: 0.6474 - val_acc: 0.7713\n",
      "Epoch 18/20\n",
      "109/109 [==============================] - 25s 233ms/step - loss: 0.1770 - acc: 0.9333 - val_loss: 0.9851 - val_acc: 0.7380\n",
      "Epoch 19/20\n",
      "109/109 [==============================] - 26s 237ms/step - loss: 0.1641 - acc: 0.9445 - val_loss: 1.0511 - val_acc: 0.7180\n",
      "Epoch 20/20\n",
      "109/109 [==============================] - 26s 239ms/step - loss: 0.1495 - acc: 0.9521 - val_loss: 0.9033 - val_acc: 0.7373\n"
     ]
    }
   ],
   "source": [
    "# YOUR CODE HERE\n",
    "\n",
    "def more_layers_model():\n",
    "    \n",
    "# This model contains 1 input conv layer, 5 conv layers + max pooling, 1 FC layer and 1 output layer    \n",
    "    model = Sequential()\n",
    "    \n",
    "    model.add(Conv2D(32, (3, 3), input_shape=(IMAGE_SIZE[0], IMAGE_SIZE[1],3)))\n",
    "    model.add(Activation('relu'))\n",
    "    model.add(MaxPooling2D(pool_size=(2, 2)))\n",
    "    \n",
    "    model.add(Conv2D(32, (3, 3)))\n",
    "    model.add(Activation('relu'))\n",
    "    model.add(MaxPooling2D(pool_size=(2, 2)))\n",
    "\n",
    "    model.add(Conv2D(64, (3, 3)))\n",
    "    model.add(Activation('relu'))\n",
    "    model.add(MaxPooling2D(pool_size=(2, 2)))\n",
    "    \n",
    "    model.add(Conv2D(64, (3, 3)))\n",
    "    model.add(Activation('relu'))\n",
    "    model.add(MaxPooling2D(pool_size=(2, 2)))\n",
    "\n",
    "    model.add(Conv2D(128, (3, 3)))\n",
    "    model.add(Activation('relu'))\n",
    "    model.add(MaxPooling2D(pool_size=(2, 2)))\n",
    "    \n",
    "    model.add(Conv2D(128, (3, 3)))\n",
    "    model.add(Activation('relu'))\n",
    "    model.add(MaxPooling2D(pool_size=(2, 2)))\n",
    "    \n",
    "    model.add(Flatten())  # this converts our 3D feature maps to 1D feature vectors\n",
    "    \n",
    "    model.add(Dense(32))\n",
    "    model.add(Activation('relu'))\n",
    "    model.add(Dropout(0.5))\n",
    "    \n",
    "    model.add(Dense(1, activation='sigmoid'))\n",
    "    \n",
    "    model.compile(loss='binary_crossentropy', optimizer='rmsprop', metrics=['accuracy'])\n",
    "    return model\n",
    "\n",
    "my_model = more_layers_model()\n",
    "history_bm=my_model.fit_generator(\n",
    "           train_generator,\n",
    "           steps_per_epoch=3500 // BATCH_SIZE,\n",
    "           epochs=NUM_EPOCHS,\n",
    "           validation_data=validation_generator,\n",
    "           validation_steps=1500 // BATCH_SIZE)"
   ]
  },
  {
   "cell_type": "markdown",
   "metadata": {
    "deletable": false,
    "editable": false,
    "nbgrader": {
     "checksum": "3ed8d707a3e3e3e2dc6e09630da26d02",
     "grade": false,
     "grade_id": "cell-d033937b5a8b9875",
     "locked": true,
     "schema_version": 1,
     "solution": false
    }
   },
   "source": [
    "Create one figure with two axes. In one of them, plot the loss in the training and the validation datasets. In the other one, plot the accuracy in the training and validation datasets."
   ]
  },
  {
   "cell_type": "code",
   "execution_count": 15,
   "metadata": {
    "deletable": false,
    "nbgrader": {
     "checksum": "88f944698dc9dc353e1933fe16b6de87",
     "grade": true,
     "grade_id": "cell-3df999674672de47",
     "locked": false,
     "points": 0,
     "schema_version": 1,
     "solution": true
    },
    "scrolled": false
   },
   "outputs": [
    {
     "name": "stdout",
     "output_type": "stream",
     "text": [
      "dict_keys(['val_loss', 'val_acc', 'loss', 'acc'])\n"
     ]
    },
    {
     "data": {
      "text/plain": [
       "<matplotlib.legend.Legend at 0x7f739f847c88>"
      ]
     },
     "execution_count": 15,
     "metadata": {},
     "output_type": "execute_result"
    },
    {
     "data": {
      "image/png": "[encoded data removed]",
      "text/plain": [
       "<Figure size 1080x360 with 2 Axes>"
      ]
     },
     "metadata": {},
     "output_type": "display_data"
    }
   ],
   "source": [
    "# YOUR CODE HERE\n",
    "print(history_bm.history.keys())\n",
    "fig, axes = plt.subplots(nrows=1, ncols=2, figsize=(15, 5))\n",
    "\n",
    "# summarize history for accuracy\n",
    "axes[0].plot(range(1,NUM_EPOCHS+1), history_bm.history['acc'], '-x')\n",
    "axes[0].plot(range(1,NUM_EPOCHS+1), history_bm.history['val_acc'], '-+')\n",
    "axes[0].set_title('Model accuracy')\n",
    "axes[0].set_ylabel('Accuracy')\n",
    "axes[0].set_xlabel('Epoch')\n",
    "axes[0].set_xticks(range(1,NUM_EPOCHS+1))\n",
    "axes[0].grid(linestyle='-')\n",
    "axes[0].legend(['train', 'validation'], loc='upper left')\n",
    "\n",
    "# summarize history for loss\n",
    "axes[1].plot(range(1,NUM_EPOCHS+1), history_bm.history['loss'], '-x')\n",
    "axes[1].plot(range(1,NUM_EPOCHS+1), history_bm.history['val_loss'], '-+')\n",
    "axes[1].set_title('Model loss')\n",
    "axes[1].set_ylabel('Loss')\n",
    "axes[1].set_xlabel('Epoch')\n",
    "axes[1].set_xticks(range(1,NUM_EPOCHS+1))\n",
    "axes[1].grid(linestyle='-')\n",
    "axes[1].legend(['train', 'validation'], loc='upper left')"
   ]
  },
  {
   "cell_type": "markdown",
   "metadata": {
    "deletable": false,
    "editable": false,
    "nbgrader": {
     "checksum": "69f51481b462b089daee7f896bad2cc3",
     "grade": false,
     "grade_id": "cell-c67bcc4fbec1808e",
     "locked": true,
     "schema_version": 1,
     "solution": false
    }
   },
   "source": [
    "[Save your model](https://keras.io/getting-started/faq/#how-can-i-save-a-keras-model) to disk as a HDF5 file (the architecture, weights and optimizer state). This is simply so you can use it again easily in the later parts of the notebook, without having to keep it in memory or re-training it. The actual `.h5` files you create are not relevant to your ping-pong submission."
   ]
  },
  {
   "cell_type": "code",
   "execution_count": 16,
   "metadata": {},
   "outputs": [],
   "source": [
    "my_model.save('my_model.h5')"
   ]
  },
  {
   "cell_type": "markdown",
   "metadata": {
    "deletable": false,
    "editable": false,
    "nbgrader": {
     "checksum": "f560cd87a745d9931d137a0224adb847",
     "grade": false,
     "grade_id": "cell-25f9cc8d17491d0d",
     "locked": true,
     "schema_version": 1,
     "solution": false
    }
   },
   "source": [
    "---\n",
    "## 5. Transfer Learning"
   ]
  },
  {
   "cell_type": "markdown",
   "metadata": {
    "deletable": false,
    "editable": false,
    "nbgrader": {
     "checksum": "2f9adb5c8ce6970840bc5d256e74ca69",
     "grade": false,
     "grade_id": "cell-cf9b347fc3ee9255",
     "locked": true,
     "schema_version": 1,
     "solution": false
    }
   },
   "source": [
    "Now, instead of trying to come up with a good architecture for this task, we'll use the VGG16 architecture, but with the top layers removed (the fully connected + classification layers). We'll substitute them with a single fully connected layer, and a classification layer that makes sense for our problem.\n",
    "\n",
    "However, this model has a very high capacity, and will probably suffer a lot from overfitting if we try to train it from scratch, using only our small subset of data. Instead, we'll start the optimization with the weights obtained after training VGG16 on the ImageNet dataset.\n",
    "\n",
    "Start by loading the VGG16 model without the top layers, from the `applications` submodule from Keras. Make sure to also load the weights obtained from the ImageNet pretraining."
   ]
  },
  {
   "cell_type": "code",
   "execution_count": 17,
   "metadata": {
    "deletable": false,
    "nbgrader": {
     "checksum": "984428d972274a469334141d07c8666a",
     "grade": true,
     "grade_id": "cell-01ebc4c9c306b985",
     "locked": false,
     "points": 0,
     "schema_version": 1,
     "solution": true
    }
   },
   "outputs": [],
   "source": [
    "# Load VGG16 without top\n",
    "vgg_model = VGG16(weights='imagenet', include_top=False,\n",
    "                  input_shape = (IMAGE_SIZE[0], IMAGE_SIZE[1],3))"
   ]
  },
  {
   "cell_type": "markdown",
   "metadata": {
    "deletable": false,
    "editable": false,
    "nbgrader": {
     "checksum": "ee2e7869aeb45bf734d52c7559ab6cb6",
     "grade": false,
     "grade_id": "cell-faed8047ef25a60d",
     "locked": true,
     "schema_version": 1,
     "solution": false
    }
   },
   "source": [
    "Create a new model with the layers you want to add on top of VGG. The kernels and bias in these layers should be initialized randomly."
   ]
  },
  {
   "cell_type": "code",
   "execution_count": 18,
   "metadata": {
    "deletable": false,
    "nbgrader": {
     "checksum": "a22c7aa185d3eca27d8722755b0a41a1",
     "grade": true,
     "grade_id": "cell-56cb37360051a638",
     "locked": false,
     "points": 1,
     "schema_version": 1,
     "solution": true
    }
   },
   "outputs": [],
   "source": [
    "# YOUR CODE HERE\n",
    "\n",
    "x = vgg_model.output \n",
    "# Flatten layer\n",
    "x = Flatten()(x)\n",
    "x = Dense(1024, kernel_initializer='random_uniform', bias_initializer='random_uniform', activation='relu')(x)\n",
    "x = Dropout(0.5)(x)\n",
    "preds = Dense(1, activation='sigmoid')(x)\n",
    "\n"
   ]
  },
  {
   "cell_type": "markdown",
   "metadata": {
    "deletable": false,
    "editable": false,
    "nbgrader": {
     "checksum": "ff49bf63789cfb3023f59b7ff1de074b",
     "grade": false,
     "grade_id": "cell-d746f9eb61e3ea44",
     "locked": true,
     "schema_version": 1,
     "solution": false
    }
   },
   "source": [
    "Now add the new model on top of VGG.\n",
    "\n",
    "Tip:\n",
    "- The VGG model you loaded from the `applications` submodule is from the [`Model`](https://keras.io/models/model/) class, not the `Sequential` class, so it doesn't have some methods you're used to (like `add`, for instance). It might be helpful to read [this introduction to the Model class](https://keras.io/getting-started/functional-api-guide/)."
   ]
  },
  {
   "cell_type": "code",
   "execution_count": 27,
   "metadata": {
    "deletable": false,
    "nbgrader": {
     "checksum": "642f3cbea497868385adff16643091c4",
     "grade": true,
     "grade_id": "cell-76e4aad7fbcf5d05",
     "locked": false,
     "points": 0,
     "schema_version": 1,
     "solution": true
    }
   },
   "outputs": [
    {
     "name": "stdout",
     "output_type": "stream",
     "text": [
      "_________________________________________________________________\n",
      "Layer (type)                 Output Shape              Param #   \n",
      "=================================================================\n",
      "input_1 (InputLayer)         (None, 224, 224, 3)       0         \n",
      "_________________________________________________________________\n",
      "block1_conv1 (Conv2D)        (None, 224, 224, 64)      1792      \n",
      "_________________________________________________________________\n",
      "block1_conv2 (Conv2D)        (None, 224, 224, 64)      36928     \n",
      "_________________________________________________________________\n",
      "block1_pool (MaxPooling2D)   (None, 112, 112, 64)      0         \n",
      "_________________________________________________________________\n",
      "block2_conv1 (Conv2D)        (None, 112, 112, 128)     73856     \n",
      "_________________________________________________________________\n",
      "block2_conv2 (Conv2D)        (None, 112, 112, 128)     147584    \n",
      "_________________________________________________________________\n",
      "block2_pool (MaxPooling2D)   (None, 56, 56, 128)       0         \n",
      "_________________________________________________________________\n",
      "block3_conv1 (Conv2D)        (None, 56, 56, 256)       295168    \n",
      "_________________________________________________________________\n",
      "block3_conv2 (Conv2D)        (None, 56, 56, 256)       590080    \n",
      "_________________________________________________________________\n",
      "block3_conv3 (Conv2D)        (None, 56, 56, 256)       590080    \n",
      "_________________________________________________________________\n",
      "block3_pool (MaxPooling2D)   (None, 28, 28, 256)       0         \n",
      "_________________________________________________________________\n",
      "block4_conv1 (Conv2D)        (None, 28, 28, 512)       1180160   \n",
      "_________________________________________________________________\n",
      "block4_conv2 (Conv2D)        (None, 28, 28, 512)       2359808   \n",
      "_________________________________________________________________\n",
      "block4_conv3 (Conv2D)        (None, 28, 28, 512)       2359808   \n",
      "_________________________________________________________________\n",
      "block4_pool (MaxPooling2D)   (None, 14, 14, 512)       0         \n",
      "_________________________________________________________________\n",
      "block5_conv1 (Conv2D)        (None, 14, 14, 512)       2359808   \n",
      "_________________________________________________________________\n",
      "block5_conv2 (Conv2D)        (None, 14, 14, 512)       2359808   \n",
      "_________________________________________________________________\n",
      "block5_conv3 (Conv2D)        (None, 14, 14, 512)       2359808   \n",
      "_________________________________________________________________\n",
      "block5_pool (MaxPooling2D)   (None, 7, 7, 512)         0         \n",
      "_________________________________________________________________\n",
      "flatten_6 (Flatten)          (None, 25088)             0         \n",
      "_________________________________________________________________\n",
      "dense_11 (Dense)             (None, 1024)              25691136  \n",
      "_________________________________________________________________\n",
      "dropout_6 (Dropout)          (None, 1024)              0         \n",
      "_________________________________________________________________\n",
      "dense_12 (Dense)             (None, 1)                 1025      \n",
      "=================================================================\n",
      "Total params: 40,406,849\n",
      "Trainable params: 25,692,161\n",
      "Non-trainable params: 14,714,688\n",
      "_________________________________________________________________\n"
     ]
    }
   ],
   "source": [
    "# YOUR CODE HERE\n",
    "# transfer learning model\n",
    "model = Model(inputs=vgg_model.input, outputs=preds)\n",
    "\n",
    "model.summary()\n"
   ]
  },
  {
   "cell_type": "markdown",
   "metadata": {
    "deletable": false,
    "editable": false,
    "nbgrader": {
     "checksum": "e80006261cee156aafe6aac9408f2678",
     "grade": false,
     "grade_id": "cell-f76d1a7f6280af0d",
     "locked": true,
     "schema_version": 1,
     "solution": false
    }
   },
   "source": [
    "### 5.1 Using VGG features"
   ]
  },
  {
   "cell_type": "markdown",
   "metadata": {
    "deletable": false,
    "editable": false,
    "nbgrader": {
     "checksum": "2b12c99269787356513640faa3528233",
     "grade": false,
     "grade_id": "cell-270f8ec140ddfba3",
     "locked": true,
     "schema_version": 1,
     "solution": false
    }
   },
   "source": [
    "Now we're almost ready to train the new model. However, since the top layers of this architecture are being initialized randomly, it's sometimes possible for them to generate large gradients that can wreck the pretraining of the bottom layers. To avoid this, freeze all the VGG layers in your architecture (i.e. signal to the optimizer that these should not be changed during optimization) by setting the `trainable` attribute of them to `False`."
   ]
  },
  {
   "cell_type": "code",
   "execution_count": 39,
   "metadata": {
    "deletable": false,
    "nbgrader": {
     "checksum": "072f414eabdbed6bd1f0baa8e855e48f",
     "grade": true,
     "grade_id": "cell-bfb58ea46c31df0a",
     "locked": false,
     "points": 0,
     "schema_version": 1,
     "solution": true
    }
   },
   "outputs": [],
   "source": [
    "# YOUR CODE HERE\n",
    "for layer in model.layers[:-4]:\n",
    "    layer.trainable = False  "
   ]
  },
  {
   "cell_type": "markdown",
   "metadata": {
    "deletable": false,
    "editable": false,
    "nbgrader": {
     "checksum": "669e85a9b10286b41f6b40837f009d45",
     "grade": false,
     "grade_id": "cell-b508ede3d760a86b",
     "locked": true,
     "schema_version": 1,
     "solution": false
    }
   },
   "source": [
    "Create the callbacks (if any) you would like to use, compile the model and train it."
   ]
  },
  {
   "cell_type": "code",
   "execution_count": 40,
   "metadata": {
    "deletable": false,
    "nbgrader": {
     "checksum": "9c8cccd2e638d17af85d50f45cb05ee3",
     "grade": true,
     "grade_id": "cell-5a025e60545ca151",
     "locked": false,
     "points": 1,
     "schema_version": 1,
     "solution": true
    },
    "scrolled": false
   },
   "outputs": [
    {
     "name": "stdout",
     "output_type": "stream",
     "text": [
      "Training model\n",
      "Epoch 1/20\n",
      "109/109 [==============================] - 48s 443ms/step - loss: 0.2092 - acc: 0.9139 - val_loss: 0.2173 - val_acc: 0.9080\n",
      "Epoch 2/20\n",
      "109/109 [==============================] - 47s 429ms/step - loss: 0.1948 - acc: 0.9237 - val_loss: 0.2225 - val_acc: 0.9147\n",
      "Epoch 3/20\n",
      "109/109 [==============================] - 47s 428ms/step - loss: 0.1931 - acc: 0.9215 - val_loss: 0.2054 - val_acc: 0.9133\n",
      "Epoch 4/20\n",
      "109/109 [==============================] - 47s 430ms/step - loss: 0.1976 - acc: 0.9149 - val_loss: 0.3183 - val_acc: 0.8633\n",
      "Epoch 5/20\n",
      "109/109 [==============================] - 47s 428ms/step - loss: 0.1839 - acc: 0.9228 - val_loss: 0.2992 - val_acc: 0.8700\n",
      "Epoch 6/20\n",
      "109/109 [==============================] - 47s 428ms/step - loss: 0.1878 - acc: 0.9224 - val_loss: 0.2877 - val_acc: 0.8680\n",
      "Epoch 7/20\n",
      "109/109 [==============================] - 47s 429ms/step - loss: 0.1546 - acc: 0.9409 - val_loss: 0.2399 - val_acc: 0.8973\n",
      "Epoch 8/20\n",
      "109/109 [==============================] - 47s 429ms/step - loss: 0.1627 - acc: 0.9339 - val_loss: 0.2318 - val_acc: 0.9033\n",
      "Epoch 9/20\n",
      "109/109 [==============================] - 47s 428ms/step - loss: 0.1601 - acc: 0.9362 - val_loss: 0.1926 - val_acc: 0.9193\n",
      "Epoch 10/20\n",
      "109/109 [==============================] - 47s 429ms/step - loss: 0.1401 - acc: 0.9415 - val_loss: 0.3276 - val_acc: 0.8653\n",
      "Epoch 11/20\n",
      "109/109 [==============================] - 47s 428ms/step - loss: 0.1421 - acc: 0.9380 - val_loss: 0.2271 - val_acc: 0.9047\n",
      "Epoch 12/20\n",
      "109/109 [==============================] - 47s 429ms/step - loss: 0.1302 - acc: 0.9485 - val_loss: 0.2164 - val_acc: 0.9133\n",
      "Epoch 13/20\n",
      "109/109 [==============================] - 47s 428ms/step - loss: 0.1167 - acc: 0.9553 - val_loss: 0.1911 - val_acc: 0.9147\n",
      "Epoch 14/20\n",
      "109/109 [==============================] - 47s 428ms/step - loss: 0.1131 - acc: 0.9531 - val_loss: 0.2058 - val_acc: 0.9093\n",
      "Epoch 15/20\n",
      "109/109 [==============================] - 47s 430ms/step - loss: 0.1011 - acc: 0.9576 - val_loss: 0.2398 - val_acc: 0.8993\n",
      "Epoch 16/20\n",
      "109/109 [==============================] - 47s 429ms/step - loss: 0.1019 - acc: 0.9616 - val_loss: 0.1958 - val_acc: 0.9173\n",
      "Epoch 17/20\n",
      "109/109 [==============================] - 47s 428ms/step - loss: 0.0960 - acc: 0.9630 - val_loss: 0.2021 - val_acc: 0.9153\n",
      "Epoch 18/20\n",
      "109/109 [==============================] - 47s 429ms/step - loss: 0.0890 - acc: 0.9687 - val_loss: 0.3758 - val_acc: 0.8700\n",
      "Epoch 19/20\n",
      "109/109 [==============================] - 47s 429ms/step - loss: 0.0843 - acc: 0.9665 - val_loss: 0.2334 - val_acc: 0.9053\n",
      "Epoch 20/20\n",
      "109/109 [==============================] - 47s 427ms/step - loss: 0.0855 - acc: 0.9673 - val_loss: 0.2060 - val_acc: 0.9160\n",
      "Done!\n"
     ]
    }
   ],
   "source": [
    "# YOUR CODE HERE\n",
    "opt = optimizers.SGD(lr=1e-3, momentum=0.9, decay=0.0, nesterov=False)\n",
    "model.compile(loss='binary_crossentropy', \n",
    "\t             optimizer=opt, metrics=['accuracy'])\n",
    "print('Training model')\n",
    "tl_history= model.fit_generator(\n",
    "            train_generator,\n",
    "            steps_per_epoch=3500 // BATCH_SIZE,\n",
    "            epochs=NUM_EPOCHS,\n",
    "            validation_data=validation_generator,     \n",
    "            validation_steps=1500 // BATCH_SIZE)\n",
    "print('Done!')"
   ]
  },
  {
   "cell_type": "markdown",
   "metadata": {
    "deletable": false,
    "editable": false,
    "nbgrader": {
     "checksum": "f4045831d222640d7baf44a285c3de97",
     "grade": false,
     "grade_id": "cell-ad79e1aa5c4a6185",
     "locked": true,
     "schema_version": 1,
     "solution": false
    }
   },
   "source": [
    "Create one figure with two axes. In one of them, plot the loss in the training and the validation datasets. In the other one, plot the accuracy in the training and validation datasets."
   ]
  },
  {
   "cell_type": "code",
   "execution_count": 41,
   "metadata": {
    "deletable": false,
    "nbgrader": {
     "checksum": "99986b7bbdfb6b78c25112751969d11f",
     "grade": true,
     "grade_id": "cell-f17c882b2a09dee7",
     "locked": false,
     "points": 0,
     "schema_version": 1,
     "solution": true
    },
    "scrolled": false
   },
   "outputs": [
    {
     "name": "stdout",
     "output_type": "stream",
     "text": [
      "dict_keys(['val_loss', 'val_acc', 'loss', 'acc'])\n"
     ]
    },
    {
     "data": {
      "text/plain": [
       "<matplotlib.legend.Legend at 0x7f739d7aca20>"
      ]
     },
     "execution_count": 41,
     "metadata": {},
     "output_type": "execute_result"
    },
    {
     "data": {
      "image/png": "[encoded data removed]",
      "text/plain": [
       "<Figure size 1080x360 with 2 Axes>"
      ]
     },
     "metadata": {},
     "output_type": "display_data"
    }
   ],
   "source": [
    "# YOUR CODE HERE\n",
    "print(tl_history.history.keys())\n",
    "fig, axes = plt.subplots(nrows=1, ncols=2, figsize=(15, 5))\n",
    "\n",
    "# summarize history for accuracy\n",
    "axes[0].plot(range(1,NUM_EPOCHS+1), tl_history.history['acc'], '-x')\n",
    "axes[0].plot(range(1,NUM_EPOCHS+1), tl_history.history['val_acc'], '-+')\n",
    "axes[0].set_title('Model accuracy')\n",
    "axes[0].set_ylabel('Accuracy')\n",
    "axes[0].set_xlabel('Epoch')\n",
    "axes[0].set_xticks(range(1,NUM_EPOCHS+1))\n",
    "axes[0].grid(linestyle='-')\n",
    "axes[0].legend(['train', 'validation'], loc='upper left')\n",
    "\n",
    "# summarize history for loss\n",
    "axes[1].plot(range(1,NUM_EPOCHS+1), tl_history.history['loss'], '-x')\n",
    "axes[1].plot(range(1,NUM_EPOCHS+1), tl_history.history['val_loss'], '-+')\n",
    "axes[1].set_title('Model loss')\n",
    "axes[1].set_ylabel('Loss')\n",
    "axes[1].set_xlabel('Epoch')\n",
    "axes[1].set_xticks(range(1,NUM_EPOCHS+1))\n",
    "axes[1].grid(linestyle='-')\n",
    "axes[1].legend(['train', 'validation'], loc='best')"
   ]
  },
  {
   "cell_type": "markdown",
   "metadata": {
    "deletable": false,
    "editable": false,
    "nbgrader": {
     "checksum": "7e3c0eb41e650ec3e30733ab5ea488d1",
     "grade": false,
     "grade_id": "cell-779d477ffe1ebbf6",
     "locked": true,
     "schema_version": 1,
     "solution": false
    }
   },
   "source": [
    "How does the model perform, compared to the model obtained in step 4? Create one plot with the training accuracy and another with the validation accuracy of the two scenarios."
   ]
  },
  {
   "cell_type": "code",
   "execution_count": 42,
   "metadata": {
    "deletable": false,
    "nbgrader": {
     "checksum": "873c045fa2e6f22815a90194ed2785f3",
     "grade": true,
     "grade_id": "cell-e3e3990ba39bea67",
     "locked": false,
     "points": 0,
     "schema_version": 1,
     "solution": true
    }
   },
   "outputs": [
    {
     "data": {
      "text/plain": [
       "<matplotlib.legend.Legend at 0x7f739d63f4a8>"
      ]
     },
     "execution_count": 42,
     "metadata": {},
     "output_type": "execute_result"
    },
    {
     "data": {
      "image/png": "[encoded data removed]",
      "text/plain": [
       "<Figure size 1080x360 with 2 Axes>"
      ]
     },
     "metadata": {},
     "output_type": "display_data"
    }
   ],
   "source": [
    "# YOUR CODE HERE\n",
    "fig, axes = plt.subplots(nrows=1, ncols=2, figsize=(15, 5))\n",
    "# summarize history for accuracy\n",
    "axes[0].plot(range(1,NUM_EPOCHS+1), history_bm.history['acc'], '-x')\n",
    "axes[0].plot(range(1,NUM_EPOCHS+1), tl_history.history['acc'], '-+')\n",
    "axes[0].set_title('Training accuracy')\n",
    "axes[0].set_ylabel('Accuracy')\n",
    "axes[0].set_xlabel('Epoch')\n",
    "axes[0].set_xticks(range(1,NUM_EPOCHS+1))\n",
    "axes[0].grid(linestyle='-')\n",
    "axes[0].legend(['Best model', 'Transfer learning'], loc='upper left')\n",
    "\n",
    "# summarize history for loss\n",
    "axes[1].plot(range(1,NUM_EPOCHS+1), history_bm.history['val_acc'], '-x')\n",
    "axes[1].plot(range(1,NUM_EPOCHS+1), tl_history.history['val_acc'], '-+')\n",
    "axes[1].set_title('Validation loss')\n",
    "axes[1].set_ylabel('Accuracy')\n",
    "axes[1].set_xlabel('Epoch')\n",
    "axes[1].set_xticks(range(1,NUM_EPOCHS+1))\n",
    "axes[1].grid(linestyle='-')\n",
    "axes[1].legend(['Best model', 'Transfer learning'], loc='best')"
   ]
  },
  {
   "cell_type": "markdown",
   "metadata": {
    "deletable": false,
    "editable": false,
    "nbgrader": {
     "checksum": "49a22cb7fa7d4bc6335f5185d419101e",
     "grade": false,
     "grade_id": "cell-b84dd461d5ddcc8d",
     "locked": true,
     "schema_version": 1,
     "solution": false
    }
   },
   "source": [
    "Compare these results. Which approach worked best, starting from scratch or doing transfer learning? Explain how you evaluated this."
   ]
  },
  {
   "cell_type": "markdown",
   "metadata": {
    "deletable": false,
    "nbgrader": {
     "checksum": "58110ed91d1dc2020287d64755fafddd",
     "grade": true,
     "grade_id": "cell-f9e1a6a643946cd2",
     "locked": false,
     "points": 0.25,
     "schema_version": 1,
     "solution": true
    }
   },
   "source": [
    "**Your answer:** The approach with transfer learning worked best. This can be verified from the fact that both training accuracy and validation accuracy of the model using transfer learning is higher than those of the model starting from scratch. Also, we can see that, in the plot showing the validation loss, the approach using transfer learning exhibited less fluctuation regarding model loss; this suggests that it is more robust to overfitting."
   ]
  },
  {
   "cell_type": "markdown",
   "metadata": {
    "deletable": false,
    "editable": false,
    "nbgrader": {
     "checksum": "f1d1fd0b9a00091e75a5bd0eaa19a8bf",
     "grade": false,
     "grade_id": "cell-c8afb448c67da5f8",
     "locked": true,
     "schema_version": 1,
     "solution": false
    }
   },
   "source": [
    "What are the main differences between the ImageNet dataset and the Dogs vs Cats dataset we used?"
   ]
  },
  {
   "cell_type": "markdown",
   "metadata": {
    "deletable": false,
    "nbgrader": {
     "checksum": "36cc539d06e12eba46249e29640ce6a1",
     "grade": true,
     "grade_id": "cell-2be321b63232ae01",
     "locked": false,
     "points": 0.25,
     "schema_version": 1,
     "solution": true
    }
   },
   "source": [
    "**Your answer:** 1. The ImageNet contains many many more data (images); 2. The ImageNet contains many more image classes rather than only dog and cat. "
   ]
  },
  {
   "cell_type": "markdown",
   "metadata": {
    "deletable": false,
    "editable": false,
    "nbgrader": {
     "checksum": "1c0b0eae153b6076ca628a773203df42",
     "grade": false,
     "grade_id": "cell-71a8b8de004f6e57",
     "locked": true,
     "schema_version": 1,
     "solution": false
    }
   },
   "source": [
    "Even though there are considerable differences between these datasets, why is it that transfer learning is still a good idea?"
   ]
  },
  {
   "cell_type": "markdown",
   "metadata": {
    "deletable": false,
    "nbgrader": {
     "checksum": "7a990cd4099df100c9dc733bee0db608",
     "grade": true,
     "grade_id": "cell-655d00face15a862",
     "locked": false,
     "points": 0.25,
     "schema_version": 1,
     "solution": true
    }
   },
   "source": [
    "**Your answer:** 1. The dog and cat are two classification categories that are also included in ImageNet. Therefore, we could use the relevent knowledge from the trained model using VGG and ImageNet to do the classification tasks in Dogs vs. Cats dataset; 2. With transfer learning, one can build a solid network architecture with comparatively little training data because the model is already pre-trained; 3. Save training time since, tycpically, one needs to only re-train the top layer(s). "
   ]
  },
  {
   "cell_type": "markdown",
   "metadata": {
    "deletable": false,
    "editable": false,
    "nbgrader": {
     "checksum": "2d9425a067d87ef11d206088e82bb3c7",
     "grade": false,
     "grade_id": "cell-19785940b9624d2c",
     "locked": true,
     "schema_version": 1,
     "solution": false
    }
   },
   "source": [
    "In which scenario would transfer learning be unsuitable?"
   ]
  },
  {
   "cell_type": "markdown",
   "metadata": {
    "deletable": false,
    "nbgrader": {
     "checksum": "8ab35c98ddf1c98635eb188a197fd885",
     "grade": true,
     "grade_id": "cell-e79df7472ff5506a",
     "locked": false,
     "points": 0.25,
     "schema_version": 1,
     "solution": true
    }
   },
   "source": [
    "**Your answer:** When we have very little training data for the specific task we are interested in; and the data set used in this task has very different features compared to the one, based on which, we do transfer learning."
   ]
  },
  {
   "cell_type": "markdown",
   "metadata": {
    "deletable": false,
    "editable": false,
    "nbgrader": {
     "checksum": "bbea73c6a2825f9b3e730907ba3ae71f",
     "grade": false,
     "grade_id": "cell-111f2b1d28919293",
     "locked": true,
     "schema_version": 1,
     "solution": false
    }
   },
   "source": [
    "Save the model to a HDF5 file."
   ]
  },
  {
   "cell_type": "code",
   "execution_count": 43,
   "metadata": {},
   "outputs": [],
   "source": [
    "model.save('trans_learning_top_only.h5')"
   ]
  },
  {
   "cell_type": "markdown",
   "metadata": {
    "deletable": false,
    "editable": false,
    "nbgrader": {
     "checksum": "8b8007704893660e8abc0c87b9028923",
     "grade": false,
     "grade_id": "cell-544a73726bebe121",
     "locked": true,
     "schema_version": 1,
     "solution": false
    }
   },
   "source": [
    "### 5.2 Fine-tuning"
   ]
  },
  {
   "cell_type": "markdown",
   "metadata": {
    "deletable": false,
    "editable": false,
    "nbgrader": {
     "checksum": "6b5a44cfe68ff124f447339454f4f3ee",
     "grade": false,
     "grade_id": "cell-1ee9ebc87fd3358e",
     "locked": true,
     "schema_version": 1,
     "solution": false
    }
   },
   "source": [
    "Now that we have a better starting point for the top layers, we can train the entire network. Unfreeze the bottom layers.\n",
    "\n",
    "Tip:\n",
    "- Always recompile your model after changing anything in it!"
   ]
  },
  {
   "cell_type": "code",
   "execution_count": 44,
   "metadata": {
    "deletable": false,
    "nbgrader": {
     "checksum": "412d6cf989068c151bd4b3f4085e7194",
     "grade": true,
     "grade_id": "cell-3918c2cdd9817f7e",
     "locked": false,
     "points": 0,
     "schema_version": 1,
     "solution": true
    }
   },
   "outputs": [],
   "source": [
    "#from keras.models import load_model\n",
    "#model = load_model('trans_learning_top_only.h5')\n",
    "\n",
    "# YOUR CODE HERE\n",
    "# The first few layers, usually, will be detecting edges and blobs; they can be freezed to save training time. \n",
    "# Because the classification task in the dog&cat dataset is included in the ImageNet, in which sense, these two datasets are, to some extent, similar.\n",
    "FREEZE_LAYERS = 3  # freeze the first few layers\n",
    "for layer in model.layers[:FREEZE_LAYERS]:\n",
    "    layer.trainable = False\n",
    "for layer in model.layers[FREEZE_LAYERS:]:\n",
    "    layer.trainable = True  "
   ]
  },
  {
   "cell_type": "markdown",
   "metadata": {
    "deletable": false,
    "editable": false,
    "nbgrader": {
     "checksum": "ff2a177a54d2f9830995848f8de425b8",
     "grade": false,
     "grade_id": "cell-80fa8c89f1b262f1",
     "locked": true,
     "schema_version": 1,
     "solution": false
    }
   },
   "source": [
    "Create the callbacks (if any) you would like to use for this training here, compile the model, and train it.\n",
    "\n",
    "Tip:\n",
    "- Even though we do have a decent starting point for the optimization, it's still possible that a bad hyper-parameter choice wrecks the preinitialization. Make sure to use a small learning rate for this step."
   ]
  },
  {
   "cell_type": "code",
   "execution_count": 45,
   "metadata": {
    "deletable": false,
    "nbgrader": {
     "checksum": "6814e17803f83868b0fd75d82f421ec3",
     "grade": true,
     "grade_id": "cell-594c6039216461e5",
     "locked": false,
     "points": 1,
     "schema_version": 1,
     "solution": true
    },
    "scrolled": false
   },
   "outputs": [
    {
     "name": "stdout",
     "output_type": "stream",
     "text": [
      "Training model\n",
      "Epoch 1/20\n",
      "109/109 [==============================] - 96s 883ms/step - loss: 0.0610 - acc: 0.9782 - val_loss: 0.1767 - val_acc: 0.9280\n",
      "Epoch 2/20\n",
      "109/109 [==============================] - 89s 819ms/step - loss: 0.0485 - acc: 0.9848 - val_loss: 0.1704 - val_acc: 0.9273\n",
      "Epoch 3/20\n",
      "109/109 [==============================] - 89s 816ms/step - loss: 0.0399 - acc: 0.9882 - val_loss: 0.1706 - val_acc: 0.9333\n",
      "Epoch 4/20\n",
      "109/109 [==============================] - 89s 817ms/step - loss: 0.0400 - acc: 0.9880 - val_loss: 0.1693 - val_acc: 0.9320\n",
      "Epoch 5/20\n",
      "109/109 [==============================] - 89s 818ms/step - loss: 0.0328 - acc: 0.9911 - val_loss: 0.1673 - val_acc: 0.9340\n",
      "Epoch 6/20\n",
      "109/109 [==============================] - 89s 817ms/step - loss: 0.0315 - acc: 0.9920 - val_loss: 0.1650 - val_acc: 0.9340\n",
      "Epoch 7/20\n",
      "109/109 [==============================] - 89s 817ms/step - loss: 0.0321 - acc: 0.9914 - val_loss: 0.1663 - val_acc: 0.9340\n",
      "Epoch 8/20\n",
      "109/109 [==============================] - 90s 821ms/step - loss: 0.0282 - acc: 0.9937 - val_loss: 0.1640 - val_acc: 0.9340\n",
      "Epoch 9/20\n",
      "109/109 [==============================] - 89s 812ms/step - loss: 0.0259 - acc: 0.9943 - val_loss: 0.1651 - val_acc: 0.9333\n",
      "Epoch 10/20\n",
      "109/109 [==============================] - 89s 815ms/step - loss: 0.0254 - acc: 0.9943 - val_loss: 0.1622 - val_acc: 0.9353\n",
      "Epoch 11/20\n",
      "109/109 [==============================] - 89s 820ms/step - loss: 0.0245 - acc: 0.9934 - val_loss: 0.1669 - val_acc: 0.9373\n",
      "Epoch 12/20\n",
      "109/109 [==============================] - 89s 816ms/step - loss: 0.0220 - acc: 0.9943 - val_loss: 0.1626 - val_acc: 0.9360\n",
      "Epoch 13/20\n",
      "109/109 [==============================] - 89s 813ms/step - loss: 0.0211 - acc: 0.9946 - val_loss: 0.1618 - val_acc: 0.9400\n",
      "Epoch 14/20\n",
      "109/109 [==============================] - 89s 817ms/step - loss: 0.0202 - acc: 0.9966 - val_loss: 0.1651 - val_acc: 0.9380\n",
      "Epoch 15/20\n",
      "109/109 [==============================] - 89s 819ms/step - loss: 0.0206 - acc: 0.9948 - val_loss: 0.1702 - val_acc: 0.9367\n",
      "Epoch 16/20\n",
      "109/109 [==============================] - 89s 816ms/step - loss: 0.0187 - acc: 0.9966 - val_loss: 0.1605 - val_acc: 0.9380\n",
      "Epoch 17/20\n",
      "109/109 [==============================] - 89s 813ms/step - loss: 0.0184 - acc: 0.9957 - val_loss: 0.1602 - val_acc: 0.9387\n",
      "Epoch 18/20\n",
      "109/109 [==============================] - 89s 817ms/step - loss: 0.0169 - acc: 0.9960 - val_loss: 0.1614 - val_acc: 0.9387\n",
      "Epoch 19/20\n",
      "109/109 [==============================] - 89s 817ms/step - loss: 0.0150 - acc: 0.9971 - val_loss: 0.1614 - val_acc: 0.9393\n",
      "Epoch 20/20\n",
      "109/109 [==============================] - 89s 819ms/step - loss: 0.0152 - acc: 0.9974 - val_loss: 0.1651 - val_acc: 0.9387\n",
      "Done!\n"
     ]
    }
   ],
   "source": [
    "# YOUR CODE HERE\n",
    "opt = optimizers.SGD(lr=1e-5, momentum=0.9, decay=0.0, nesterov=False)\n",
    "model.compile(loss='binary_crossentropy', \n",
    "\t             optimizer=opt, metrics=['accuracy'])\n",
    "print('Training model')\n",
    "ft_history=model.fit_generator(\n",
    "            train_generator,\n",
    "            steps_per_epoch=3500 // BATCH_SIZE,\n",
    "            epochs=NUM_EPOCHS,\n",
    "            validation_data=validation_generator,     \n",
    "            validation_steps=1500 // BATCH_SIZE)\n",
    "print('Done!')"
   ]
  },
  {
   "cell_type": "markdown",
   "metadata": {
    "deletable": false,
    "editable": false,
    "nbgrader": {
     "checksum": "653d29a729772d9cb73bfbe24fc76065",
     "grade": false,
     "grade_id": "cell-5dc3e388a41da3ed",
     "locked": true,
     "schema_version": 1,
     "solution": false
    }
   },
   "source": [
    "How does the model perform, compared to the model trained with freezed layers? Create one plot with the training accuracy and another with the validation accuracy of the two scenarios."
   ]
  },
  {
   "cell_type": "code",
   "execution_count": 54,
   "metadata": {
    "deletable": false,
    "nbgrader": {
     "checksum": "b7b2e69e2ffc7f5bff07ba62225b4cee",
     "grade": true,
     "grade_id": "cell-7edb12ee397ec817",
     "locked": false,
     "points": 0,
     "schema_version": 1,
     "solution": true
    }
   },
   "outputs": [
    {
     "data": {
      "text/plain": [
       "<matplotlib.legend.Legend at 0x7f73835b2400>"
      ]
     },
     "execution_count": 54,
     "metadata": {},
     "output_type": "execute_result"
    },
    {
     "data": {
      "image/png": "[encoded data removed]",
      "text/plain": [
       "<Figure size 1080x360 with 2 Axes>"
      ]
     },
     "metadata": {},
     "output_type": "display_data"
    }
   ],
   "source": [
    "# YOUR CODE HERE\n",
    "fig, axes = plt.subplots(nrows=1, ncols=2, figsize=(15, 5))\n",
    "# summarize history for accuracy\n",
    "axes[0].plot(range(1,NUM_EPOCHS+1), ft_history.history['acc'], '-x')\n",
    "axes[0].plot(range(1,NUM_EPOCHS+1), tl_history.history['acc'], '-+')\n",
    "axes[0].set_title('Training accuracy')\n",
    "axes[0].set_ylabel('Accuracy')\n",
    "axes[0].set_xlabel('Epoch')\n",
    "axes[0].set_xticks(range(1,NUM_EPOCHS+1))\n",
    "axes[0].grid(linestyle='-')\n",
    "axes[0].legend(['Fine_tune','Freeze'], loc='best')\n",
    "\n",
    "# summarize history for loss\n",
    "axes[1].plot(range(1,NUM_EPOCHS+1), ft_history.history['val_acc'], '-x')\n",
    "axes[1].plot(range(1,NUM_EPOCHS+1), tl_history.history['val_acc'], '-+')\n",
    "axes[1].set_title('Validation accuracy')\n",
    "axes[1].set_ylabel('Accuracy')\n",
    "axes[1].set_xlabel('Epoch')\n",
    "axes[1].set_xticks(range(1,NUM_EPOCHS+1))\n",
    "axes[1].grid(linestyle='-')\n",
    "axes[1].legend(['Fine_tune','Freeze'], loc='best')"
   ]
  },
  {
   "cell_type": "markdown",
   "metadata": {
    "deletable": false,
    "editable": false,
    "nbgrader": {
     "checksum": "c14cf7017869bbc745425dc4c9d4a7a9",
     "grade": false,
     "grade_id": "cell-5dae528a81d5ff24",
     "locked": true,
     "schema_version": 1,
     "solution": false
    }
   },
   "source": [
    "Did the model's performance improve? Why (why not)?"
   ]
  },
  {
   "cell_type": "markdown",
   "metadata": {
    "deletable": false,
    "nbgrader": {
     "checksum": "69dfca588131944b0e9825a1532de432",
     "grade": true,
     "grade_id": "cell-0f4a5edca490320e",
     "locked": false,
     "points": 1,
     "schema_version": 1,
     "solution": true
    }
   },
   "source": [
    "**Your answer:** The model's performance improved when trained with entrie layers. The original VGG16 model is trained to do a much more complex multi-task classification problem. Because our objective is just to classify whether the image is dog or cat, unfreezing the hidden layers allows the already learned parameters to be further adapted, in a manner that, the network focuses on a much smaller objective (Dog or Cat). This explains the performance improvement."
   ]
  },
  {
   "cell_type": "markdown",
   "metadata": {
    "deletable": false,
    "editable": false,
    "nbgrader": {
     "checksum": "b4d50b78d6ec765ce5b0f627873fa5e3",
     "grade": false,
     "grade_id": "cell-4ed3967e4f6c5f7f",
     "locked": true,
     "schema_version": 1,
     "solution": false
    }
   },
   "source": [
    "Save the model to a HDF5 file."
   ]
  },
  {
   "cell_type": "code",
   "execution_count": 47,
   "metadata": {},
   "outputs": [],
   "source": [
    "model.save('trans_learning_full.h5')"
   ]
  },
  {
   "cell_type": "markdown",
   "metadata": {
    "deletable": false,
    "editable": false,
    "nbgrader": {
     "checksum": "512bd4321118a59c1774035ffde4470d",
     "grade": false,
     "grade_id": "cell-56908ee1e60aa411",
     "locked": true,
     "schema_version": 1,
     "solution": false
    }
   },
   "source": [
    "### 5.3 Improving the top model (optional)"
   ]
  },
  {
   "cell_type": "markdown",
   "metadata": {
    "deletable": false,
    "editable": false,
    "nbgrader": {
     "checksum": "a63ad0cdc8ae853a3b9b6ebd16904186",
     "grade": false,
     "grade_id": "cell-3c8d8e5ab949ee35",
     "locked": true,
     "schema_version": 1,
     "solution": false
    }
   },
   "source": [
    "Improve the architecture for the layers you add on top of VGG16. Try different ideas, and consider comparing them using tensorboard. When you're happy with one architecture, copy it in the cell below and train it here."
   ]
  },
  {
   "cell_type": "code",
   "execution_count": 48,
   "metadata": {
    "deletable": false,
    "nbgrader": {
     "checksum": "8e78037ef98c08769cd8104d7541cb51",
     "grade": true,
     "grade_id": "cell-22d09c8401d84b61",
     "locked": false,
     "points": 1,
     "schema_version": 1,
     "solution": true
    },
    "scrolled": false
   },
   "outputs": [
    {
     "name": "stdout",
     "output_type": "stream",
     "text": [
      "_________________________________________________________________\n",
      "Layer (type)                 Output Shape              Param #   \n",
      "=================================================================\n",
      "input_2 (InputLayer)         (None, 224, 224, 3)       0         \n",
      "_________________________________________________________________\n",
      "block1_conv1 (Conv2D)        (None, 224, 224, 64)      1792      \n",
      "_________________________________________________________________\n",
      "block1_conv2 (Conv2D)        (None, 224, 224, 64)      36928     \n",
      "_________________________________________________________________\n",
      "block1_pool (MaxPooling2D)   (None, 112, 112, 64)      0         \n",
      "_________________________________________________________________\n",
      "block2_conv1 (Conv2D)        (None, 112, 112, 128)     73856     \n",
      "_________________________________________________________________\n",
      "block2_conv2 (Conv2D)        (None, 112, 112, 128)     147584    \n",
      "_________________________________________________________________\n",
      "block2_pool (MaxPooling2D)   (None, 56, 56, 128)       0         \n",
      "_________________________________________________________________\n",
      "block3_conv1 (Conv2D)        (None, 56, 56, 256)       295168    \n",
      "_________________________________________________________________\n",
      "block3_conv2 (Conv2D)        (None, 56, 56, 256)       590080    \n",
      "_________________________________________________________________\n",
      "block3_conv3 (Conv2D)        (None, 56, 56, 256)       590080    \n",
      "_________________________________________________________________\n",
      "block3_pool (MaxPooling2D)   (None, 28, 28, 256)       0         \n",
      "_________________________________________________________________\n",
      "block4_conv1 (Conv2D)        (None, 28, 28, 512)       1180160   \n",
      "_________________________________________________________________\n",
      "block4_conv2 (Conv2D)        (None, 28, 28, 512)       2359808   \n",
      "_________________________________________________________________\n",
      "block4_conv3 (Conv2D)        (None, 28, 28, 512)       2359808   \n",
      "_________________________________________________________________\n",
      "block4_pool (MaxPooling2D)   (None, 14, 14, 512)       0         \n",
      "_________________________________________________________________\n",
      "block5_conv1 (Conv2D)        (None, 14, 14, 512)       2359808   \n",
      "_________________________________________________________________\n",
      "block5_conv2 (Conv2D)        (None, 14, 14, 512)       2359808   \n",
      "_________________________________________________________________\n",
      "block5_conv3 (Conv2D)        (None, 14, 14, 512)       2359808   \n",
      "_________________________________________________________________\n",
      "block5_pool (MaxPooling2D)   (None, 7, 7, 512)         0         \n",
      "_________________________________________________________________\n",
      "conv2d_2 (Conv2D)            (None, 5, 5, 256)         1179904   \n",
      "_________________________________________________________________\n",
      "max_pooling2d_2 (MaxPooling2 (None, 2, 2, 256)         0         \n",
      "_________________________________________________________________\n",
      "flatten_2 (Flatten)          (None, 1024)              0         \n",
      "_________________________________________________________________\n",
      "dense_3 (Dense)              (None, 1024)              1049600   \n",
      "_________________________________________________________________\n",
      "dropout_2 (Dropout)          (None, 1024)              0         \n",
      "_________________________________________________________________\n",
      "dense_4 (Dense)              (None, 1)                 1025      \n",
      "=================================================================\n",
      "Total params: 16,945,217\n",
      "Trainable params: 2,230,529\n",
      "Non-trainable params: 14,714,688\n",
      "_________________________________________________________________\n",
      "_________________________________________________________________\n",
      "Layer (type)                 Output Shape              Param #   \n",
      "=================================================================\n",
      "input_2 (InputLayer)         (None, 224, 224, 3)       0         \n",
      "_________________________________________________________________\n",
      "block1_conv1 (Conv2D)        (None, 224, 224, 64)      1792      \n",
      "_________________________________________________________________\n",
      "block1_conv2 (Conv2D)        (None, 224, 224, 64)      36928     \n",
      "_________________________________________________________________\n",
      "block1_pool (MaxPooling2D)   (None, 112, 112, 64)      0         \n",
      "_________________________________________________________________\n",
      "block2_conv1 (Conv2D)        (None, 112, 112, 128)     73856     \n",
      "_________________________________________________________________\n",
      "block2_conv2 (Conv2D)        (None, 112, 112, 128)     147584    \n",
      "_________________________________________________________________\n",
      "block2_pool (MaxPooling2D)   (None, 56, 56, 128)       0         \n",
      "_________________________________________________________________\n",
      "block3_conv1 (Conv2D)        (None, 56, 56, 256)       295168    \n",
      "_________________________________________________________________\n",
      "block3_conv2 (Conv2D)        (None, 56, 56, 256)       590080    \n",
      "_________________________________________________________________\n",
      "block3_conv3 (Conv2D)        (None, 56, 56, 256)       590080    \n",
      "_________________________________________________________________\n",
      "block3_pool (MaxPooling2D)   (None, 28, 28, 256)       0         \n",
      "_________________________________________________________________\n",
      "block4_conv1 (Conv2D)        (None, 28, 28, 512)       1180160   \n",
      "_________________________________________________________________\n",
      "block4_conv2 (Conv2D)        (None, 28, 28, 512)       2359808   \n",
      "_________________________________________________________________\n",
      "block4_conv3 (Conv2D)        (None, 28, 28, 512)       2359808   \n",
      "_________________________________________________________________\n",
      "block4_pool (MaxPooling2D)   (None, 14, 14, 512)       0         \n",
      "_________________________________________________________________\n",
      "block5_conv1 (Conv2D)        (None, 14, 14, 512)       2359808   \n",
      "_________________________________________________________________\n",
      "block5_conv2 (Conv2D)        (None, 14, 14, 512)       2359808   \n",
      "_________________________________________________________________\n",
      "block5_conv3 (Conv2D)        (None, 14, 14, 512)       2359808   \n",
      "_________________________________________________________________\n",
      "block5_pool (MaxPooling2D)   (None, 7, 7, 512)         0         \n",
      "_________________________________________________________________\n",
      "conv2d_2 (Conv2D)            (None, 5, 5, 256)         1179904   \n",
      "_________________________________________________________________\n",
      "max_pooling2d_2 (MaxPooling2 (None, 2, 2, 256)         0         \n",
      "_________________________________________________________________\n",
      "flatten_2 (Flatten)          (None, 1024)              0         \n",
      "_________________________________________________________________\n",
      "dense_3 (Dense)              (None, 1024)              1049600   \n",
      "_________________________________________________________________\n",
      "dropout_2 (Dropout)          (None, 1024)              0         \n",
      "_________________________________________________________________\n",
      "dense_4 (Dense)              (None, 1)                 1025      \n",
      "=================================================================\n",
      "Total params: 16,945,217\n",
      "Trainable params: 16,906,497\n",
      "Non-trainable params: 38,720\n",
      "_________________________________________________________________\n",
      "None\n",
      "Training model\n",
      "Epoch 1/20\n",
      "109/109 [==============================] - 91s 831ms/step - loss: 0.1182 - acc: 0.9550 - val_loss: 0.1082 - val_acc: 0.9607\n",
      "lr: 0.0001\n",
      "Epoch 2/20\n",
      "109/109 [==============================] - 88s 812ms/step - loss: 0.0686 - acc: 0.9739 - val_loss: 0.1096 - val_acc: 0.9553\n",
      "lr: 0.0001\n",
      "Epoch 3/20\n",
      "109/109 [==============================] - 88s 812ms/step - loss: 0.0471 - acc: 0.9825 - val_loss: 0.1140 - val_acc: 0.9527\n",
      "lr: 5e-05\n",
      "Epoch 4/20\n",
      "109/109 [==============================] - 88s 810ms/step - loss: 0.0319 - acc: 0.9900 - val_loss: 0.0919 - val_acc: 0.9660\n",
      "lr: 5e-05\n",
      "Epoch 5/20\n",
      "109/109 [==============================] - 88s 809ms/step - loss: 0.0250 - acc: 0.9946 - val_loss: 0.0883 - val_acc: 0.9687\n",
      "lr: 5e-05\n",
      "Epoch 6/20\n",
      "109/109 [==============================] - 88s 808ms/step - loss: 0.0217 - acc: 0.9971 - val_loss: 0.0979 - val_acc: 0.9607\n",
      "lr: 5e-05\n",
      "Epoch 7/20\n"
     ]
    },
    {
     "name": "stdout",
     "output_type": "stream",
     "text": [
      "109/109 [==============================] - 88s 809ms/step - loss: 0.0160 - acc: 0.9968 - val_loss: 0.0885 - val_acc: 0.9667\n",
      "lr: 2.5e-05\n",
      "Epoch 8/20\n",
      "109/109 [==============================] - 88s 809ms/step - loss: 0.0134 - acc: 0.9986 - val_loss: 0.0901 - val_acc: 0.9640\n",
      "lr: 2.5e-05\n",
      "Epoch 9/20\n",
      "109/109 [==============================] - 88s 806ms/step - loss: 0.0129 - acc: 0.9989 - val_loss: 0.0939 - val_acc: 0.9640\n",
      "lr: 2.5e-05\n",
      "Done!\n"
     ]
    }
   ],
   "source": [
    "# We trained the network on another computer using only .py file; thus, only the model summary is provided\n",
    "model = load_model('trans_learning_improved.h5')\n",
    "\n",
    "model.summary()\n",
    "\n",
    "def step_decay(epoch):\n",
    "# drop the learning rate by half every epochs_drop epochs.\n",
    "\tinitial_lrate = 0.0001\n",
    "\tdrop = 0.5\n",
    "\tepochs_drop = 4.0\n",
    "\tlrate = initial_lrate * math.pow(drop,  \n",
    "           math.floor((1+epoch)/epochs_drop))\n",
    "\treturn lrate\n",
    "\n",
    "class LossHistory(Callback):\n",
    "    def on_train_begin(self, logs={}):\n",
    "       self.losses = []\n",
    "       self.lr = []\n",
    " \n",
    "    def on_epoch_end(self, batch, logs={}):\n",
    "       self.losses.append(logs.get('loss'))\n",
    "       self.lr.append(step_decay(len(self.losses)))\n",
    "       print('lr:', step_decay(len(self.losses)))\n",
    "\n",
    "FREEZE_LAYERS = 3  # freeze the first few layers\n",
    "for layer in model.layers[:FREEZE_LAYERS]:\n",
    "    layer.trainable = False\n",
    "for layer in model.layers[FREEZE_LAYERS:]:\n",
    "    layer.trainable = True        \n",
    "\n",
    "loss_history = LossHistory()\n",
    "lrate = LearningRateScheduler(step_decay)\n",
    "opt = optimizers.SGD(lr=0.0001, momentum=0.9, decay=0.0, nesterov=False)\n",
    "model.compile(loss='binary_crossentropy', \n",
    "\t             optimizer=opt, metrics=['accuracy'])\n",
    "\n",
    "#tb = TensorBoard(log_dir='./TF/2moreconv')\n",
    "es = EarlyStopping(monitor='val_loss', patience=4)\n",
    "       \n",
    "print(model.summary())\n",
    "\n",
    "#Create callback list\n",
    "callbacks_list = [loss_history, lrate,es]\n",
    "print('Training model')\n",
    "im_history=model.fit_generator(\n",
    "            train_generator,\n",
    "            steps_per_epoch=3500 // BATCH_SIZE,\n",
    "            epochs=NUM_EPOCHS,\n",
    "            validation_data=validation_generator,     \n",
    "            validation_steps=1500 // BATCH_SIZE,\n",
    "            callbacks=callbacks_list)\n",
    "print('Done!')"
   ]
  },
  {
   "cell_type": "markdown",
   "metadata": {
    "deletable": false,
    "editable": false,
    "nbgrader": {
     "checksum": "d040142833a356a7174729a7a8aadb1c",
     "grade": false,
     "grade_id": "cell-48933baad6c5afeb",
     "locked": true,
     "schema_version": 1,
     "solution": false
    }
   },
   "source": [
    "How does the model perform, compared to the model trained in step 5.2? Create one plot with the training accuracy and another with the validation accuracy of the two scenarios."
   ]
  },
  {
   "cell_type": "code",
   "execution_count": 52,
   "metadata": {
    "deletable": false,
    "nbgrader": {
     "checksum": "0bac4e10ca36850170af565096710d1c",
     "grade": true,
     "grade_id": "cell-7cb62a04916a848e",
     "locked": false,
     "points": 0,
     "schema_version": 1,
     "solution": true
    }
   },
   "outputs": [
    {
     "data": {
      "text/plain": [
       "<matplotlib.legend.Legend at 0x7f73836a6d30>"
      ]
     },
     "execution_count": 52,
     "metadata": {},
     "output_type": "execute_result"
    },
    {
     "data": {
      "image/png": "[encoded data removed]",
      "text/plain": [
       "<Figure size 1080x360 with 2 Axes>"
      ]
     },
     "metadata": {},
     "output_type": "display_data"
    }
   ],
   "source": [
    "# YOUR CODE HERE\n",
    "fig, axes = plt.subplots(nrows=1, ncols=2, figsize=(15, 5))\n",
    "# summarize history for accuracy\n",
    "axes[0].plot(range(1,10), im_history.history['acc'], '-x')\n",
    "axes[0].plot(range(1,NUM_EPOCHS+1), ft_history.history['acc'], '-+')\n",
    "axes[0].set_title('Training accuracy')\n",
    "axes[0].set_ylabel('Accuracy')\n",
    "axes[0].set_xlabel('Epoch')\n",
    "axes[0].set_xticks(range(1,NUM_EPOCHS+1))\n",
    "axes[0].grid(linestyle='-')\n",
    "axes[0].legend(['Fine_tune','Freeze'], loc='best')\n",
    "\n",
    "# summarize history for loss\n",
    "axes[1].plot(range(1,10), im_history.history['val_acc'], '-x')\n",
    "axes[1].plot(range(1,NUM_EPOCHS+1), ft_history.history['val_acc'], '-+')\n",
    "axes[1].set_title('Validation accuracy')\n",
    "axes[1].set_ylabel('Accuracy')\n",
    "axes[1].set_xlabel('Epoch')\n",
    "axes[1].set_xticks(range(1,NUM_EPOCHS+1))\n",
    "axes[1].grid(linestyle='-')\n",
    "axes[1].legend(['Fine_tune','Freeze'], loc='best')"
   ]
  },
  {
   "cell_type": "markdown",
   "metadata": {
    "deletable": false,
    "editable": false,
    "nbgrader": {
     "checksum": "729c848775b6b7c20775151cffe38bfa",
     "grade": false,
     "grade_id": "cell-8bbfa3e11e2dfff9",
     "locked": true,
     "schema_version": 1,
     "solution": false
    }
   },
   "source": [
    "Save the model to a HDF5 file."
   ]
  },
  {
   "cell_type": "code",
   "execution_count": 53,
   "metadata": {},
   "outputs": [],
   "source": [
    "model.save('best_trans_learning.h5')"
   ]
  },
  {
   "cell_type": "markdown",
   "metadata": {
    "deletable": false,
    "editable": false,
    "nbgrader": {
     "checksum": "4b192e3a46581dd6f57326ddb21ee49c",
     "grade": false,
     "grade_id": "cell-ad0efbac33de5a65",
     "locked": true,
     "schema_version": 1,
     "solution": false
    }
   },
   "source": [
    "## 6. Final training"
   ]
  },
  {
   "cell_type": "markdown",
   "metadata": {
    "deletable": false,
    "editable": false,
    "nbgrader": {
     "checksum": "6e460754d2c0f05f0e79ae982a3fe3d3",
     "grade": false,
     "grade_id": "cell-cf811afdac96843b",
     "locked": true,
     "schema_version": 1,
     "solution": false
    }
   },
   "source": [
    "Now we'll train the model that achieved the best performance so far using the entire dataset.\n",
    "\n",
    "**Note**: start the optimization with the weights you obtained training in the smaller subset, i.e. *not* from scratch."
   ]
  },
  {
   "cell_type": "markdown",
   "metadata": {
    "deletable": false,
    "editable": false,
    "nbgrader": {
     "checksum": "10fada090ba96eae198313ce7e9f1e22",
     "grade": false,
     "grade_id": "cell-3ae2a65188e4ac74",
     "locked": true,
     "schema_version": 1,
     "solution": false
    }
   },
   "source": [
    "First, create two new data generators, one for training samples and one for validation samples. This time, they'll load data from the folders for the entire dataset."
   ]
  },
  {
   "cell_type": "code",
   "execution_count": 4,
   "metadata": {
    "deletable": false,
    "nbgrader": {
     "checksum": "62bfd99d9d34913ada18493c74745706",
     "grade": true,
     "grade_id": "cell-64eaa83780f5eac9",
     "locked": false,
     "points": 0,
     "schema_version": 1,
     "solution": true
    }
   },
   "outputs": [
    {
     "name": "stdout",
     "output_type": "stream",
     "text": [
      "Found 20000 images belonging to 2 classes.\n",
      "Found 5000 images belonging to 2 classes.\n"
     ]
    }
   ],
   "source": [
    "# YOUR CODE HERE\n",
    "final_model = load_model('best_trans_learning.h5')\n",
    "\n",
    "train_generator = train_datagen.flow_from_directory(\n",
    "                    full_train_path,\n",
    "                    target_size=IMAGE_SIZE,\n",
    "                    batch_size=BATCH_SIZE,\n",
    "                    class_mode='binary')\n",
    "\n",
    "validation_generator = test_datagen.flow_from_directory(\n",
    "        full_val_path,\n",
    "        target_size=IMAGE_SIZE,\n",
    "        batch_size=BATCH_SIZE,\n",
    "        class_mode='binary')\n"
   ]
  },
  {
   "cell_type": "markdown",
   "metadata": {
    "deletable": false,
    "editable": false,
    "nbgrader": {
     "checksum": "e7ae11154dee1b18040a35a6990ed284",
     "grade": false,
     "grade_id": "cell-f3f79586de42561b",
     "locked": true,
     "schema_version": 1,
     "solution": false
    }
   },
   "source": [
    "Create the callbacks you would like to use and train your model. This optimization might take a long time, so TensorBoard is advised ;)."
   ]
  },
  {
   "cell_type": "code",
   "execution_count": 6,
   "metadata": {
    "deletable": false,
    "nbgrader": {
     "checksum": "bad26172f9b786e6209e418f1ace058e",
     "grade": true,
     "grade_id": "cell-c7dd71a632b5f152",
     "locked": false,
     "points": 2,
     "schema_version": 1,
     "solution": true
    }
   },
   "outputs": [
    {
     "name": "stdout",
     "output_type": "stream",
     "text": [
      "_________________________________________________________________\n",
      "Layer (type)                 Output Shape              Param #   \n",
      "=================================================================\n",
      "input_2 (InputLayer)         (None, 224, 224, 3)       0         \n",
      "_________________________________________________________________\n",
      "block1_conv1 (Conv2D)        (None, 224, 224, 64)      1792      \n",
      "_________________________________________________________________\n",
      "block1_conv2 (Conv2D)        (None, 224, 224, 64)      36928     \n",
      "_________________________________________________________________\n",
      "block1_pool (MaxPooling2D)   (None, 112, 112, 64)      0         \n",
      "_________________________________________________________________\n",
      "block2_conv1 (Conv2D)        (None, 112, 112, 128)     73856     \n",
      "_________________________________________________________________\n",
      "block2_conv2 (Conv2D)        (None, 112, 112, 128)     147584    \n",
      "_________________________________________________________________\n",
      "block2_pool (MaxPooling2D)   (None, 56, 56, 128)       0         \n",
      "_________________________________________________________________\n",
      "block3_conv1 (Conv2D)        (None, 56, 56, 256)       295168    \n",
      "_________________________________________________________________\n",
      "block3_conv2 (Conv2D)        (None, 56, 56, 256)       590080    \n",
      "_________________________________________________________________\n",
      "block3_conv3 (Conv2D)        (None, 56, 56, 256)       590080    \n",
      "_________________________________________________________________\n",
      "block3_pool (MaxPooling2D)   (None, 28, 28, 256)       0         \n",
      "_________________________________________________________________\n",
      "block4_conv1 (Conv2D)        (None, 28, 28, 512)       1180160   \n",
      "_________________________________________________________________\n",
      "block4_conv2 (Conv2D)        (None, 28, 28, 512)       2359808   \n",
      "_________________________________________________________________\n",
      "block4_conv3 (Conv2D)        (None, 28, 28, 512)       2359808   \n",
      "_________________________________________________________________\n",
      "block4_pool (MaxPooling2D)   (None, 14, 14, 512)       0         \n",
      "_________________________________________________________________\n",
      "block5_conv1 (Conv2D)        (None, 14, 14, 512)       2359808   \n",
      "_________________________________________________________________\n",
      "block5_conv2 (Conv2D)        (None, 14, 14, 512)       2359808   \n",
      "_________________________________________________________________\n",
      "block5_conv3 (Conv2D)        (None, 14, 14, 512)       2359808   \n",
      "_________________________________________________________________\n",
      "block5_pool (MaxPooling2D)   (None, 7, 7, 512)         0         \n",
      "_________________________________________________________________\n",
      "conv2d_2 (Conv2D)            (None, 5, 5, 256)         1179904   \n",
      "_________________________________________________________________\n",
      "max_pooling2d_2 (MaxPooling2 (None, 2, 2, 256)         0         \n",
      "_________________________________________________________________\n",
      "flatten_2 (Flatten)          (None, 1024)              0         \n",
      "_________________________________________________________________\n",
      "dense_3 (Dense)              (None, 1024)              1049600   \n",
      "_________________________________________________________________\n",
      "dropout_2 (Dropout)          (None, 1024)              0         \n",
      "_________________________________________________________________\n",
      "dense_4 (Dense)              (None, 1)                 1025      \n",
      "=================================================================\n",
      "Total params: 16,945,217\n",
      "Trainable params: 16,906,497\n",
      "Non-trainable params: 38,720\n",
      "_________________________________________________________________\n",
      "None\n",
      "Training model\n",
      "Epoch 1/20\n",
      "625/625 [==============================] - 553s 884ms/step - loss: 0.0707 - acc: 0.9732 - val_loss: 0.0636 - val_acc: 0.9764\n",
      "lr: 0.0001\n",
      "Epoch 2/20\n",
      "625/625 [==============================] - 481s 769ms/step - loss: 0.0443 - acc: 0.9838 - val_loss: 0.0533 - val_acc: 0.9798\n",
      "lr: 0.0001\n",
      "Epoch 3/20\n",
      "625/625 [==============================] - 481s 770ms/step - loss: 0.0319 - acc: 0.9883 - val_loss: 0.0493 - val_acc: 0.9816\n",
      "lr: 5e-05\n",
      "Epoch 4/20\n",
      "625/625 [==============================] - 480s 767ms/step - loss: 0.0201 - acc: 0.9944 - val_loss: 0.0521 - val_acc: 0.9804\n",
      "lr: 5e-05\n",
      "Epoch 5/20\n",
      "625/625 [==============================] - 480s 768ms/step - loss: 0.0167 - acc: 0.9947 - val_loss: 0.0470 - val_acc: 0.9846\n",
      "lr: 5e-05\n",
      "Epoch 6/20\n",
      "625/625 [==============================] - 479s 766ms/step - loss: 0.0141 - acc: 0.9954 - val_loss: 0.0475 - val_acc: 0.9820\n",
      "lr: 5e-05\n",
      "Epoch 7/20\n",
      "625/625 [==============================] - 478s 765ms/step - loss: 0.0109 - acc: 0.9972 - val_loss: 0.0488 - val_acc: 0.9842\n",
      "lr: 2.5e-05\n",
      "Epoch 8/20\n",
      "625/625 [==============================] - 478s 765ms/step - loss: 0.0090 - acc: 0.9980 - val_loss: 0.0500 - val_acc: 0.9842\n",
      "lr: 2.5e-05\n",
      "Epoch 9/20\n",
      "625/625 [==============================] - 478s 765ms/step - loss: 0.0077 - acc: 0.9986 - val_loss: 0.0501 - val_acc: 0.9844\n",
      "lr: 2.5e-05\n",
      "Done!\n"
     ]
    }
   ],
   "source": [
    "# YOUR CODE HERE\n",
    "def step_decay(epoch):\n",
    "# drop the learning rate by half every epochs_drop epochs.\n",
    "\tinitial_lrate = 0.0001\n",
    "\tdrop = 0.5\n",
    "\tepochs_drop = 4.0\n",
    "\tlrate = initial_lrate * math.pow(drop,  \n",
    "           math.floor((1+epoch)/epochs_drop))\n",
    "\treturn lrate\n",
    "\n",
    "class LossHistory(Callback):\n",
    "    def on_train_begin(self, logs={}):\n",
    "       self.losses = []\n",
    "       self.lr = []\n",
    " \n",
    "    def on_epoch_end(self, batch, logs={}):\n",
    "       self.losses.append(logs.get('loss'))\n",
    "       self.lr.append(step_decay(len(self.losses)))\n",
    "       print('lr:', step_decay(len(self.losses)))\n",
    "\n",
    "loss_history = LossHistory()\n",
    "lrate = LearningRateScheduler(step_decay)\n",
    "opt = optimizers.SGD(lr=0.0001, momentum=0.9, decay=0.0, nesterov=False)\n",
    "final_model.compile(loss='binary_crossentropy', \n",
    "\t             optimizer=opt, metrics=['accuracy'])\n",
    "\n",
    "#tb = TensorBoard(log_dir='./TF/2moreconv')\n",
    "es = EarlyStopping(monitor='val_loss', patience=4)\n",
    "       \n",
    "print(final_model.summary())\n",
    "\n",
    "#Create callback list\n",
    "callbacks_list = [loss_history, lrate,es]\n",
    "print('Training model')\n",
    "final_history=final_model.fit_generator(\n",
    "            train_generator,\n",
    "            steps_per_epoch=20000 // BATCH_SIZE,\n",
    "            epochs=NUM_EPOCHS,\n",
    "            validation_data=validation_generator,     \n",
    "            validation_steps=5000 // BATCH_SIZE,\n",
    "            callbacks=callbacks_list)\n",
    "print('Done!')"
   ]
  },
  {
   "cell_type": "markdown",
   "metadata": {
    "deletable": false,
    "editable": false,
    "nbgrader": {
     "checksum": "d0ab46f558fb4b49f877ca0bae45376b",
     "grade": false,
     "grade_id": "cell-b1861d3a543c6386",
     "locked": true,
     "schema_version": 1,
     "solution": false
    }
   },
   "source": [
    "How does the model perform now when trained on the entire dataset, compared to when only trained on the smaller subset of data? Create one plot with the training accuracy and another with the validation accuracy of the two scenarios."
   ]
  },
  {
   "cell_type": "code",
   "execution_count": 10,
   "metadata": {
    "deletable": false,
    "nbgrader": {
     "checksum": "52bacfa672fbc7eca004c87d041e3411",
     "grade": true,
     "grade_id": "cell-ceaac6be60ce36a9",
     "locked": false,
     "points": 0,
     "schema_version": 1,
     "solution": true
    }
   },
   "outputs": [
    {
     "data": {
      "text/plain": [
       "<matplotlib.legend.Legend at 0x7fca21e9aa90>"
      ]
     },
     "execution_count": 10,
     "metadata": {},
     "output_type": "execute_result"
    },
    {
     "data": {
      "image/png": "[encoded data removed]",
      "text/plain": [
       "<Figure size 1080x360 with 2 Axes>"
      ]
     },
     "metadata": {},
     "output_type": "display_data"
    }
   ],
   "source": [
    "final_model.save('full_data_learning.h5')\n",
    "\n",
    "# YOUR CODE HERE\n",
    "fig, axes = plt.subplots(nrows=1, ncols=2, figsize=(15, 5))\n",
    "# summarize history for accuracy\n",
    "axes[0].plot(range(1,10), im_history.history['acc'], '-x')\n",
    "axes[0].plot(range(1,10), final_history.history['acc'], '-+')\n",
    "axes[0].set_title('Training accuracy')\n",
    "axes[0].set_ylabel('Accuracy')\n",
    "axes[0].set_xlabel('Epoch')\n",
    "axes[0].set_xticks(range(1,10))\n",
    "axes[0].grid(linestyle='-')\n",
    "axes[0].legend(['Small dataset','Entire dataset'], loc='best')\n",
    "\n",
    "# summarize history for loss\n",
    "axes[1].plot(range(1,10), im_history.history['val_acc'], '-x')\n",
    "axes[1].plot(range(1,10), final_history.history['val_acc'], '-+')\n",
    "axes[1].set_title('Validation accuracy')\n",
    "axes[1].set_ylabel('Accuracy')\n",
    "axes[1].set_xlabel('Epoch')\n",
    "axes[1].set_xticks(range(1,10))\n",
    "axes[1].grid(linestyle='-')\n",
    "axes[1].legend(['Small dataset','Entire dataset'], loc='best')"
   ]
  },
  {
   "cell_type": "markdown",
   "metadata": {
    "deletable": false,
    "editable": false,
    "nbgrader": {
     "checksum": "fa3d1d443f52a1489ac198ca29ddd0c9",
     "grade": false,
     "grade_id": "cell-b38092b08c150e7d",
     "locked": true,
     "schema_version": 1,
     "solution": false
    }
   },
   "source": [
    "What can you conclude from these plots?"
   ]
  },
  {
   "cell_type": "markdown",
   "metadata": {
    "deletable": false,
    "nbgrader": {
     "checksum": "3a4a7b569af9834b505cc8d5daffb2d1",
     "grade": true,
     "grade_id": "cell-694a3fbb7f081da8",
     "locked": false,
     "points": 1,
     "schema_version": 1,
     "solution": true
    }
   },
   "source": [
    "**Your answer:** If one wants to further improve the model’s performance, it is always a good idea to feed the network more training data, if possible;)"
   ]
  },
  {
   "cell_type": "markdown",
   "metadata": {
    "deletable": false,
    "editable": false,
    "nbgrader": {
     "checksum": "da9293dc623b91059c547544b509ad7b",
     "grade": false,
     "grade_id": "cell-5e1ddfbfceb4d194",
     "locked": true,
     "schema_version": 1,
     "solution": false
    }
   },
   "source": [
    "## 7. Evaluation on test set"
   ]
  },
  {
   "cell_type": "markdown",
   "metadata": {
    "deletable": false,
    "editable": false,
    "nbgrader": {
     "checksum": "cd96692057f0be0c7cb1e9c2769f0991",
     "grade": false,
     "grade_id": "cell-a97630bf5d85363f",
     "locked": true,
     "schema_version": 1,
     "solution": false
    }
   },
   "source": [
    "Now we'll evaluate your final model, obtained in step 6, on the test set. As mentioned before, the samples in the test set are not labeled, so we can't compute any performance metrics ourselves. Instead, we'll create a .csv file containing the predictions for each sample, and submit it to Kaggle for evaluation."
   ]
  },
  {
   "cell_type": "markdown",
   "metadata": {
    "deletable": false,
    "editable": false,
    "nbgrader": {
     "checksum": "891007ea6b998a0bfd810187d1e87208",
     "grade": false,
     "grade_id": "cell-96a8fded54ed7011",
     "locked": true,
     "schema_version": 1,
     "solution": false
    }
   },
   "source": [
    "Compute the predictions for all samples in the test set according to your best model, and save it in a .csv file with the format expected by the competition.\n",
    "\n",
    "Tip:\n",
    "- There is a sample_submission file available for download in the same place where you downloaded the data from. Take a look at it to better understand what is the expected format here.\n",
    "\n",
    "Hints:\n",
    "- The Python module `os` has a `listdir` function, which returns the filenames of all files in a given path.\n",
    "- If you don't know how to create and write to files with Python, Google can help.\n",
    "- Keras has a submodule called `preprocessing.image`, with some handy functions (for instance `load_img` and `img_to_array`)"
   ]
  },
  {
   "cell_type": "code",
   "execution_count": 6,
   "metadata": {
    "deletable": false,
    "nbgrader": {
     "checksum": "e235a9ab5690a066143575414247f751",
     "grade": true,
     "grade_id": "cell-cc77ac7849f856e1",
     "locked": false,
     "points": 0,
     "schema_version": 1,
     "solution": true
    }
   },
   "outputs": [
    {
     "name": "stderr",
     "output_type": "stream",
     "text": [
      "100%|██████████| 12500/12500 [00:49<00:00, 254.77it/s]\n"
     ]
    },
    {
     "name": "stdout",
     "output_type": "stream",
     "text": [
      "12500/12500 [==============================] - 130s 10ms/step\n"
     ]
    }
   ],
   "source": [
    "model = load_model('full_data_learning.h5')\n",
    "\n",
    "def get_image(index):\n",
    "    img = cv2.imread('./test/%d.jpg' % index)\n",
    "    img = cv2.resize(img, IMAGE_SIZE)\n",
    "    img.astype(np.float32)\n",
    "    img = img / 255.0\n",
    "    return img\n",
    "\n",
    "test_num = 12500\n",
    "image_matrix = np.zeros((test_num, IMAGE_SIZE[0], IMAGE_SIZE[1], 3), dtype=np.float32)\n",
    "\n",
    "for i in tqdm(range(test_num)):\n",
    "    image_matrix[i] = get_image(i+1)\n",
    "\n",
    "preds = model.predict(image_matrix, verbose=1)\n",
    "\n",
    "s = 'id,label\\n'\n",
    "for i, p in enumerate(preds):\n",
    "    s += '%d,%f\\n' % (i+1, p)\n",
    "\n",
    "with open('DogvsCat.csv', 'w') as f:\n",
    "    f.write(s)  "
   ]
  },
  {
   "cell_type": "markdown",
   "metadata": {
    "deletable": false,
    "editable": false,
    "nbgrader": {
     "checksum": "1e57b252395ed2657e8f39a69dbf4248",
     "grade": false,
     "grade_id": "cell-faf8664f26ff7f4e",
     "locked": true,
     "schema_version": 1,
     "solution": false
    }
   },
   "source": [
    "Now that you created your submission file, submit it to Kaggle for evaluation. The [old competition](https://www.kaggle.com/c/dogs-vs-cats) does not allow submissions any more, so submit your file to the [new one](https://www.kaggle.com/c/dogs-vs-cats-redux-kernels-edition). Kaggle evaluates your submission according to your log-loss score. Which score did you obtain?"
   ]
  },
  {
   "cell_type": "markdown",
   "metadata": {
    "deletable": false,
    "nbgrader": {
     "checksum": "e4a90a8a13658eeb9af3ad05c63220de",
     "grade": true,
     "grade_id": "cell-e951dcec64dec85d",
     "locked": false,
     "points": 2,
     "schema_version": 1,
     "solution": true
    }
   },
   "source": [
    "**Your answer:** 0.16196"
   ]
  },
  {
   "cell_type": "markdown",
   "metadata": {
    "deletable": false,
    "editable": false,
    "nbgrader": {
     "checksum": "e8a7f3a8236f43994efe29067d7237c2",
     "grade": false,
     "grade_id": "cell-dc362abcfef32eae",
     "locked": true,
     "schema_version": 1,
     "solution": false
    }
   },
   "source": [
    "What was the username you used for this submission?"
   ]
  },
  {
   "cell_type": "markdown",
   "metadata": {
    "deletable": false,
    "nbgrader": {
     "checksum": "8cc61665c676edcd9192df3c15714aa3",
     "grade": true,
     "grade_id": "cell-d519532bb1f957c3",
     "locked": false,
     "points": 0,
     "schema_version": 1,
     "solution": true
    }
   },
   "source": [
    "**Your answer:** Yuxuan Xia"
   ]
  }
 ],
 "metadata": {
  "kernelspec": {
   "display_name": "Python 3",
   "language": "python",
   "name": "python3"
  },
  "language_info": {
   "codemirror_mode": {
    "name": "ipython",
    "version": 3
   },
   "file_extension": ".py",
   "mimetype": "text/x-python",
   "name": "python",
   "nbconvert_exporter": "python",
   "pygments_lexer": "ipython3",
   "version": "3.6.3"
  }
 },
 "nbformat": 4,
 "nbformat_minor": 2
}
