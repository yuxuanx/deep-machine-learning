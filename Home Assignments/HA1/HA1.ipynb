{
 "cells": [
  {
   "cell_type": "markdown",
   "metadata": {},
   "source": [
    "### Checklist for submission\n",
    "\n",
    "It is extremely important to make sure that:\n",
    "\n",
    "1. Everything runs as expected (no bugs when running cells);\n",
    "2. The output from each cell corresponds to its code (don't change any cell's contents without rerunning it afterwards);\n",
    "3. All outputs are present (don't delete any of the outputs);\n",
    "4. Fill in all the places that say `YOUR CODE HERE`, or \"**Your answer:** (fill in here)\".\n",
    "5. You **ONLY** change the parts of the code we asked you to, nowhere else (change only the coding parts saying `# YOUR CODE HERE`, nothing else);\n",
    "6. Don't add any new cells to this notebook;\n",
    "7. Fill in your group number and the full names of the members in the cell below;\n",
    "8. Make sure that you are not running an old version of IPython (we provide you with a cell that checks this, make sure you can run it without errors).\n",
    "\n",
    "Failing to meet any of these requirements might lead to either a subtraction of POEs (at best) or a request for resubmission (at worst).\n",
    "\n",
    "We advise you the following steps before submission for ensuring that requirements 1, 2, and 3 are always met: **Restart the kernel** (in the menubar, select Kernel$\\rightarrow$Restart) and then **run all cells** (in the menubar, select Cell$\\rightarrow$Run All). This might require a bit of time, so plan ahead for this (and possibly use Google Cloud's GPU in HA1 and HA2 for this step). Finally press the \"Save and Checkout\" button before handing in, to make sure that all your changes are saved to this .ipynb file."
   ]
  },
  {
   "cell_type": "markdown",
   "metadata": {},
   "source": [
    "---\n",
    "\n",
    "Group number and member names:"
   ]
  },
  {
   "cell_type": "code",
   "execution_count": null,
   "metadata": {},
   "outputs": [],
   "source": [
    "GROUP = \"27\"\n",
    "NAME1 = \"Chao Fang\"\n",
    "NAME2 = \"Yuxuan Xia\""
   ]
  },
  {
   "cell_type": "markdown",
   "metadata": {},
   "source": [
    "Make sure you can run the following cell without errors."
   ]
  },
  {
   "cell_type": "code",
   "execution_count": null,
   "metadata": {},
   "outputs": [],
   "source": [
    "import IPython\n",
    "assert IPython.version_info[0] >= 3, \"Your version of IPython is too old, please update it.\""
   ]
  },
  {
   "cell_type": "markdown",
   "metadata": {},
   "source": [
    "---"
   ]
  },
  {
   "cell_type": "markdown",
   "metadata": {
    "deletable": false,
    "editable": false,
    "nbgrader": {
     "checksum": "f0dd7cbad727dec0308b03071cff6d79",
     "grade": false,
     "grade_id": "cell-8092c3fd452a3245",
     "locked": true,
     "schema_version": 1,
     "solution": false
    }
   },
   "source": [
    "# HA1 - Cats and dogs"
   ]
  },
  {
   "cell_type": "markdown",
   "metadata": {
    "deletable": false,
    "editable": false,
    "nbgrader": {
     "checksum": "87ccf483a45725dd262468c44d2acbae",
     "grade": false,
     "grade_id": "cell-0235e816fc98b0f6",
     "locked": true,
     "schema_version": 1,
     "solution": false
    }
   },
   "source": [
    "<img src=\"http://lghttp.32478.nexcesscdn.net/80E972/organiclifestylemagazine/wp-content/uploads/2015/10/Cats-and-Dogs.jpg\" alt=\"Cats and dogs\" style=\"width: 5000px;\"/>"
   ]
  },
  {
   "cell_type": "markdown",
   "metadata": {
    "deletable": false,
    "editable": false,
    "nbgrader": {
     "checksum": "e42d5a9a7b415bb217a6b890b6f07c84",
     "grade": false,
     "grade_id": "cell-c4bb694612153106",
     "locked": true,
     "schema_version": 1,
     "solution": false
    }
   },
   "source": [
    "For this home assignment, we'll use the Kaggle dataset for the [Dogs vs. Cats competition](https://www.kaggle.com/c/dogs-vs-cats). It is comprised of 25k colored images of dogs and cats. Our goal with this dataset will be to create a classifier that can tell us if the input image is of a cat or a dog."
   ]
  },
  {
   "cell_type": "markdown",
   "metadata": {},
   "source": [
    "As a way of helping you speed up the training process, each group gets 6 hours of access to an instance in Google Cloud with a K80 GPU. Take a look at the [Instructions folder](https://github.com/JulianoLagana/deep-machine-learning/tree/master/Instructions) to understand how to connect to this instance and use our tools there. You're free to use this resource as you see fit, but if you run out of hours you'll need a late day to obtain more (and you can only do this once).\n",
    "\n",
    "In order to make the most out of your GPU hours, first try solving the initial part of this notebook (tasks 0-4) in your own computer (these tasks can be solved only on the CPU), and leave most of the available hours for solving tasks 5-6, and refining your best model further (and, if you have the spare hours, experiment a bit!)."
   ]
  },
  {
   "cell_type": "markdown",
   "metadata": {
    "deletable": false,
    "editable": false,
    "nbgrader": {
     "checksum": "ba437754e558ff25301e1526ca957f4b",
     "grade": false,
     "grade_id": "cell-f7371c24b57c153e",
     "locked": true,
     "schema_version": 1,
     "solution": false
    }
   },
   "source": [
    "Requirements:\n",
    "- Whenever we ask you to plot anything, be sure to add a title and label the axes. If you're plotting more than one curve in the same plot, also add a legend.\n",
    "- When we ask you to train an architecture, train it for a reasonable number of epochs. \"Reasonable\" here means you should be fairly confident that training for a higher number of epochs wouldn't impact your conclusions regarding the model's performance.\n",
    "\n",
    "Tips:\n",
    "- If you get errors saying you've exhausted the GPU resources, well, then you exhausted the GPU resources ;). However, sometimes that's because TensorFlow didn't release a part of the GPU's memory. If you think your CNN should fit in your memory during training, try restarting the kernel and directly training only that architecture.\n",
    "- Every group has enough credits on google cloud to complete this assignment. However, this statement assumes you'll use your resources judiciously (e.g. always try the code first in your machine and make sure everything works properly before starting your instances) and **won't forget to stop your instance after using it,**  otherwise you might run out of credits.\n",
    "- Before starting, take a look at the images we'll be using. This is a hard task, don't get discouraged if your first models perform poorly (several participants in the original competition didn't achieve an accuracy higher than 60%)."
   ]
  },
  {
   "cell_type": "markdown",
   "metadata": {
    "deletable": false,
    "editable": false,
    "nbgrader": {
     "checksum": "9f50e27a30d83bcebeb52a8ae43228e2",
     "grade": false,
     "grade_id": "cell-3ee6d24346a80d85",
     "locked": true,
     "schema_version": 1,
     "solution": false
    }
   },
   "source": [
    "---\n",
    "## 0. Imports\n",
    "\n",
    "In the following cell, add all the imports you'll use in this assignment."
   ]
  },
  {
   "cell_type": "code",
   "execution_count": 177,
   "metadata": {
    "deletable": false,
    "nbgrader": {
     "checksum": "0075c816ac7a24f2287d6fa9b8a81565",
     "grade": true,
     "grade_id": "cell-464a08ede00083a4",
     "locked": false,
     "points": 0,
     "schema_version": 1,
     "solution": true
    }
   },
   "outputs": [],
   "source": [
    "# YOUR CODE HERE\n",
    "# The package for importing the dataset (already provided by Keras)\n",
    "import multiprocessing\n",
    "\n",
    "# Data preprocessing\n",
    "from keras.preprocessing.image import ImageDataGenerator\n",
    "\n",
    "# Packages for defining the architecture of our model\n",
    "from keras.models import Sequential\n",
    "from keras.layers import Input, Dense, Flatten, BatchNormalization, Dropout, Activation, regularizers\n",
    "from keras.layers.convolutional import Conv2D, MaxPooling2D\n",
    "from keras.constraints import max_norm\n",
    "from keras import optimizers\n",
    "from keras.applications.vgg16 import VGG16\n",
    "from keras.models import Model, load_model\n",
    "\n",
    "# One-hot encoding\n",
    "from keras.utils import np_utils\n",
    "\n",
    "# Callbacks for training\n",
    "from keras.callbacks import TensorBoard, EarlyStopping\n",
    "\n",
    "# Ploting\n",
    "import matplotlib.pyplot as plt\n",
    "%matplotlib inline\n",
    "\n",
    "# Ndarray computations\n",
    "import numpy as np\n",
    "\n",
    "# Confusion matrix for assessment step\n",
    "from sklearn.metrics import confusion_matrix"
   ]
  },
  {
   "cell_type": "markdown",
   "metadata": {
    "deletable": false,
    "editable": false,
    "nbgrader": {
     "checksum": "49bf801d5ced99ccf6f0c5cd12100230",
     "grade": false,
     "grade_id": "cell-4821dc273028d702",
     "locked": true,
     "schema_version": 1,
     "solution": false
    }
   },
   "source": [
    "---\n",
    "## 1. Loading the data and preprocessing"
   ]
  },
  {
   "cell_type": "markdown",
   "metadata": {
    "deletable": false,
    "editable": false,
    "nbgrader": {
     "checksum": "d1d586c0063030cd1a3b04fe87e189f0",
     "grade": false,
     "grade_id": "cell-2ea049dea4713494",
     "locked": true,
     "schema_version": 1,
     "solution": false
    }
   },
   "source": [
    "The first step is to head to the [Kaggle website for the cats and dogs competition](https://www.kaggle.com/c/dogs-vs-cats) and download the data from there. You should download both the test and train folders together in one zip file (by clicking the download all button). The split ratio between training and validation has not been made, you'll need to do it yourself. The `test.zip` file contains unlabeled data, so that participants in the contest are not able to train on this set.\n",
    "\n",
    "For this assignment you should use [data generators](https://keras.io/preprocessing/image/) to load the images to your CPU/GPU memory. Because of this, your folder structure for the data should conform to the folder structure expected by the data generators (i.e. the samples should be separated into one folder for each class). Furthermore, we ask you to first start with a smaller subset of the data (1/5 of the number of samples), in order to test different models faster.\n",
    "\n",
    "This means that you should create a folder structure that resembles the following (obviously, the folder names are up to you):\n",
    "\n",
    "\n",
    "         small_train             small_val                train                   val\n",
    "              |                      |                      |                      |\n",
    "              |                      |                      |                      |\n",
    "        -------------          -------------          -------------          -------------\n",
    "        |           |          |           |          |           |          |           |\n",
    "        |           |          |           |          |           |          |           |\n",
    "      Cats        Dogs       Cats        Dogs       Cats        Dogs       Cats        Dogs\n",
    "\n",
    "The `small_train` and `small_val` folders have the training and validation samples for your smaller subset of the data, while the `train` and `val` folders contain all the samples you extracted from Kaggle's `train.zip`. We provide you a notebook that shows how to achieve this (\"Create project structure.ipynb\"), starting from the original `all.zip` file that you download from Kaggle. If you do use that notebook, we encourage you to understand how each step is being done, so you can generalize this knowledge to new datasets you'll encounter.\n",
    "\n",
    "We advise you to use 30% of the data as validation data in the smaller dataset. However, for the larger dataset, you should decide how to split between training and validation. Please specify your splits in the following cells."
   ]
  },
  {
   "cell_type": "markdown",
   "metadata": {
    "deletable": false,
    "editable": false,
    "nbgrader": {
     "checksum": "21f8c413dbd2a629e479abc65e02c1a1",
     "grade": false,
     "grade_id": "cell-89ba19509b952af2",
     "locked": true,
     "schema_version": 1,
     "solution": false
    }
   },
   "source": [
    "For the larger subset, what was the training/validation split that you decided to use?"
   ]
  },
  {
   "cell_type": "markdown",
   "metadata": {
    "deletable": false,
    "editable": false,
    "nbgrader": {
     "checksum": "b5740099dceee0e312b1711006e99c1f",
     "grade": false,
     "grade_id": "cell-b0efa9a80e35cb50",
     "locked": true,
     "schema_version": 1,
     "solution": false
    }
   },
   "source": [
    "**% Samples in the training set:**"
   ]
  },
  {
   "cell_type": "code",
   "execution_count": null,
   "metadata": {
    "deletable": false,
    "nbgrader": {
     "checksum": "0345d9abbe8e41a3d79a43e58cf61bbd",
     "grade": true,
     "grade_id": "cell-7f3b0dfbd90a14c1",
     "locked": false,
     "points": 0.25,
     "schema_version": 1,
     "solution": true
    }
   },
   "outputs": [],
   "source": [
    "# YOUR CODE HERE\n",
    "train_size_percent = 0.8"
   ]
  },
  {
   "cell_type": "markdown",
   "metadata": {
    "deletable": false,
    "editable": false,
    "nbgrader": {
     "checksum": "2ddce1febefd28de63c23277971779d3",
     "grade": false,
     "grade_id": "cell-c23e59a345aa4071",
     "locked": true,
     "schema_version": 1,
     "solution": false
    }
   },
   "source": [
    "**% Samples in the validation set:**"
   ]
  },
  {
   "cell_type": "code",
   "execution_count": null,
   "metadata": {
    "deletable": false,
    "nbgrader": {
     "checksum": "b8cd8215973c0496aaed775aa00d9052",
     "grade": true,
     "grade_id": "cell-515a15da68038afe",
     "locked": false,
     "points": 0.25,
     "schema_version": 1,
     "solution": true
    }
   },
   "outputs": [],
   "source": [
    "# YOUR CODE HERE\n",
    "vad_size_percent = 0.2"
   ]
  },
  {
   "cell_type": "markdown",
   "metadata": {
    "deletable": false,
    "editable": false,
    "nbgrader": {
     "checksum": "f907f0a06aa01c1087ab6e18710c2fbe",
     "grade": false,
     "grade_id": "cell-876ca7df88c9311f",
     "locked": true,
     "schema_version": 1,
     "solution": false
    }
   },
   "source": [
    "Fill in the dataset paths (to be used later by your data generators):"
   ]
  },
  {
   "cell_type": "code",
   "execution_count": 3,
   "metadata": {
    "deletable": false,
    "nbgrader": {
     "checksum": "99224aa0ced417acf27d271313ab4ca2",
     "grade": true,
     "grade_id": "cell-1b1314f2ab1b1d6b",
     "locked": false,
     "points": 0,
     "schema_version": 1,
     "solution": true
    }
   },
   "outputs": [],
   "source": [
    "# YOUR CODE HERE\n",
    "train_data_path = 'small_train'\n",
    "vad_data_path = 'small_val'"
   ]
  },
  {
   "cell_type": "markdown",
   "metadata": {
    "deletable": false,
    "editable": false,
    "nbgrader": {
     "checksum": "b5cab872fd6c9d35842bc8b3708e1b7c",
     "grade": false,
     "grade_id": "cell-1d6ea64bca94a4ef",
     "locked": true,
     "schema_version": 1,
     "solution": false
    }
   },
   "source": [
    "---\n",
    "Once you have the expected folder structure, create two data generators for automatically generating batches from the images in your smaller subset of data. Don't use any [data augmentation](https://cartesianfaith.com/2016/10/06/what-you-need-to-know-about-data-augmentation-for-machine-learning/), but feel free to preprocess the data as you see fit. After instantiating them, run the `flow_from_directory` method with the desired arguments.\n",
    "\n",
    "Hints:\n",
    "- The specified `batch_size` should be chosen so that your don't run out of memory.\n",
    "- When feeding the images to your CNN, you'll probably want all of them to have the same spatial size, even though the .jpeg files differ in this. If so, take a look at the argument `target_size` for the `flow_from_directory` method of data generators.\n",
    "- Resizing the images to a smaller size while loading them can be beneficial."
   ]
  },
  {
   "cell_type": "code",
   "execution_count": 4,
   "metadata": {
    "deletable": false,
    "nbgrader": {
     "checksum": "ccd3d3780bee365018f2a96b8022d56b",
     "grade": true,
     "grade_id": "cell-ed8f5ab8d5cc0d6c",
     "locked": false,
     "points": 1.5,
     "schema_version": 1,
     "solution": true
    }
   },
   "outputs": [
    {
     "name": "stdout",
     "output_type": "stream",
     "text": [
      "Found 3500 images belonging to 2 classes.\n",
      "Found 1500 images belonging to 2 classes.\n"
     ]
    }
   ],
   "source": [
    "# YOUR CODE HERE\n",
    "batch_size = 32\n",
    "\n",
    "train_datagen = ImageDataGenerator(rescale=1./255)\n",
    "train_generator = train_datagen.flow_from_directory(\n",
    "        train_data_path,\n",
    "        target_size=(150, 150),\n",
    "        batch_size=batch_size,\n",
    "        class_mode='binary')\n",
    "\n",
    "test_datagen = ImageDataGenerator(rescale=1./255)\n",
    "validation_generator = test_datagen.flow_from_directory(\n",
    "        vad_data_path,\n",
    "        target_size=(150, 150),\n",
    "        batch_size=batch_size,\n",
    "        class_mode='binary')"
   ]
  },
  {
   "cell_type": "markdown",
   "metadata": {
    "deletable": false,
    "editable": false,
    "nbgrader": {
     "checksum": "9e39d5fb0e38a44e07a4519f4db98583",
     "grade": false,
     "grade_id": "cell-c0bfc1ac7fadfcc7",
     "locked": true,
     "schema_version": 1,
     "solution": false
    }
   },
   "source": [
    "---\n",
    "## 2. Training"
   ]
  },
  {
   "cell_type": "markdown",
   "metadata": {
    "deletable": false,
    "editable": false,
    "nbgrader": {
     "checksum": "41dd6aa5a0bc2a35b880c6e72db8e130",
     "grade": false,
     "grade_id": "cell-2c2425121bcacf34",
     "locked": true,
     "schema_version": 1,
     "solution": false
    }
   },
   "source": [
    "Create your first CNN architecture for this task. Start with something as simple as possible, that you're almost sure can get an accuracy better than 50% (we'll improve upon it later).\n",
    "\n",
    "Tip:\n",
    "- If Tensorflow is your backend, your `input_shape` is always `(img_width, img_height, 3)` (i.e. channels **last**)"
   ]
  },
  {
   "cell_type": "code",
   "execution_count": 5,
   "metadata": {
    "deletable": false,
    "nbgrader": {
     "checksum": "d2c30c88e647d05bd81604c1339a68e7",
     "grade": true,
     "grade_id": "cell-4c9de348cd8bc4ff",
     "locked": false,
     "points": 2,
     "schema_version": 1,
     "solution": true
    }
   },
   "outputs": [],
   "source": [
    "# YOUR CODE HERE\n",
    "def test_model():\n",
    "    \n",
    "    model = Sequential()\n",
    "    \n",
    "    model.add(Conv2D(16, (3, 3), input_shape=(150, 150, 3)))\n",
    "    model.add(BatchNormalization())\n",
    "    model.add(Activation('relu'))\n",
    "    model.add(MaxPooling2D(pool_size=(2, 2)))\n",
    "\n",
    "    model.add(Conv2D(16, (3, 3)))\n",
    "    model.add(BatchNormalization())\n",
    "    model.add(Activation('relu'))\n",
    "    model.add(MaxPooling2D(pool_size=(2, 2)))\n",
    "\n",
    "    model.add(Conv2D(32, (3, 3)))\n",
    "    model.add(BatchNormalization())\n",
    "    model.add(Activation('relu'))\n",
    "    model.add(MaxPooling2D(pool_size=(2, 2)))\n",
    "    \n",
    "    model.add(Flatten())  # this converts our 3D feature maps to 1D feature vectors\n",
    "    \n",
    "    model.add(Dense(32))\n",
    "    model.add(BatchNormalization())\n",
    "    model.add(Activation('relu'))\n",
    "    model.add(Dropout(0.5))\n",
    "    \n",
    "    model.add(Dense(1, activation='sigmoid'))\n",
    "    \n",
    "    model.compile(loss='binary_crossentropy', optimizer='adam', metrics=['accuracy'])\n",
    "    return model\n",
    "\n",
    "model = test_model()"
   ]
  },
  {
   "cell_type": "markdown",
   "metadata": {
    "deletable": false,
    "editable": false,
    "nbgrader": {
     "checksum": "5210173277189c7bc5d5c18621a1ef8c",
     "grade": false,
     "grade_id": "cell-cb6fc78116ad6b75",
     "locked": true,
     "schema_version": 1,
     "solution": false
    }
   },
   "source": [
    "Train your model using the `fit_generator` method and the two data generators you created earlier. Train for a reasonable amount of epochs, so as to get a good sense of how well this architecture performs.\n",
    "\n",
    "Tips:\n",
    "- Usually the bottleneck is when loading the images from the disk. To speed up training, make sure to take a look at the arguments `workers` and `use_multiprocessing` of `fit_generator`.\n",
    "- You don't have to set the argument `steps_per_epoch` to the number of batches in an epoch. Instead, you can choose a lower number to obtain more frequent prints about the current loss and accuracy of your model (but then have in mind that you're not actually training for the number of epochs you specify in `epochs`)."
   ]
  },
  {
   "cell_type": "code",
   "execution_count": 6,
   "metadata": {
    "deletable": false,
    "nbgrader": {
     "checksum": "865326597e6d487caaaa64ba30cf1abe",
     "grade": true,
     "grade_id": "cell-bb1fcd878f3bea9a",
     "locked": false,
     "points": 1,
     "schema_version": 1,
     "solution": true
    }
   },
   "outputs": [
    {
     "name": "stdout",
     "output_type": "stream",
     "text": [
      "Epoch 1/30\n",
      "54/54 [==============================] - 207s 4s/step - loss: 0.6962 - acc: 0.6173 - val_loss: 0.6544 - val_acc: 0.6320\n",
      "Epoch 2/30\n",
      "54/54 [==============================] - 204s 4s/step - loss: 0.6218 - acc: 0.6632 - val_loss: 0.8381 - val_acc: 0.5233\n",
      "Epoch 3/30\n",
      "54/54 [==============================] - 204s 4s/step - loss: 0.5677 - acc: 0.7141 - val_loss: 0.6410 - val_acc: 0.6587\n",
      "Epoch 4/30\n",
      "54/54 [==============================] - 203s 4s/step - loss: 0.5182 - acc: 0.7347 - val_loss: 0.7890 - val_acc: 0.5667\n",
      "Epoch 5/30\n",
      "54/54 [==============================] - 204s 4s/step - loss: 0.4870 - acc: 0.7598 - val_loss: 0.8542 - val_acc: 0.5900\n",
      "Epoch 6/30\n",
      "54/54 [==============================] - 205s 4s/step - loss: 0.4750 - acc: 0.7610 - val_loss: 0.6303 - val_acc: 0.6580\n",
      "Epoch 7/30\n",
      "54/54 [==============================] - 204s 4s/step - loss: 0.4145 - acc: 0.8171 - val_loss: 0.5905 - val_acc: 0.6847\n",
      "Epoch 8/30\n",
      "54/54 [==============================] - 203s 4s/step - loss: 0.4309 - acc: 0.8028 - val_loss: 0.5410 - val_acc: 0.7280\n",
      "Epoch 9/30\n",
      "54/54 [==============================] - 203s 4s/step - loss: 0.3679 - acc: 0.8419 - val_loss: 0.5386 - val_acc: 0.7413\n",
      "Epoch 10/30\n",
      "54/54 [==============================] - 216s 4s/step - loss: 0.3826 - acc: 0.8339 - val_loss: 0.5449 - val_acc: 0.7200\n",
      "Epoch 11/30\n",
      "54/54 [==============================] - 217s 4s/step - loss: 0.3282 - acc: 0.8636 - val_loss: 0.5129 - val_acc: 0.7420\n",
      "Epoch 12/30\n",
      "54/54 [==============================] - 221s 4s/step - loss: 0.3060 - acc: 0.8802 - val_loss: 0.5505 - val_acc: 0.7400\n",
      "Epoch 13/30\n",
      "54/54 [==============================] - 217s 4s/step - loss: 0.2642 - acc: 0.9018 - val_loss: 0.7251 - val_acc: 0.6647\n",
      "Epoch 14/30\n",
      "54/54 [==============================] - 220s 4s/step - loss: 0.2732 - acc: 0.8843 - val_loss: 0.5878 - val_acc: 0.7300\n",
      "Epoch 15/30\n",
      "54/54 [==============================] - 219s 4s/step - loss: 0.2354 - acc: 0.9091 - val_loss: 0.6494 - val_acc: 0.7013\n",
      "Epoch 16/30\n",
      "54/54 [==============================] - 218s 4s/step - loss: 0.2030 - acc: 0.9253 - val_loss: 0.8381 - val_acc: 0.6933\n",
      "Epoch 17/30\n",
      "54/54 [==============================] - 217s 4s/step - loss: 0.1839 - acc: 0.9352 - val_loss: 0.5401 - val_acc: 0.7527\n",
      "Epoch 18/30\n",
      "54/54 [==============================] - 215s 4s/step - loss: 0.1936 - acc: 0.9277 - val_loss: 0.7212 - val_acc: 0.7127\n",
      "Epoch 19/30\n",
      "54/54 [==============================] - 222s 4s/step - loss: 0.1800 - acc: 0.9311 - val_loss: 0.7461 - val_acc: 0.7347\n",
      "Epoch 20/30\n",
      "54/54 [==============================] - 215s 4s/step - loss: 0.1402 - acc: 0.9554 - val_loss: 0.5752 - val_acc: 0.7480\n",
      "Epoch 21/30\n",
      "54/54 [==============================] - 212s 4s/step - loss: 0.1292 - acc: 0.9566 - val_loss: 0.6776 - val_acc: 0.7333\n",
      "Epoch 22/30\n",
      "54/54 [==============================] - 211s 4s/step - loss: 0.1291 - acc: 0.9547 - val_loss: 0.7118 - val_acc: 0.7513\n",
      "Epoch 23/30\n",
      "54/54 [==============================] - 214s 4s/step - loss: 0.1206 - acc: 0.9647 - val_loss: 0.8400 - val_acc: 0.7060\n",
      "Epoch 24/30\n",
      "54/54 [==============================] - 212s 4s/step - loss: 0.1195 - acc: 0.9618 - val_loss: 0.6667 - val_acc: 0.7313\n",
      "Epoch 25/30\n",
      "54/54 [==============================] - 206s 4s/step - loss: 0.1145 - acc: 0.9585 - val_loss: 0.7464 - val_acc: 0.7360\n",
      "Epoch 26/30\n",
      "54/54 [==============================] - 204s 4s/step - loss: 0.0930 - acc: 0.9701 - val_loss: 0.7726 - val_acc: 0.7107\n",
      "Epoch 27/30\n",
      "54/54 [==============================] - 206s 4s/step - loss: 0.0867 - acc: 0.9653 - val_loss: 0.9023 - val_acc: 0.7253\n",
      "Epoch 28/30\n",
      "54/54 [==============================] - 205s 4s/step - loss: 0.0936 - acc: 0.9703 - val_loss: 0.8745 - val_acc: 0.7267\n",
      "Epoch 29/30\n",
      "54/54 [==============================] - 207s 4s/step - loss: 0.0737 - acc: 0.9792 - val_loss: 0.7792 - val_acc: 0.7340\n",
      "Epoch 30/30\n",
      "54/54 [==============================] - 204s 4s/step - loss: 0.0739 - acc: 0.9763 - val_loss: 0.8214 - val_acc: 0.7300\n"
     ]
    }
   ],
   "source": [
    "# YOUR CODE HERE\n",
    "history = model.fit_generator(\n",
    "        train_generator,\n",
    "        steps_per_epoch=1750 // batch_size,\n",
    "        epochs=30,\n",
    "        validation_data=validation_generator,\n",
    "        validation_steps=750 // batch_size,\n",
    "        workers=multiprocessing.cpu_count(),\n",
    "        use_multiprocessing=1,)"
   ]
  },
  {
   "cell_type": "markdown",
   "metadata": {
    "deletable": false,
    "editable": false,
    "nbgrader": {
     "checksum": "2f494d53c5c891008921b85679b9aaa7",
     "grade": false,
     "grade_id": "cell-4d42c86687697a67",
     "locked": true,
     "schema_version": 1,
     "solution": false
    }
   },
   "source": [
    "Create one figure with two axes. In one of them, plot the loss in the training and the validation datasets. In the other one, plot the accuracy in the training and validation datasets.\n",
    "\n",
    "Hint:\n",
    "- The `fit_generator` method returns a `history` object."
   ]
  },
  {
   "cell_type": "code",
   "execution_count": 60,
   "metadata": {
    "deletable": false,
    "nbgrader": {
     "checksum": "e71729e832321272983178b41b90f874",
     "grade": true,
     "grade_id": "cell-fa81712e1e27432a",
     "locked": false,
     "points": 0,
     "schema_version": 1,
     "solution": true
    }
   },
   "outputs": [
    {
     "name": "stdout",
     "output_type": "stream",
     "text": [
      "dict_keys(['val_loss', 'val_acc', 'loss', 'acc'])\n"
     ]
    },
    {
     "data": {
      "text/plain": [
       "<matplotlib.legend.Legend at 0x1a9e22fb00>"
      ]
     },
     "execution_count": 60,
     "metadata": {},
     "output_type": "execute_result"
    },
    {
     "data": {
      "image/png": "[encoded data removed]",
      "text/plain": [
       "<Figure size 1080x360 with 2 Axes>"
      ]
     },
     "metadata": {},
     "output_type": "display_data"
    }
   ],
   "source": [
    "# YOUR CODE HERE\n",
    "print(history.history.keys())\n",
    "\n",
    "fig, axes = plt.subplots(nrows=1, ncols=2, figsize=(15, 5))\n",
    "\n",
    "# summarize history for accuracy\n",
    "axes[0].plot(range(1,31), history.history['acc'], '-x')\n",
    "axes[0].plot(range(1,31), history.history['val_acc'], '-+')\n",
    "axes[0].set_title('Model accuracy')\n",
    "axes[0].set_ylabel('accuracy')\n",
    "axes[0].set_xlabel('epoch')\n",
    "axes[0].set_xticks(range(1,31))\n",
    "axes[0].grid(linestyle='-')\n",
    "axes[0].legend(['train', 'validation'], loc='upper left')\n",
    "\n",
    "# summarize history for loss\n",
    "axes[1].plot(range(1,31), history.history['loss'], '-x')\n",
    "axes[1].plot(range(1,31), history.history['val_loss'], '-+')\n",
    "axes[1].set_title('Model loss')\n",
    "axes[1].set_ylabel('loss')\n",
    "axes[1].set_xlabel('epoch')\n",
    "axes[1].set_xticks(range(1,31))\n",
    "axes[1].grid(linestyle='-')\n",
    "axes[1].legend(['train', 'validation'], loc='upper left')\n",
    "\n"
   ]
  },
  {
   "cell_type": "markdown",
   "metadata": {
    "deletable": false,
    "editable": false,
    "nbgrader": {
     "checksum": "5797f9d2d079b67832722cebe8cff0ef",
     "grade": false,
     "grade_id": "cell-f2fc166890962bcf",
     "locked": true,
     "schema_version": 1,
     "solution": false
    }
   },
   "source": [
    "Based on these, what would you suggest for improving your model? Why?"
   ]
  },
  {
   "cell_type": "markdown",
   "metadata": {
    "deletable": false,
    "nbgrader": {
     "checksum": "cf197ef63bfa3aee62055bd8ed8f7a1c",
     "grade": true,
     "grade_id": "cell-506e21ce469b67f5",
     "locked": false,
     "points": 1,
     "schema_version": 1,
     "solution": true
    }
   },
   "source": [
    "**Your answer:** The results show that, after 10 epochs, the validation accuracy stoped increasing and the validation loss started to increase (though the general trend is fluctuating). This means that the network stoped learning useful information at (around) the 10th epoch and started to adapt to irrelevent information, with respect to classification task, in the training data set, i.e., overfitting. In order to improve the model, one can use, e.g., weight regularization, more aggressive dropout, or better architectures. Considering that it seems not very useful to add dropout in convolution layer, we decide to do L2 norm regularization instead (Dropout has already been used on fully connected layer)."
   ]
  },
  {
   "cell_type": "markdown",
   "metadata": {
    "deletable": false,
    "editable": false,
    "nbgrader": {
     "checksum": "0be49b9a95620540a192e413f70f71c5",
     "grade": false,
     "grade_id": "cell-db018000a5382694",
     "locked": true,
     "schema_version": 1,
     "solution": false
    }
   },
   "source": [
    "---\n",
    "## 3. Improving your initial model"
   ]
  },
  {
   "cell_type": "markdown",
   "metadata": {
    "deletable": false,
    "editable": false,
    "nbgrader": {
     "checksum": "52b66a6d63b9dd6f55f0dfd477b84597",
     "grade": false,
     "grade_id": "cell-fa0e4d84ef7af322",
     "locked": true,
     "schema_version": 1,
     "solution": false
    }
   },
   "source": [
    "Improve your initial model according to you answer above. Write the new definition in the cell below and train it."
   ]
  },
  {
   "cell_type": "code",
   "execution_count": 9,
   "metadata": {
    "deletable": false,
    "nbgrader": {
     "checksum": "a0b92d3cd986908779f53ff2b6fac22f",
     "grade": true,
     "grade_id": "cell-a4a3c7da2ad8161b",
     "locked": false,
     "points": 2,
     "schema_version": 1,
     "solution": true
    }
   },
   "outputs": [
    {
     "name": "stdout",
     "output_type": "stream",
     "text": [
      "Epoch 1/30\n",
      "54/54 [==============================] - 222s 4s/step - loss: 1.1239 - acc: 0.6198 - val_loss: 1.0483 - val_acc: 0.6393\n",
      "Epoch 2/30\n",
      "54/54 [==============================] - 209s 4s/step - loss: 1.0037 - acc: 0.6707 - val_loss: 0.9543 - val_acc: 0.6753\n",
      "Epoch 3/30\n",
      "54/54 [==============================] - 207s 4s/step - loss: 0.8520 - acc: 0.7394 - val_loss: 0.8756 - val_acc: 0.7060\n",
      "Epoch 4/30\n",
      "54/54 [==============================] - 224s 4s/step - loss: 0.8401 - acc: 0.7245 - val_loss: 0.9467 - val_acc: 0.6820\n",
      "Epoch 5/30\n",
      "54/54 [==============================] - 225s 4s/step - loss: 0.7404 - acc: 0.7714 - val_loss: 0.9056 - val_acc: 0.6700\n",
      "Epoch 6/30\n",
      "54/54 [==============================] - 224s 4s/step - loss: 0.7208 - acc: 0.7698 - val_loss: 0.8707 - val_acc: 0.6667\n",
      "Epoch 7/30\n",
      "54/54 [==============================] - 224s 4s/step - loss: 0.6288 - acc: 0.8343 - val_loss: 0.7649 - val_acc: 0.7327\n",
      "Epoch 8/30\n",
      "54/54 [==============================] - 209s 4s/step - loss: 0.6319 - acc: 0.8218 - val_loss: 0.8794 - val_acc: 0.6673\n",
      "Epoch 9/30\n",
      "54/54 [==============================] - 233s 4s/step - loss: 0.5310 - acc: 0.8673 - val_loss: 0.7195 - val_acc: 0.7453\n",
      "Epoch 10/30\n",
      "54/54 [==============================] - 211s 4s/step - loss: 0.5032 - acc: 0.8657 - val_loss: 0.9187 - val_acc: 0.6813\n",
      "Epoch 11/30\n",
      "54/54 [==============================] - 227s 4s/step - loss: 0.4687 - acc: 0.8825 - val_loss: 0.7216 - val_acc: 0.7420\n",
      "Epoch 12/30\n",
      "54/54 [==============================] - 223s 4s/step - loss: 0.4756 - acc: 0.8635 - val_loss: 0.8102 - val_acc: 0.6927\n",
      "Epoch 13/30\n",
      "54/54 [==============================] - 205s 4s/step - loss: 0.4425 - acc: 0.8856 - val_loss: 0.6669 - val_acc: 0.7547\n",
      "Epoch 14/30\n",
      "54/54 [==============================] - 205s 4s/step - loss: 0.4235 - acc: 0.8872 - val_loss: 0.7820 - val_acc: 0.7240\n",
      "Epoch 15/30\n",
      "54/54 [==============================] - 204s 4s/step - loss: 0.3729 - acc: 0.9213 - val_loss: 0.7535 - val_acc: 0.7160\n",
      "Epoch 16/30\n",
      "54/54 [==============================] - 206s 4s/step - loss: 0.3695 - acc: 0.9045 - val_loss: 0.7036 - val_acc: 0.7587\n",
      "Epoch 17/30\n",
      "54/54 [==============================] - 205s 4s/step - loss: 0.3330 - acc: 0.9271 - val_loss: 0.8382 - val_acc: 0.7200\n",
      "Epoch 18/30\n",
      "54/54 [==============================] - 206s 4s/step - loss: 0.3148 - acc: 0.9381 - val_loss: 1.0470 - val_acc: 0.6733\n",
      "Epoch 19/30\n",
      "54/54 [==============================] - 205s 4s/step - loss: 0.3103 - acc: 0.9329 - val_loss: 0.9509 - val_acc: 0.6840\n",
      "Epoch 20/30\n",
      "54/54 [==============================] - 203s 4s/step - loss: 0.3220 - acc: 0.9211 - val_loss: 0.7239 - val_acc: 0.7553\n",
      "Epoch 21/30\n",
      "54/54 [==============================] - 206s 4s/step - loss: 0.2830 - acc: 0.9416 - val_loss: 0.7303 - val_acc: 0.7353\n",
      "Epoch 22/30\n",
      "54/54 [==============================] - 203s 4s/step - loss: 0.2656 - acc: 0.9462 - val_loss: 0.6745 - val_acc: 0.7513\n",
      "Epoch 23/30\n",
      "54/54 [==============================] - 205s 4s/step - loss: 0.2904 - acc: 0.9323 - val_loss: 0.8847 - val_acc: 0.7253\n",
      "Epoch 24/30\n",
      "54/54 [==============================] - 203s 4s/step - loss: 0.2839 - acc: 0.9298 - val_loss: 0.8382 - val_acc: 0.7260\n",
      "Epoch 25/30\n",
      "54/54 [==============================] - 205s 4s/step - loss: 0.2515 - acc: 0.9479 - val_loss: 1.1421 - val_acc: 0.6300\n",
      "Epoch 26/30\n",
      "54/54 [==============================] - 205s 4s/step - loss: 0.2559 - acc: 0.9365 - val_loss: 1.1887 - val_acc: 0.6573\n",
      "Epoch 27/30\n",
      "54/54 [==============================] - 206s 4s/step - loss: 0.2372 - acc: 0.9473 - val_loss: 0.8180 - val_acc: 0.7407\n",
      "Epoch 28/30\n",
      "54/54 [==============================] - 204s 4s/step - loss: 0.2395 - acc: 0.9493 - val_loss: 0.7496 - val_acc: 0.7400\n",
      "Epoch 29/30\n",
      "54/54 [==============================] - 205s 4s/step - loss: 0.2176 - acc: 0.9572 - val_loss: 0.9478 - val_acc: 0.7393\n",
      "Epoch 30/30\n",
      "54/54 [==============================] - 205s 4s/step - loss: 0.2098 - acc: 0.9606 - val_loss: 0.8850 - val_acc: 0.7160\n"
     ]
    }
   ],
   "source": [
    "# YOUR CODE HERE\n",
    "def test_model2():\n",
    "    \n",
    "    model = Sequential()\n",
    "    \n",
    "    model.add(Conv2D(16, (3, 3), input_shape=(150, 150, 3), kernel_regularizer=regularizers.l2(0.01)))\n",
    "    model.add(BatchNormalization())\n",
    "    model.add(Activation('relu'))\n",
    "    model.add(MaxPooling2D(pool_size=(2, 2)))\n",
    "\n",
    "    model.add(Conv2D(16, (3, 3), kernel_regularizer=regularizers.l2(0.01)))\n",
    "    model.add(BatchNormalization())\n",
    "    model.add(Activation('relu'))\n",
    "    model.add(MaxPooling2D(pool_size=(2, 2)))\n",
    "\n",
    "    model.add(Conv2D(32, (3, 3), kernel_regularizer=regularizers.l2(0.01)))\n",
    "    model.add(BatchNormalization())\n",
    "    model.add(Activation('relu'))\n",
    "    model.add(MaxPooling2D(pool_size=(2, 2)))\n",
    "    \n",
    "    model.add(Flatten())  # this converts our 3D feature maps to 1D feature vectors\n",
    "    \n",
    "    model.add(Dense(32))\n",
    "    model.add(BatchNormalization())\n",
    "    model.add(Activation('relu'))\n",
    "    model.add(Dropout(0.5))\n",
    "    \n",
    "    model.add(Dense(1, activation='sigmoid'))\n",
    "    \n",
    "    model.compile(loss='binary_crossentropy', optimizer='adam', metrics=['accuracy'])\n",
    "    return model\n",
    "\n",
    "model = test_model2()\n",
    "\n",
    "history2 = model.fit_generator(\n",
    "        train_generator,\n",
    "        steps_per_epoch=1750 // batch_size,\n",
    "        epochs=30,\n",
    "        validation_data=validation_generator,\n",
    "        validation_steps=750 // batch_size,\n",
    "        workers=multiprocessing.cpu_count(),\n",
    "        use_multiprocessing=1,)"
   ]
  },
  {
   "cell_type": "markdown",
   "metadata": {
    "deletable": false,
    "editable": false,
    "nbgrader": {
     "checksum": "a93627bb2c08c83a9d4cb6596ab27de7",
     "grade": false,
     "grade_id": "cell-bcff77954e648d56",
     "locked": true,
     "schema_version": 1,
     "solution": false
    }
   },
   "source": [
    "How does the model perform, compared to the initial model? Create one plot with the training accuracy and another with the validation accuracy of the two scenarios."
   ]
  },
  {
   "cell_type": "code",
   "execution_count": 65,
   "metadata": {
    "deletable": false,
    "nbgrader": {
     "checksum": "b18ab0f30b9a4e8e9746f324313fa1b2",
     "grade": true,
     "grade_id": "cell-e4cf90a9c3ae1959",
     "locked": false,
     "points": 0,
     "schema_version": 1,
     "solution": true
    }
   },
   "outputs": [
    {
     "data": {
      "text/plain": [
       "<matplotlib.legend.Legend at 0x1a9ee9cf98>"
      ]
     },
     "execution_count": 65,
     "metadata": {},
     "output_type": "execute_result"
    },
    {
     "data": {
      "image/png": "[encoded data removed]",
      "text/plain": [
       "<Figure size 1080x360 with 2 Axes>"
      ]
     },
     "metadata": {},
     "output_type": "display_data"
    }
   ],
   "source": [
    "# YOUR CODE HERE\n",
    "\n",
    "fig, axes = plt.subplots(nrows=1, ncols=2, figsize=(15, 5))\n",
    "\n",
    "# summarize history for accuracy\n",
    "axes[0].plot(range(1,31), history.history['acc'], '-x')\n",
    "axes[0].plot(range(1,31), history2.history['acc'], '-+')\n",
    "axes[0].set_title('Model accuracy (training)')\n",
    "axes[0].set_ylabel('accuracy')\n",
    "axes[0].set_xlabel('epoch')\n",
    "axes[0].set_xticks(range(1,31))\n",
    "axes[0].grid(linestyle='-')\n",
    "axes[0].legend(['first model', 'second model'], loc='upper left')\n",
    "\n",
    "# summarize history for loss\n",
    "axes[1].plot(range(1,31), history.history['val_acc'], '-x')\n",
    "axes[1].plot(range(1,31), history2.history['val_acc'], '-+')\n",
    "axes[1].set_title('Model accuracy (validation)')\n",
    "axes[1].set_ylabel('accuracy')\n",
    "axes[1].set_xlabel('epoch')\n",
    "axes[1].set_xticks(range(1,31))\n",
    "axes[1].grid(linestyle='-')\n",
    "axes[1].legend(['first model', 'second model'], loc='upper left')"
   ]
  },
  {
   "cell_type": "markdown",
   "metadata": {
    "deletable": false,
    "editable": false,
    "nbgrader": {
     "checksum": "5e771b76bc948242070767d51688eeee",
     "grade": false,
     "grade_id": "cell-14b1810989c351b4",
     "locked": true,
     "schema_version": 1,
     "solution": false
    }
   },
   "source": [
    "Did your results improve? Explain why, or why not."
   ]
  },
  {
   "cell_type": "markdown",
   "metadata": {
    "deletable": false,
    "nbgrader": {
     "checksum": "30a59a5574ab183d17b3f92f8057aba4",
     "grade": true,
     "grade_id": "cell-1d27850a74139e5a",
     "locked": false,
     "points": 1,
     "schema_version": 1,
     "solution": true
    }
   },
   "source": [
    "**Your answer:** These two models presented very similar training performance in terms of traning accuracy and number of epochs. Also, if only looking at the validation model accuracy at the end of the training, the results basiclly remained the same. However, adding weight regularization to convolutional layer does increase convergence. This can be verified from the results that, during the first 10 epochs, the validation accuracy, in the second model, increases faster than it in the first one. We suspect the reason why weight regularization does not help generalisation that much is that, the model used may not have sufficient capacity to learn new useful information. Note that, we have tried larger regularization parameter 0.1; in this case, the model, however, begined to suffer from underfitting. Perhaps, finer tuning the regulariization parameter is required to further reduce over-fitting. Also, the network architecture remains the same; this explains why the difference betweeen these two models is small."
   ]
  },
  {
   "cell_type": "markdown",
   "metadata": {
    "deletable": false,
    "editable": false,
    "nbgrader": {
     "checksum": "67dce4bccc56629263ef4839e570f12a",
     "grade": false,
     "grade_id": "cell-ee79a83a62b70a8f",
     "locked": true,
     "schema_version": 1,
     "solution": false
    }
   },
   "source": [
    "---\n",
    "## 4. Obtaining the *best* model"
   ]
  },
  {
   "cell_type": "markdown",
   "metadata": {
    "deletable": false,
    "editable": false,
    "nbgrader": {
     "checksum": "6d029dd4346c9e32b725e6158d77475c",
     "grade": false,
     "grade_id": "cell-5314d286e79e0377",
     "locked": true,
     "schema_version": 1,
     "solution": false
    }
   },
   "source": [
    "Continue to improve your model architecture by comparing the value of the metrics you're interested in both the training and validation set. Try different ideas, and consider comparing them using tensorboard. When you're happy with one architecture, copy it in the cell below and train it here. Save the optimization history (i.e. the `history` object returned by the `fit_generator`). You'll use this later to compare your best model with the one using transfer learning.\n",
    "\n",
    "**Note**: When trying different ideas, you'll end up with several different models. However, when submitting your solutions to ping-pong, the cell below must contain only the definition and training of *one* model. Remove all code related to the models that were not chosen."
   ]
  },
  {
   "cell_type": "code",
   "execution_count": 35,
   "metadata": {
    "deletable": false,
    "nbgrader": {
     "checksum": "45e0af4b6ac1d453b519ba7c65ccb56d",
     "grade": true,
     "grade_id": "cell-6edb7d7e343ab14b",
     "locked": false,
     "points": 2,
     "schema_version": 1,
     "solution": true
    }
   },
   "outputs": [
    {
     "name": "stdout",
     "output_type": "stream",
     "text": [
      "Epoch 1/20\n",
      "108/109 [============================>.] - ETA: 2s - loss: 1.0941 - acc: 0.6107\n",
      "109/109 [==============================] - 360s 3s/step - loss: 1.0930 - acc: 0.6106 - val_loss: 1.0061 - val_acc: 0.6167\n",
      "Epoch 2/20\n",
      "\n",
      "109/109 [==============================] - 347s 3s/step - loss: 0.8554 - acc: 0.7198 - val_loss: 0.9872 - val_acc: 0.5887\n",
      "Epoch 3/20\n",
      "109/109 [==============================] - 347s 3s/step - loss: 0.7131 - acc: 0.7836 - val_loss: 0.8511 - val_acc: 0.6767\n",
      "Epoch 4/20\n",
      "109/109 [==============================] - 347s 3s/step - loss: 0.6277 - acc: 0.8075 - val_loss: 0.7067 - val_acc: 0.7320\n",
      "Epoch 5/20\n",
      "109/109 [==============================] - 346s 3s/step - loss: 0.5398 - acc: 0.8376 - val_loss: 0.7675 - val_acc: 0.6980\n",
      "Epoch 6/20\n",
      "109/109 [==============================] - 2187s 20s/step - loss: 0.4749 - acc: 0.8625 - val_loss: 0.6720 - val_acc: 0.7333\n",
      "Epoch 7/20\n",
      "109/109 [==============================] - 1034s 9s/step - loss: 0.4269 - acc: 0.8785 - val_loss: 0.6673 - val_acc: 0.7440\n",
      "Epoch 8/20\n",
      "109/109 [==============================] - 361s 3s/step - loss: 0.3714 - acc: 0.9057 - val_loss: 0.7749 - val_acc: 0.7107\n",
      "Epoch 9/20\n",
      "109/109 [==============================] - 353s 3s/step - loss: 0.3426 - acc: 0.9081 - val_loss: 0.7233 - val_acc: 0.7187\n",
      "Epoch 10/20\n",
      "109/109 [==============================] - 474s 4s/step - loss: 0.2976 - acc: 0.9318 - val_loss: 0.6562 - val_acc: 0.7687\n",
      "Epoch 11/20\n",
      "109/109 [==============================] - 523s 5s/step - loss: 0.2884 - acc: 0.9288 - val_loss: 0.8286 - val_acc: 0.7327\n",
      "Epoch 12/20\n",
      "109/109 [==============================] - 433s 4s/step - loss: 0.2695 - acc: 0.9393 - val_loss: 0.7752 - val_acc: 0.7320\n",
      "Epoch 13/20\n",
      "109/109 [==============================] - 439s 4s/step - loss: 0.2624 - acc: 0.9363 - val_loss: 0.8348 - val_acc: 0.7347\n",
      "Epoch 14/20\n",
      "109/109 [==============================] - 415s 4s/step - loss: 0.2281 - acc: 0.9510 - val_loss: 0.7661 - val_acc: 0.7367\n",
      "Epoch 15/20\n",
      "109/109 [==============================] - 430s 4s/step - loss: 0.2250 - acc: 0.9498 - val_loss: 0.6983 - val_acc: 0.7573\n",
      "Epoch 16/20\n",
      "109/109 [==============================] - 464s 4s/step - loss: 0.2220 - acc: 0.9548 - val_loss: 0.8149 - val_acc: 0.7187\n",
      "Epoch 17/20\n",
      "109/109 [==============================] - 381s 3s/step - loss: 0.2112 - acc: 0.9558 - val_loss: 0.8704 - val_acc: 0.7147\n",
      "Epoch 18/20\n",
      "109/109 [==============================] - 412s 4s/step - loss: 0.2123 - acc: 0.9483 - val_loss: 0.8520 - val_acc: 0.7140\n",
      "Epoch 19/20\n",
      "109/109 [==============================] - 407s 4s/step - loss: 0.1960 - acc: 0.9585 - val_loss: 1.1457 - val_acc: 0.7133\n",
      "Epoch 20/20\n",
      "109/109 [==============================] - 415s 4s/step - loss: 0.1724 - acc: 0.9693 - val_loss: 0.8758 - val_acc: 0.7187\n"
     ]
    }
   ],
   "source": [
    "# YOUR CODE HERE\n",
    "def test_model3():\n",
    "    \n",
    "    model = Sequential()\n",
    "    \n",
    "    model.add(Conv2D(16, (3, 3), input_shape=(150, 150, 3), kernel_regularizer=regularizers.l2(0.01)))\n",
    "    model.add(BatchNormalization())\n",
    "    model.add(Activation('relu'))\n",
    "    model.add(MaxPooling2D(pool_size=(2, 2)))\n",
    "\n",
    "    model.add(Conv2D(16, (3, 3), kernel_regularizer=regularizers.l2(0.01)))\n",
    "    model.add(BatchNormalization())\n",
    "    model.add(Activation('relu'))\n",
    "    model.add(MaxPooling2D(pool_size=(2, 2)))\n",
    "\n",
    "    model.add(Conv2D(32, (3, 3), kernel_regularizer=regularizers.l2(0.01)))\n",
    "    model.add(BatchNormalization())\n",
    "    model.add(Activation('relu'))\n",
    "    model.add(MaxPooling2D(pool_size=(2, 2)))\n",
    "    \n",
    "    model.add(Flatten())  # this converts our 3D feature maps to 1D feature vectors\n",
    "    \n",
    "    model.add(Dense(32))\n",
    "    model.add(BatchNormalization())\n",
    "    model.add(Activation('relu'))\n",
    "    model.add(Dropout(0.5))\n",
    "    \n",
    "    model.add(Dense(1, activation='sigmoid'))\n",
    "    \n",
    "    adam = optimizers.Adam(lr=0.001, beta_1=0.9, beta_2=0.999, epsilon=None, decay=0.0, amsgrad=True)\n",
    "    model.compile(loss='binary_crossentropy', optimizer=adam, metrics=['accuracy'])\n",
    "    return model\n",
    "\n",
    "model = test_model3()\n",
    "\n",
    "history3 = model.fit_generator(\n",
    "        train_generator,\n",
    "        steps_per_epoch=3500 // batch_size,\n",
    "        epochs=20,\n",
    "        validation_data=validation_generator,\n",
    "        validation_steps=1500 // batch_size,\n",
    "        workers=multiprocessing.cpu_count(),\n",
    "        use_multiprocessing=1,)"
   ]
  },
  {
   "cell_type": "markdown",
   "metadata": {
    "deletable": false,
    "editable": false,
    "nbgrader": {
     "checksum": "3ed8d707a3e3e3e2dc6e09630da26d02",
     "grade": false,
     "grade_id": "cell-d033937b5a8b9875",
     "locked": true,
     "schema_version": 1,
     "solution": false
    }
   },
   "source": [
    "Create one figure with two axes. In one of them, plot the loss in the training and the validation datasets. In the other one, plot the accuracy in the training and validation datasets."
   ]
  },
  {
   "cell_type": "code",
   "execution_count": 67,
   "metadata": {
    "deletable": false,
    "nbgrader": {
     "checksum": "88f944698dc9dc353e1933fe16b6de87",
     "grade": true,
     "grade_id": "cell-3df999674672de47",
     "locked": false,
     "points": 0,
     "schema_version": 1,
     "solution": true
    }
   },
   "outputs": [
    {
     "data": {
      "text/plain": [
       "<matplotlib.legend.Legend at 0x1a9f1b5278>"
      ]
     },
     "execution_count": 67,
     "metadata": {},
     "output_type": "execute_result"
    },
    {
     "data": {
      "image/png": "[encoded data removed]",
      "text/plain": [
       "<Figure size 1080x360 with 2 Axes>"
      ]
     },
     "metadata": {},
     "output_type": "display_data"
    }
   ],
   "source": [
    "# YOUR CODE HERE\n",
    "fig, axes = plt.subplots(nrows=1, ncols=2, figsize=(15, 5))\n",
    "\n",
    "# summarize history for accuracy\n",
    "axes[0].plot(range(1,21), history3.history['acc'], '-x')\n",
    "axes[0].plot(range(1,21), history3.history['val_acc'], '-+')\n",
    "axes[0].set_title('Model accuracy')\n",
    "axes[0].set_ylabel('accuracy')\n",
    "axes[0].set_xlabel('epoch')\n",
    "axes[0].set_xticks(range(1,21))\n",
    "axes[0].grid(linestyle='-')\n",
    "axes[0].legend(['train', 'validation'], loc='upper left')\n",
    "\n",
    "# summarize history for loss\n",
    "axes[1].plot(range(1,21), history3.history['loss'], '-x')\n",
    "axes[1].plot(range(1,21), history3.history['val_loss'], '-+')\n",
    "axes[1].set_title('Model loss')\n",
    "axes[1].set_ylabel('loss')\n",
    "axes[1].set_xlabel('epoch')\n",
    "axes[1].set_xticks(range(1,21))\n",
    "axes[1].grid(linestyle='-')\n",
    "axes[1].legend(['train', 'validation'], loc='upper left')\n",
    "\n",
    "\n"
   ]
  },
  {
   "cell_type": "markdown",
   "metadata": {
    "deletable": false,
    "editable": false,
    "nbgrader": {
     "checksum": "69f51481b462b089daee7f896bad2cc3",
     "grade": false,
     "grade_id": "cell-c67bcc4fbec1808e",
     "locked": true,
     "schema_version": 1,
     "solution": false
    }
   },
   "source": [
    "[Save your model](https://keras.io/getting-started/faq/#how-can-i-save-a-keras-model) to disk as a HDF5 file (the architecture, weights and optimizer state). This is simply so you can use it again easily in the later parts of the notebook, without having to keep it in memory or re-training it. The actual `.h5` files you create are not relevant to your ping-pong submission."
   ]
  },
  {
   "cell_type": "code",
   "execution_count": 37,
   "metadata": {},
   "outputs": [],
   "source": [
    "model.save('my_model.h5')"
   ]
  },
  {
   "cell_type": "markdown",
   "metadata": {
    "deletable": false,
    "editable": false,
    "nbgrader": {
     "checksum": "f560cd87a745d9931d137a0224adb847",
     "grade": false,
     "grade_id": "cell-25f9cc8d17491d0d",
     "locked": true,
     "schema_version": 1,
     "solution": false
    }
   },
   "source": [
    "---\n",
    "## 5. Transfer Learning"
   ]
  },
  {
   "cell_type": "markdown",
   "metadata": {
    "deletable": false,
    "editable": false,
    "nbgrader": {
     "checksum": "2f9adb5c8ce6970840bc5d256e74ca69",
     "grade": false,
     "grade_id": "cell-cf9b347fc3ee9255",
     "locked": true,
     "schema_version": 1,
     "solution": false
    }
   },
   "source": [
    "Now, instead of trying to come up with a good architecture for this task, we'll use the VGG16 architecture, but with the top layers removed (the fully connected + classification layers). We'll substitute them with a single fully connected layer, and a classification layer that makes sense for our problem.\n",
    "\n",
    "However, this model has a very high capacity, and will probably suffer a lot from overfitting if we try to train it from scratch, using only our small subset of data. Instead, we'll start the optimization with the weights obtained after training VGG16 on the ImageNet dataset.\n",
    "\n",
    "Start by loading the VGG16 model without the top layers, from the `applications` submodule from Keras. Make sure to also load the weights obtained from the ImageNet pretraining."
   ]
  },
  {
   "cell_type": "code",
   "execution_count": 156,
   "metadata": {
    "deletable": false,
    "nbgrader": {
     "checksum": "984428d972274a469334141d07c8666a",
     "grade": true,
     "grade_id": "cell-01ebc4c9c306b985",
     "locked": false,
     "points": 0,
     "schema_version": 1,
     "solution": true
    }
   },
   "outputs": [
    {
     "name": "stdout",
     "output_type": "stream",
     "text": [
      "Model loaded.\n"
     ]
    }
   ],
   "source": [
    "# YOUR CODE HERE\n",
    "base_model = VGG16(include_top=False, weights='imagenet')\n",
    "print('Model loaded.')"
   ]
  },
  {
   "cell_type": "markdown",
   "metadata": {
    "deletable": false,
    "editable": false,
    "nbgrader": {
     "checksum": "ee2e7869aeb45bf734d52c7559ab6cb6",
     "grade": false,
     "grade_id": "cell-faed8047ef25a60d",
     "locked": true,
     "schema_version": 1,
     "solution": false
    }
   },
   "source": [
    "Create a new model with the layers you want to add on top of VGG. The kernels and bias in these layers should be initialized randomly."
   ]
  },
  {
   "cell_type": "code",
   "execution_count": 163,
   "metadata": {
    "deletable": false,
    "nbgrader": {
     "checksum": "a22c7aa185d3eca27d8722755b0a41a1",
     "grade": true,
     "grade_id": "cell-56cb37360051a638",
     "locked": false,
     "points": 1,
     "schema_version": 1,
     "solution": true
    }
   },
   "outputs": [],
   "source": [
    "# YOUR CODE HERE\n",
    "\n",
    "inputs = Input(shape=(150,150,3))\n",
    "x = base_model(inputs)\n",
    "\n",
    "#Add the fully-connected layers \n",
    "x = Flatten()(x)\n",
    "x = Dense(512, kernel_initializer='random_uniform', bias_initializer='random_uniform', activation='relu')(x)\n",
    "x = Dropout(0.5)(x)\n",
    "x = Dense(1, activation='sigmoid')(x)\n"
   ]
  },
  {
   "cell_type": "markdown",
   "metadata": {
    "deletable": false,
    "editable": false,
    "nbgrader": {
     "checksum": "ff49bf63789cfb3023f59b7ff1de074b",
     "grade": false,
     "grade_id": "cell-d746f9eb61e3ea44",
     "locked": true,
     "schema_version": 1,
     "solution": false
    }
   },
   "source": [
    "Now add the new model on top of VGG.\n",
    "\n",
    "Tip:\n",
    "- The VGG model you loaded from the `applications` submodule is from the [`Model`](https://keras.io/models/model/) class, not the `Sequential` class, so it doesn't have some methods you're used to (like `add`, for instance). It might be helpful to read [this introduction to the Model class](https://keras.io/getting-started/functional-api-guide/)."
   ]
  },
  {
   "cell_type": "code",
   "execution_count": 166,
   "metadata": {
    "deletable": false,
    "nbgrader": {
     "checksum": "642f3cbea497868385adff16643091c4",
     "grade": true,
     "grade_id": "cell-76e4aad7fbcf5d05",
     "locked": false,
     "points": 0,
     "schema_version": 1,
     "solution": true
    }
   },
   "outputs": [],
   "source": [
    "# YOUR CODE HERE\n",
    "model = Model(inputs=inputs, outputs=x)"
   ]
  },
  {
   "cell_type": "markdown",
   "metadata": {
    "deletable": false,
    "editable": false,
    "nbgrader": {
     "checksum": "e80006261cee156aafe6aac9408f2678",
     "grade": false,
     "grade_id": "cell-f76d1a7f6280af0d",
     "locked": true,
     "schema_version": 1,
     "solution": false
    }
   },
   "source": [
    "### 5.1 Using VGG features"
   ]
  },
  {
   "cell_type": "markdown",
   "metadata": {
    "deletable": false,
    "editable": false,
    "nbgrader": {
     "checksum": "2b12c99269787356513640faa3528233",
     "grade": false,
     "grade_id": "cell-270f8ec140ddfba3",
     "locked": true,
     "schema_version": 1,
     "solution": false
    }
   },
   "source": [
    "Now we're almost ready to train the new model. However, since the top layers of this architecture are being initialized randomly, it's sometimes possible for them to generate large gradients that can wreck the pretraining of the bottom layers. To avoid this, freeze all the VGG layers in your architecture (i.e. signal to the optimizer that these should not be changed during optimization) by setting the `trainable` attribute of them to `False`."
   ]
  },
  {
   "cell_type": "code",
   "execution_count": 167,
   "metadata": {
    "deletable": false,
    "nbgrader": {
     "checksum": "072f414eabdbed6bd1f0baa8e855e48f",
     "grade": true,
     "grade_id": "cell-bfb58ea46c31df0a",
     "locked": false,
     "points": 0,
     "schema_version": 1,
     "solution": true
    }
   },
   "outputs": [],
   "source": [
    "# YOUR CODE HERE\n",
    "for layer in base_model.layers:\n",
    "    layer.trainable = False"
   ]
  },
  {
   "cell_type": "markdown",
   "metadata": {
    "deletable": false,
    "editable": false,
    "nbgrader": {
     "checksum": "669e85a9b10286b41f6b40837f009d45",
     "grade": false,
     "grade_id": "cell-b508ede3d760a86b",
     "locked": true,
     "schema_version": 1,
     "solution": false
    }
   },
   "source": [
    "Create the callbacks (if any) you would like to use, compile the model and train it."
   ]
  },
  {
   "cell_type": "code",
   "execution_count": 168,
   "metadata": {
    "deletable": false,
    "nbgrader": {
     "checksum": "9c8cccd2e638d17af85d50f45cb05ee3",
     "grade": true,
     "grade_id": "cell-5a025e60545ca151",
     "locked": false,
     "points": 1,
     "schema_version": 1,
     "solution": true
    }
   },
   "outputs": [
    {
     "name": "stdout",
     "output_type": "stream",
     "text": [
      "Epoch 1/20\n",
      "109/109 [==============================] - 940s 9s/step - loss: 0.4985 - acc: 0.8161 - val_loss: 0.2560 - val_acc: 0.8947\n",
      "Epoch 2/20\n",
      "\n",
      "109/109 [==============================] - 912s 8s/step - loss: 0.2504 - acc: 0.8931 - val_loss: 0.2629 - val_acc: 0.8840\n",
      "Epoch 3/20\n",
      "109/109 [==============================] - 910s 8s/step - loss: 0.2057 - acc: 0.9171 - val_loss: 0.2329 - val_acc: 0.9107\n",
      "Epoch 4/20\n",
      "109/109 [==============================] - 911s 8s/step - loss: 0.1808 - acc: 0.9214 - val_loss: 0.2344 - val_acc: 0.9120\n",
      "Epoch 5/20\n",
      "109/109 [==============================] - 909s 8s/step - loss: 0.1572 - acc: 0.9330 - val_loss: 0.2474 - val_acc: 0.9053\n",
      "Epoch 6/20\n",
      "109/109 [==============================] - 911s 8s/step - loss: 0.1425 - acc: 0.9464 - val_loss: 0.2457 - val_acc: 0.9113\n",
      "Epoch 7/20\n",
      "109/109 [==============================] - 910s 8s/step - loss: 0.1018 - acc: 0.9579 - val_loss: 0.3111 - val_acc: 0.8907\n",
      "Epoch 8/20\n",
      "109/109 [==============================] - 909s 8s/step - loss: 0.0987 - acc: 0.9613 - val_loss: 0.2684 - val_acc: 0.9053\n",
      "Epoch 9/20\n",
      "109/109 [==============================] - 913s 8s/step - loss: 0.0685 - acc: 0.9705 - val_loss: 0.2744 - val_acc: 0.9133\n",
      "Epoch 10/20\n",
      "109/109 [==============================] - 907s 8s/step - loss: 0.0673 - acc: 0.9753 - val_loss: 0.2781 - val_acc: 0.9153\n",
      "Epoch 11/20\n",
      "109/109 [==============================] - 906s 8s/step - loss: 0.0582 - acc: 0.9806 - val_loss: 0.2663 - val_acc: 0.9113\n",
      "Epoch 12/20\n",
      "109/109 [==============================] - 911s 8s/step - loss: 0.0505 - acc: 0.9811 - val_loss: 0.2806 - val_acc: 0.9100\n",
      "Epoch 13/20\n",
      "109/109 [==============================] - 904s 8s/step - loss: 0.0334 - acc: 0.9900 - val_loss: 0.3126 - val_acc: 0.9080\n",
      "Epoch 14/20\n",
      "109/109 [==============================] - 908s 8s/step - loss: 0.0259 - acc: 0.9903 - val_loss: 0.3292 - val_acc: 0.9113\n",
      "Epoch 15/20\n",
      "109/109 [==============================] - 910s 8s/step - loss: 0.0197 - acc: 0.9934 - val_loss: 0.3081 - val_acc: 0.9167\n",
      "Epoch 16/20\n",
      "109/109 [==============================] - 908s 8s/step - loss: 0.0147 - acc: 0.9974 - val_loss: 0.3177 - val_acc: 0.9147\n",
      "Epoch 17/20\n",
      "109/109 [==============================] - 910s 8s/step - loss: 0.0104 - acc: 0.9983 - val_loss: 0.3545 - val_acc: 0.9127\n",
      "Epoch 18/20\n",
      "109/109 [==============================] - 904s 8s/step - loss: 0.0164 - acc: 0.9949 - val_loss: 0.3601 - val_acc: 0.9093\n",
      "Epoch 19/20\n",
      "109/109 [==============================] - 910s 8s/step - loss: 0.0116 - acc: 0.9977 - val_loss: 0.3517 - val_acc: 0.9073\n",
      "Epoch 20/20\n",
      "109/109 [==============================] - 916s 8s/step - loss: 0.0074 - acc: 0.9986 - val_loss: 0.3598 - val_acc: 0.9140\n"
     ]
    }
   ],
   "source": [
    "# YOUR CODE HERE\n",
    "tb = TensorBoard(log_dir='./logs/vgg16_freeze')\n",
    "adam = optimizers.Adam(lr=0.001, beta_1=0.9, beta_2=0.999, epsilon=None, decay=0.0, amsgrad=True)\n",
    "model.compile(loss='binary_crossentropy', optimizer=adam, metrics=['accuracy'])\n",
    "\n",
    "history_vgg16_freeze = model.fit_generator(\n",
    "        train_generator,\n",
    "        steps_per_epoch=3500 // batch_size,\n",
    "        epochs=20,\n",
    "        validation_data=validation_generator,\n",
    "        validation_steps=1500 // batch_size,\n",
    "        callbacks = [tb],\n",
    "        workers=multiprocessing.cpu_count(),\n",
    "        use_multiprocessing=1,)"
   ]
  },
  {
   "cell_type": "markdown",
   "metadata": {
    "deletable": false,
    "editable": false,
    "nbgrader": {
     "checksum": "f4045831d222640d7baf44a285c3de97",
     "grade": false,
     "grade_id": "cell-ad79e1aa5c4a6185",
     "locked": true,
     "schema_version": 1,
     "solution": false
    }
   },
   "source": [
    "Create one figure with two axes. In one of them, plot the loss in the training and the validation datasets. In the other one, plot the accuracy in the training and validation datasets."
   ]
  },
  {
   "cell_type": "code",
   "execution_count": 169,
   "metadata": {
    "deletable": false,
    "nbgrader": {
     "checksum": "99986b7bbdfb6b78c25112751969d11f",
     "grade": true,
     "grade_id": "cell-f17c882b2a09dee7",
     "locked": false,
     "points": 0,
     "schema_version": 1,
     "solution": true
    }
   },
   "outputs": [
    {
     "data": {
      "text/plain": [
       "<matplotlib.legend.Legend at 0x1abd3b70b8>"
      ]
     },
     "execution_count": 169,
     "metadata": {},
     "output_type": "execute_result"
    },
    {
     "data": {
      "image/png": "[encoded data removed]",
      "text/plain": [
       "<Figure size 1080x360 with 2 Axes>"
      ]
     },
     "metadata": {},
     "output_type": "display_data"
    }
   ],
   "source": [
    "# YOUR CODE HERE\n",
    "fig, axes = plt.subplots(nrows=1, ncols=2, figsize=(15, 5))\n",
    "\n",
    "# summarize history for accuracy\n",
    "axes[0].plot(range(1,21), history_vgg16_freeze.history['acc'], '-x')\n",
    "axes[0].plot(range(1,21), history_vgg16_freeze.history['val_acc'], '-+')\n",
    "axes[0].set_title('Model accuracy')\n",
    "axes[0].set_ylabel('accuracy')\n",
    "axes[0].set_xlabel('epoch')\n",
    "axes[0].set_xticks(range(1,21))\n",
    "axes[0].grid(linestyle='-')\n",
    "axes[0].legend(['train', 'validation'], loc='upper left')\n",
    "\n",
    "# summarize history for loss\n",
    "axes[1].plot(range(1,21), history_vgg16_freeze.history['loss'], '-x')\n",
    "axes[1].plot(range(1,21), history_vgg16_freeze.history['val_loss'], '-+')\n",
    "axes[1].set_title('Model loss')\n",
    "axes[1].set_ylabel('loss')\n",
    "axes[1].set_xlabel('epoch')\n",
    "axes[1].set_xticks(range(1,21))\n",
    "axes[1].grid(linestyle='-')\n",
    "axes[1].legend(['train', 'validation'], loc='upper left')\n",
    "\n"
   ]
  },
  {
   "cell_type": "markdown",
   "metadata": {
    "deletable": false,
    "editable": false,
    "nbgrader": {
     "checksum": "7e3c0eb41e650ec3e30733ab5ea488d1",
     "grade": false,
     "grade_id": "cell-779d477ffe1ebbf6",
     "locked": true,
     "schema_version": 1,
     "solution": false
    }
   },
   "source": [
    "How does the model perform, compared to the model obtained in step 4? Create one plot with the training accuracy and another with the validation accuracy of the two scenarios."
   ]
  },
  {
   "cell_type": "code",
   "execution_count": 174,
   "metadata": {
    "deletable": false,
    "nbgrader": {
     "checksum": "873c045fa2e6f22815a90194ed2785f3",
     "grade": true,
     "grade_id": "cell-e3e3990ba39bea67",
     "locked": false,
     "points": 0,
     "schema_version": 1,
     "solution": true
    }
   },
   "outputs": [
    {
     "data": {
      "text/plain": [
       "<matplotlib.legend.Legend at 0x1ab28e5160>"
      ]
     },
     "execution_count": 174,
     "metadata": {},
     "output_type": "execute_result"
    },
    {
     "data": {
      "image/png": "[encoded data removed]",
      "text/plain": [
       "<Figure size 1080x360 with 2 Axes>"
      ]
     },
     "metadata": {},
     "output_type": "display_data"
    }
   ],
   "source": [
    "# YOUR CODE HERE\n",
    "\n",
    "fig, axes = plt.subplots(nrows=1, ncols=2, figsize=(15, 5))\n",
    "\n",
    "# summarize history for accuracy\n",
    "axes[0].plot(range(1,21), history3.history['acc'], '-x')\n",
    "axes[0].plot(range(1,21), history_vgg16_freeze.history['acc'], '-+')\n",
    "axes[0].set_title('Model accuracy (training)')\n",
    "axes[0].set_ylabel('accuracy')\n",
    "axes[0].set_xlabel('epoch')\n",
    "axes[0].set_xticks(range(1,21))\n",
    "axes[0].grid(linestyle='-')\n",
    "axes[0].legend(['model from scratch', 'model w/ transfer learning'], loc='lower right')\n",
    "\n",
    "# summarize history for loss\n",
    "axes[1].plot(range(1,21), history3.history['val_acc'], '-x')\n",
    "axes[1].plot(range(1,21), history_vgg16_freeze.history['val_acc'], '-+')\n",
    "axes[1].set_title('Model accuracy (validation)')\n",
    "axes[1].set_ylabel('accuracy')\n",
    "axes[1].set_xlabel('epoch')\n",
    "axes[1].set_xticks(range(1,21))\n",
    "axes[1].grid(linestyle='-')\n",
    "axes[1].legend(['model from scratch', 'model w/ transfer learning'], loc='lower right')"
   ]
  },
  {
   "cell_type": "markdown",
   "metadata": {
    "deletable": false,
    "editable": false,
    "nbgrader": {
     "checksum": "49a22cb7fa7d4bc6335f5185d419101e",
     "grade": false,
     "grade_id": "cell-b84dd461d5ddcc8d",
     "locked": true,
     "schema_version": 1,
     "solution": false
    }
   },
   "source": [
    "Compare these results. Which approach worked best, starting from scratch or doing transfer learning? Explain how you evaluated this."
   ]
  },
  {
   "cell_type": "markdown",
   "metadata": {
    "deletable": false,
    "nbgrader": {
     "checksum": "58110ed91d1dc2020287d64755fafddd",
     "grade": true,
     "grade_id": "cell-f9e1a6a643946cd2",
     "locked": false,
     "points": 0.25,
     "schema_version": 1,
     "solution": true
    }
   },
   "source": [
    "**Your answer:** The approach with transfer learning worked best. This can be verified from the fact that both training accuracy and validation accuracy of the model using transfer learning is higher than those of the model starting from scratch. Also, we can see that, in the plot showing the validation accuracy, the approach using transfer learning exhibited much less fluctuation regarding model accuracy; this suggests that it suffers much less (or no) from overfitting compared."
   ]
  },
  {
   "cell_type": "markdown",
   "metadata": {
    "deletable": false,
    "editable": false,
    "nbgrader": {
     "checksum": "f1d1fd0b9a00091e75a5bd0eaa19a8bf",
     "grade": false,
     "grade_id": "cell-c8afb448c67da5f8",
     "locked": true,
     "schema_version": 1,
     "solution": false
    }
   },
   "source": [
    "What are the main differences between the ImageNet dataset and the Dogs vs Cats dataset we used?"
   ]
  },
  {
   "cell_type": "markdown",
   "metadata": {
    "deletable": false,
    "nbgrader": {
     "checksum": "36cc539d06e12eba46249e29640ce6a1",
     "grade": true,
     "grade_id": "cell-2be321b63232ae01",
     "locked": false,
     "points": 0.25,
     "schema_version": 1,
     "solution": true
    }
   },
   "source": [
    "**Your answer:** 1. The ImageNet contains many many more data (images); 2. The ImageNet contains many more image classes rather than only dog and cat. "
   ]
  },
  {
   "cell_type": "markdown",
   "metadata": {
    "deletable": false,
    "editable": false,
    "nbgrader": {
     "checksum": "1c0b0eae153b6076ca628a773203df42",
     "grade": false,
     "grade_id": "cell-71a8b8de004f6e57",
     "locked": true,
     "schema_version": 1,
     "solution": false
    }
   },
   "source": [
    "Even though there are considerable differences between these datasets, why is it that transfer learning is still a good idea?"
   ]
  },
  {
   "cell_type": "markdown",
   "metadata": {
    "deletable": false,
    "nbgrader": {
     "checksum": "7a990cd4099df100c9dc733bee0db608",
     "grade": true,
     "grade_id": "cell-655d00face15a862",
     "locked": false,
     "points": 0.25,
     "schema_version": 1,
     "solution": true
    }
   },
   "source": [
    "**Your answer:** 1. The dog and cat are two classification categories that are also included in ImageNet. Therefore, we could use the relevent knowledge from the trained model using VGG and ImageNet to do the classification tasks in Dogs vs. Cats dataset; 2. With transfer learning, one can build a solid network architecture with comparatively little training data because the model is already pre-trained; 3. Save training time since, tycpically, one needs to only re-train the top layer(s). "
   ]
  },
  {
   "cell_type": "markdown",
   "metadata": {
    "deletable": false,
    "editable": false,
    "nbgrader": {
     "checksum": "2d9425a067d87ef11d206088e82bb3c7",
     "grade": false,
     "grade_id": "cell-19785940b9624d2c",
     "locked": true,
     "schema_version": 1,
     "solution": false
    }
   },
   "source": [
    "In which scenario would transfer learning be unsuitable?"
   ]
  },
  {
   "cell_type": "markdown",
   "metadata": {
    "deletable": false,
    "nbgrader": {
     "checksum": "8ab35c98ddf1c98635eb188a197fd885",
     "grade": true,
     "grade_id": "cell-e79df7472ff5506a",
     "locked": false,
     "points": 0.25,
     "schema_version": 1,
     "solution": true
    }
   },
   "source": [
    "**Your answer:** When we have very little training data for the specific task we are interested in; and the data set used in this task has very different features compared to the one, based on which, we do transfer learning."
   ]
  },
  {
   "cell_type": "markdown",
   "metadata": {
    "deletable": false,
    "editable": false,
    "nbgrader": {
     "checksum": "bbea73c6a2825f9b3e730907ba3ae71f",
     "grade": false,
     "grade_id": "cell-111f2b1d28919293",
     "locked": true,
     "schema_version": 1,
     "solution": false
    }
   },
   "source": [
    "Save the model to a HDF5 file."
   ]
  },
  {
   "cell_type": "code",
   "execution_count": 175,
   "metadata": {},
   "outputs": [],
   "source": [
    "model.save('trans_learning_top_only.h5')"
   ]
  },
  {
   "cell_type": "markdown",
   "metadata": {
    "deletable": false,
    "editable": false,
    "nbgrader": {
     "checksum": "8b8007704893660e8abc0c87b9028923",
     "grade": false,
     "grade_id": "cell-544a73726bebe121",
     "locked": true,
     "schema_version": 1,
     "solution": false
    }
   },
   "source": [
    "### 5.2 Fine-tuning"
   ]
  },
  {
   "cell_type": "markdown",
   "metadata": {
    "deletable": false,
    "editable": false,
    "nbgrader": {
     "checksum": "6b5a44cfe68ff124f447339454f4f3ee",
     "grade": false,
     "grade_id": "cell-1ee9ebc87fd3358e",
     "locked": true,
     "schema_version": 1,
     "solution": false
    }
   },
   "source": [
    "Now that we have a better starting point for the top layers, we can train the entire network. Unfreeze the bottom layers.\n",
    "\n",
    "Tip:\n",
    "- Always recompile your model after changing anything in it!"
   ]
  },
  {
   "cell_type": "code",
   "execution_count": 179,
   "metadata": {
    "deletable": false,
    "nbgrader": {
     "checksum": "412d6cf989068c151bd4b3f4085e7194",
     "grade": true,
     "grade_id": "cell-3918c2cdd9817f7e",
     "locked": false,
     "points": 0,
     "schema_version": 1,
     "solution": true
    }
   },
   "outputs": [],
   "source": [
    "# YOUR CODE HERE\n",
    "model = load_model('trans_learning_top_only.h5')\n",
    "for layer in model.layers:\n",
    "    layer.trainable = True"
   ]
  },
  {
   "cell_type": "markdown",
   "metadata": {
    "deletable": false,
    "editable": false,
    "nbgrader": {
     "checksum": "ff2a177a54d2f9830995848f8de425b8",
     "grade": false,
     "grade_id": "cell-80fa8c89f1b262f1",
     "locked": true,
     "schema_version": 1,
     "solution": false
    }
   },
   "source": [
    "Create the callbacks (if any) you would like to use for this training here, compile the model, and train it.\n",
    "\n",
    "Tip:\n",
    "- Even though we do have a decent starting point for the optimization, it's still possible that a bad hyper-parameter choice wrecks the preinitialization. Make sure to use a small learning rate for this step."
   ]
  },
  {
   "cell_type": "code",
   "execution_count": 180,
   "metadata": {
    "deletable": false,
    "nbgrader": {
     "checksum": "6814e17803f83868b0fd75d82f421ec3",
     "grade": true,
     "grade_id": "cell-594c6039216461e5",
     "locked": false,
     "points": 1,
     "schema_version": 1,
     "solution": true
    }
   },
   "outputs": [
    {
     "name": "stdout",
     "output_type": "stream",
     "text": [
      "Epoch 1/20\n",
      "109/109 [==============================] - 925s 8s/step - loss: 0.0093 - acc: 0.9980 - val_loss: 0.3559 - val_acc: 0.9140\n",
      "Epoch 2/20\n",
      "\n",
      "109/109 [==============================] - 904s 8s/step - loss: 0.0072 - acc: 0.9983 - val_loss: 0.3566 - val_acc: 0.9153\n",
      "Epoch 3/20\n",
      "109/109 [==============================] - 899s 8s/step - loss: 0.0060 - acc: 0.9991 - val_loss: 0.3583 - val_acc: 0.9160\n",
      "Epoch 4/20\n",
      "109/109 [==============================] - 902s 8s/step - loss: 0.0065 - acc: 0.9991 - val_loss: 0.3596 - val_acc: 0.9153\n",
      "Epoch 5/20\n",
      "109/109 [==============================] - 901s 8s/step - loss: 0.0069 - acc: 0.9989 - val_loss: 0.3603 - val_acc: 0.9153\n",
      "Epoch 6/20\n",
      "109/109 [==============================] - 902s 8s/step - loss: 0.0063 - acc: 0.9991 - val_loss: 0.3605 - val_acc: 0.9153\n",
      "Epoch 7/20\n",
      "109/109 [==============================] - 903s 8s/step - loss: 0.0052 - acc: 0.9989 - val_loss: 0.3611 - val_acc: 0.9153\n",
      "Epoch 8/20\n",
      "109/109 [==============================] - 898s 8s/step - loss: 0.0056 - acc: 0.9997 - val_loss: 0.3626 - val_acc: 0.9160\n",
      "Epoch 9/20\n",
      "109/109 [==============================] - 902s 8s/step - loss: 0.0052 - acc: 0.9997 - val_loss: 0.3637 - val_acc: 0.9153\n",
      "Epoch 10/20\n",
      "109/109 [==============================] - 899s 8s/step - loss: 0.0056 - acc: 0.9994 - val_loss: 0.3646 - val_acc: 0.9153\n",
      "Epoch 11/20\n",
      "109/109 [==============================] - 900s 8s/step - loss: 0.0064 - acc: 0.9989 - val_loss: 0.3656 - val_acc: 0.9153\n",
      "Epoch 12/20\n",
      "109/109 [==============================] - 900s 8s/step - loss: 0.0055 - acc: 0.9997 - val_loss: 0.3662 - val_acc: 0.9153\n",
      "Epoch 13/20\n",
      "109/109 [==============================] - 900s 8s/step - loss: 0.0045 - acc: 0.9997 - val_loss: 0.3665 - val_acc: 0.9153\n",
      "Epoch 14/20\n",
      "109/109 [==============================] - 901s 8s/step - loss: 0.0049 - acc: 0.9994 - val_loss: 0.3663 - val_acc: 0.9160\n",
      "Epoch 15/20\n",
      "109/109 [==============================] - 900s 8s/step - loss: 0.0053 - acc: 0.9991 - val_loss: 0.3676 - val_acc: 0.9153\n",
      "Epoch 16/20\n",
      "109/109 [==============================] - 900s 8s/step - loss: 0.0051 - acc: 0.9991 - val_loss: 0.3672 - val_acc: 0.9167\n",
      "Epoch 17/20\n",
      "109/109 [==============================] - 901s 8s/step - loss: 0.0052 - acc: 0.9991 - val_loss: 0.3678 - val_acc: 0.9173\n",
      "Epoch 18/20\n",
      "109/109 [==============================] - 909s 8s/step - loss: 0.0046 - acc: 0.9997 - val_loss: 0.3689 - val_acc: 0.9153\n",
      "Epoch 19/20\n",
      "109/109 [==============================] - 905s 8s/step - loss: 0.0064 - acc: 0.9989 - val_loss: 0.3693 - val_acc: 0.9160\n",
      "Epoch 20/20\n",
      "109/109 [==============================] - 898s 8s/step - loss: 0.0039 - acc: 1.0000 - val_loss: 0.3701 - val_acc: 0.9160\n"
     ]
    }
   ],
   "source": [
    "# YOUR CODE HERE\n",
    "tb = TensorBoard(log_dir='./logs/vgg16_entire')\n",
    "model.compile(loss='binary_crossentropy', optimizer=optimizers.SGD(lr=1e-4, momentum=0.9), metrics=['accuracy'])\n",
    "\n",
    "history_vgg16_entire = model.fit_generator(\n",
    "        train_generator,\n",
    "        steps_per_epoch=3500 // batch_size,\n",
    "        epochs=20,\n",
    "        validation_data=validation_generator,\n",
    "        validation_steps=1500 // batch_size,\n",
    "        callbacks = [tb],\n",
    "        workers=multiprocessing.cpu_count(),\n",
    "        use_multiprocessing=1,)"
   ]
  },
  {
   "cell_type": "markdown",
   "metadata": {
    "deletable": false,
    "editable": false,
    "nbgrader": {
     "checksum": "653d29a729772d9cb73bfbe24fc76065",
     "grade": false,
     "grade_id": "cell-5dc3e388a41da3ed",
     "locked": true,
     "schema_version": 1,
     "solution": false
    }
   },
   "source": [
    "How does the model perform, compared to the model trained with freezed layers? Create one plot with the training accuracy and another with the validation accuracy of the two scenarios."
   ]
  },
  {
   "cell_type": "code",
   "execution_count": 181,
   "metadata": {
    "deletable": false,
    "nbgrader": {
     "checksum": "b7b2e69e2ffc7f5bff07ba62225b4cee",
     "grade": true,
     "grade_id": "cell-7edb12ee397ec817",
     "locked": false,
     "points": 0,
     "schema_version": 1,
     "solution": true
    }
   },
   "outputs": [
    {
     "data": {
      "text/plain": [
       "<matplotlib.legend.Legend at 0x1d87e79748>"
      ]
     },
     "execution_count": 181,
     "metadata": {},
     "output_type": "execute_result"
    },
    {
     "data": {
      "image/png": "[encoded data removed]",
      "text/plain": [
       "<Figure size 1080x360 with 2 Axes>"
      ]
     },
     "metadata": {},
     "output_type": "display_data"
    }
   ],
   "source": [
    "# YOUR CODE HERE\n",
    "fig, axes = plt.subplots(nrows=1, ncols=2, figsize=(15, 5))\n",
    "\n",
    "# summarize history for accuracy\n",
    "axes[0].plot(range(1,21), history_vgg16_freeze.history['acc'], '-x')\n",
    "axes[0].plot(range(1,21), history_vgg16_entire.history['acc'], '-+')\n",
    "axes[0].set_title('Model accuracy (training)')\n",
    "axes[0].set_ylabel('accuracy')\n",
    "axes[0].set_xlabel('epoch')\n",
    "axes[0].set_xticks(range(1,21))\n",
    "axes[0].grid(linestyle='-')\n",
    "axes[0].legend(['model trained w/ top layers', 'model trained w/ entire layers'], loc='lower right')\n",
    "\n",
    "# summarize history for loss\n",
    "axes[1].plot(range(1,21), history_vgg16_freeze.history['val_acc'], '-x')\n",
    "axes[1].plot(range(1,21), history_vgg16_entire.history['val_acc'], '-+')\n",
    "axes[1].set_title('Model accuracy (validation)')\n",
    "axes[1].set_ylabel('accuracy')\n",
    "axes[1].set_xlabel('epoch')\n",
    "axes[1].set_xticks(range(1,21))\n",
    "axes[1].grid(linestyle='-')\n",
    "axes[1].legend(['model trained w/ top layers', 'model trained w/ entire layers'], loc='lower right')"
   ]
  },
  {
   "cell_type": "markdown",
   "metadata": {
    "deletable": false,
    "editable": false,
    "nbgrader": {
     "checksum": "c14cf7017869bbc745425dc4c9d4a7a9",
     "grade": false,
     "grade_id": "cell-5dae528a81d5ff24",
     "locked": true,
     "schema_version": 1,
     "solution": false
    }
   },
   "source": [
    "Did the model's performance improve? Why (why not)?"
   ]
  },
  {
   "cell_type": "markdown",
   "metadata": {
    "deletable": false,
    "nbgrader": {
     "checksum": "69dfca588131944b0e9825a1532de432",
     "grade": true,
     "grade_id": "cell-0f4a5edca490320e",
     "locked": false,
     "points": 1,
     "schema_version": 1,
     "solution": true
    }
   },
   "source": [
    "**Your answer:** The model's performance improved when trained with entrie layers. The original VGG16 model is trained to do a much more complex multi-task classification problem. Because our objective is just to classify whether the image is dog or cat, unfreezing the hidden layers allows the already learned parameters to be further adapted, in a manner that, the network focuses on a much smaller objective (Dog or Cat). This explains the performance improvement."
   ]
  },
  {
   "cell_type": "markdown",
   "metadata": {
    "deletable": false,
    "editable": false,
    "nbgrader": {
     "checksum": "b4d50b78d6ec765ce5b0f627873fa5e3",
     "grade": false,
     "grade_id": "cell-4ed3967e4f6c5f7f",
     "locked": true,
     "schema_version": 1,
     "solution": false
    }
   },
   "source": [
    "Save the model to a HDF5 file."
   ]
  },
  {
   "cell_type": "code",
   "execution_count": 182,
   "metadata": {},
   "outputs": [],
   "source": [
    "model.save('trans_learning_full.h5')"
   ]
  },
  {
   "cell_type": "markdown",
   "metadata": {
    "deletable": false,
    "editable": false,
    "nbgrader": {
     "checksum": "512bd4321118a59c1774035ffde4470d",
     "grade": false,
     "grade_id": "cell-56908ee1e60aa411",
     "locked": true,
     "schema_version": 1,
     "solution": false
    }
   },
   "source": [
    "### 5.3 Improving the top model (optional)"
   ]
  },
  {
   "cell_type": "markdown",
   "metadata": {
    "deletable": false,
    "editable": false,
    "nbgrader": {
     "checksum": "a63ad0cdc8ae853a3b9b6ebd16904186",
     "grade": false,
     "grade_id": "cell-3c8d8e5ab949ee35",
     "locked": true,
     "schema_version": 1,
     "solution": false
    }
   },
   "source": [
    "Improve the architecture for the layers you add on top of VGG16. Try different ideas, and consider comparing them using tensorboard. When you're happy with one architecture, copy it in the cell below and train it here."
   ]
  },
  {
   "cell_type": "code",
   "execution_count": null,
   "metadata": {
    "deletable": false,
    "nbgrader": {
     "checksum": "8e78037ef98c08769cd8104d7541cb51",
     "grade": true,
     "grade_id": "cell-22d09c8401d84b61",
     "locked": false,
     "points": 1,
     "schema_version": 1,
     "solution": true
    }
   },
   "outputs": [],
   "source": [
    "# YOUR CODE HERE"
   ]
  },
  {
   "cell_type": "markdown",
   "metadata": {
    "deletable": false,
    "editable": false,
    "nbgrader": {
     "checksum": "d040142833a356a7174729a7a8aadb1c",
     "grade": false,
     "grade_id": "cell-48933baad6c5afeb",
     "locked": true,
     "schema_version": 1,
     "solution": false
    }
   },
   "source": [
    "How does the model perform, compared to the model trained in step 5.2? Create one plot with the training accuracy and another with the validation accuracy of the two scenarios."
   ]
  },
  {
   "cell_type": "code",
   "execution_count": null,
   "metadata": {
    "deletable": false,
    "nbgrader": {
     "checksum": "0bac4e10ca36850170af565096710d1c",
     "grade": true,
     "grade_id": "cell-7cb62a04916a848e",
     "locked": false,
     "points": 0,
     "schema_version": 1,
     "solution": true
    }
   },
   "outputs": [],
   "source": [
    "# YOUR CODE HERE"
   ]
  },
  {
   "cell_type": "markdown",
   "metadata": {
    "deletable": false,
    "editable": false,
    "nbgrader": {
     "checksum": "729c848775b6b7c20775151cffe38bfa",
     "grade": false,
     "grade_id": "cell-8bbfa3e11e2dfff9",
     "locked": true,
     "schema_version": 1,
     "solution": false
    }
   },
   "source": [
    "Save the model to a HDF5 file."
   ]
  },
  {
   "cell_type": "code",
   "execution_count": null,
   "metadata": {},
   "outputs": [],
   "source": [
    "model.save('best_trans_learning.h5')"
   ]
  },
  {
   "cell_type": "markdown",
   "metadata": {
    "deletable": false,
    "editable": false,
    "nbgrader": {
     "checksum": "4b192e3a46581dd6f57326ddb21ee49c",
     "grade": false,
     "grade_id": "cell-ad0efbac33de5a65",
     "locked": true,
     "schema_version": 1,
     "solution": false
    }
   },
   "source": [
    "## 6. Final training"
   ]
  },
  {
   "cell_type": "markdown",
   "metadata": {
    "deletable": false,
    "editable": false,
    "nbgrader": {
     "checksum": "6e460754d2c0f05f0e79ae982a3fe3d3",
     "grade": false,
     "grade_id": "cell-cf811afdac96843b",
     "locked": true,
     "schema_version": 1,
     "solution": false
    }
   },
   "source": [
    "Now we'll train the model that achieved the best performance so far using the entire dataset.\n",
    "\n",
    "**Note**: start the optimization with the weights you obtained training in the smaller subset, i.e. *not* from scratch."
   ]
  },
  {
   "cell_type": "markdown",
   "metadata": {
    "deletable": false,
    "editable": false,
    "nbgrader": {
     "checksum": "10fada090ba96eae198313ce7e9f1e22",
     "grade": false,
     "grade_id": "cell-3ae2a65188e4ac74",
     "locked": true,
     "schema_version": 1,
     "solution": false
    }
   },
   "source": [
    "First, create two new data generators, one for training samples and one for validation samples. This time, they'll load data from the folders for the entire dataset."
   ]
  },
  {
   "cell_type": "code",
   "execution_count": null,
   "metadata": {
    "deletable": false,
    "nbgrader": {
     "checksum": "62bfd99d9d34913ada18493c74745706",
     "grade": true,
     "grade_id": "cell-64eaa83780f5eac9",
     "locked": false,
     "points": 0,
     "schema_version": 1,
     "solution": true
    }
   },
   "outputs": [],
   "source": [
    "model = load_model('trans_learning_full.h5')\n",
    "\n",
    "# YOUR CODE HERE"
   ]
  },
  {
   "cell_type": "markdown",
   "metadata": {
    "deletable": false,
    "editable": false,
    "nbgrader": {
     "checksum": "e7ae11154dee1b18040a35a6990ed284",
     "grade": false,
     "grade_id": "cell-f3f79586de42561b",
     "locked": true,
     "schema_version": 1,
     "solution": false
    }
   },
   "source": [
    "Create the callbacks you would like to use and train your model. This optimization might take a long time, so TensorBoard is advised ;)."
   ]
  },
  {
   "cell_type": "code",
   "execution_count": null,
   "metadata": {
    "deletable": false,
    "nbgrader": {
     "checksum": "bad26172f9b786e6209e418f1ace058e",
     "grade": true,
     "grade_id": "cell-c7dd71a632b5f152",
     "locked": false,
     "points": 2,
     "schema_version": 1,
     "solution": true
    }
   },
   "outputs": [],
   "source": [
    "# YOUR CODE HERE"
   ]
  },
  {
   "cell_type": "markdown",
   "metadata": {
    "deletable": false,
    "editable": false,
    "nbgrader": {
     "checksum": "d0ab46f558fb4b49f877ca0bae45376b",
     "grade": false,
     "grade_id": "cell-b1861d3a543c6386",
     "locked": true,
     "schema_version": 1,
     "solution": false
    }
   },
   "source": [
    "How does the model perform now when trained on the entire dataset, compared to when only trained on the smaller subset of data? Create one plot with the training accuracy and another with the validation accuracy of the two scenarios."
   ]
  },
  {
   "cell_type": "code",
   "execution_count": null,
   "metadata": {
    "deletable": false,
    "nbgrader": {
     "checksum": "52bacfa672fbc7eca004c87d041e3411",
     "grade": true,
     "grade_id": "cell-ceaac6be60ce36a9",
     "locked": false,
     "points": 0,
     "schema_version": 1,
     "solution": true
    }
   },
   "outputs": [],
   "source": [
    "# YOUR CODE HERE"
   ]
  },
  {
   "cell_type": "markdown",
   "metadata": {
    "deletable": false,
    "editable": false,
    "nbgrader": {
     "checksum": "fa3d1d443f52a1489ac198ca29ddd0c9",
     "grade": false,
     "grade_id": "cell-b38092b08c150e7d",
     "locked": true,
     "schema_version": 1,
     "solution": false
    }
   },
   "source": [
    "What can you conclude from these plots?"
   ]
  },
  {
   "cell_type": "markdown",
   "metadata": {
    "deletable": false,
    "nbgrader": {
     "checksum": "3a4a7b569af9834b505cc8d5daffb2d1",
     "grade": true,
     "grade_id": "cell-694a3fbb7f081da8",
     "locked": false,
     "points": 1,
     "schema_version": 1,
     "solution": true
    }
   },
   "source": [
    "**Your answer:** (fill in here)"
   ]
  },
  {
   "cell_type": "markdown",
   "metadata": {
    "deletable": false,
    "editable": false,
    "nbgrader": {
     "checksum": "da9293dc623b91059c547544b509ad7b",
     "grade": false,
     "grade_id": "cell-5e1ddfbfceb4d194",
     "locked": true,
     "schema_version": 1,
     "solution": false
    }
   },
   "source": [
    "## 7. Evaluation on test set"
   ]
  },
  {
   "cell_type": "markdown",
   "metadata": {
    "deletable": false,
    "editable": false,
    "nbgrader": {
     "checksum": "cd96692057f0be0c7cb1e9c2769f0991",
     "grade": false,
     "grade_id": "cell-a97630bf5d85363f",
     "locked": true,
     "schema_version": 1,
     "solution": false
    }
   },
   "source": [
    "Now we'll evaluate your final model, obtained in step 6, on the test set. As mentioned before, the samples in the test set are not labeled, so we can't compute any performance metrics ourselves. Instead, we'll create a .csv file containing the predictions for each sample, and submit it to Kaggle for evaluation."
   ]
  },
  {
   "cell_type": "markdown",
   "metadata": {
    "deletable": false,
    "editable": false,
    "nbgrader": {
     "checksum": "891007ea6b998a0bfd810187d1e87208",
     "grade": false,
     "grade_id": "cell-96a8fded54ed7011",
     "locked": true,
     "schema_version": 1,
     "solution": false
    }
   },
   "source": [
    "Compute the predictions for all samples in the test set according to your best model, and save it in a .csv file with the format expected by the competition.\n",
    "\n",
    "Tip:\n",
    "- There is a sample_submission file available for download in the same place where you downloaded the data from. Take a look at it to better understand what is the expected format here.\n",
    "\n",
    "Hints:\n",
    "- The Python module `os` has a `listdir` function, which returns the filenames of all files in a given path.\n",
    "- If you don't know how to create and write to files with Python, Google can help.\n",
    "- Keras has a submodule called `preprocessing.image`, with some handy functions (for instance `load_img` and `img_to_array`)"
   ]
  },
  {
   "cell_type": "code",
   "execution_count": null,
   "metadata": {
    "deletable": false,
    "nbgrader": {
     "checksum": "e235a9ab5690a066143575414247f751",
     "grade": true,
     "grade_id": "cell-cc77ac7849f856e1",
     "locked": false,
     "points": 0,
     "schema_version": 1,
     "solution": true
    }
   },
   "outputs": [],
   "source": [
    "# YOUR CODE HERE"
   ]
  },
  {
   "cell_type": "markdown",
   "metadata": {
    "deletable": false,
    "editable": false,
    "nbgrader": {
     "checksum": "1e57b252395ed2657e8f39a69dbf4248",
     "grade": false,
     "grade_id": "cell-faf8664f26ff7f4e",
     "locked": true,
     "schema_version": 1,
     "solution": false
    }
   },
   "source": [
    "Now that you created your submission file, submit it to Kaggle for evaluation. The [old competition](https://www.kaggle.com/c/dogs-vs-cats) does not allow submissions any more, so submit your file to the [new one](https://www.kaggle.com/c/dogs-vs-cats-redux-kernels-edition). Kaggle evaluates your submission according to your log-loss score. Which score did you obtain?"
   ]
  },
  {
   "cell_type": "markdown",
   "metadata": {
    "deletable": false,
    "nbgrader": {
     "checksum": "e4a90a8a13658eeb9af3ad05c63220de",
     "grade": true,
     "grade_id": "cell-e951dcec64dec85d",
     "locked": false,
     "points": 2,
     "schema_version": 1,
     "solution": true
    }
   },
   "source": [
    "**Your answer:** (fill in here)"
   ]
  },
  {
   "cell_type": "markdown",
   "metadata": {
    "deletable": false,
    "editable": false,
    "nbgrader": {
     "checksum": "e8a7f3a8236f43994efe29067d7237c2",
     "grade": false,
     "grade_id": "cell-dc362abcfef32eae",
     "locked": true,
     "schema_version": 1,
     "solution": false
    }
   },
   "source": [
    "What was the username you used for this submission?"
   ]
  },
  {
   "cell_type": "markdown",
   "metadata": {
    "deletable": false,
    "nbgrader": {
     "checksum": "8cc61665c676edcd9192df3c15714aa3",
     "grade": true,
     "grade_id": "cell-d519532bb1f957c3",
     "locked": false,
     "points": 0,
     "schema_version": 1,
     "solution": true
    }
   },
   "source": [
    "**Your answer:** (fill in here)"
   ]
  }
 ],
 "metadata": {
  "kernelspec": {
   "display_name": "Python 3",
   "language": "python",
   "name": "python3"
  },
  "language_info": {
   "codemirror_mode": {
    "name": "ipython",
    "version": 3
   },
   "file_extension": ".py",
   "mimetype": "text/x-python",
   "name": "python",
   "nbconvert_exporter": "python",
   "pygments_lexer": "ipython3",
   "version": "3.6.3"
  }
 },
 "nbformat": 4,
 "nbformat_minor": 2
}
